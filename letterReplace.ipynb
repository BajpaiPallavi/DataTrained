{
 "cells": [
  {
   "cell_type": "code",
   "execution_count": 46,
   "id": "7dd1c202",
   "metadata": {},
   "outputs": [
    {
     "data": {
      "text/plain": [
       "'he  opa  avi'"
      ]
     },
     "execution_count": 46,
     "metadata": {},
     "output_type": "execute_result"
    }
   ],
   "source": [
    "str1 = \"hellopallavi\"\n",
    "str1List=list(str1)\n",
    "str1len = len(str1List)\n",
    "set1 = set(str1)\n",
    "LL=[]\n",
    "CL=[]\n",
    "for i in set1:\n",
    "    count =0\n",
    "    letter= i\n",
    "    dict1['letter']=i\n",
    "    for j in range(0,str1len-1):\n",
    "        if str1List[j]==letter:\n",
    "            count= count+1\n",
    "    LL.append(i)\n",
    "    CL.append(count)\n",
    "maxCount=max(CL)\n",
    "maxCountIndex = CL.index(maxCount)\n",
    "delLetter=LL[maxCountIndex]\n",
    "finalStr = str1.replace(delLetter,\" \")\n",
    "\n",
    "finalStr"
   ]
  },
  {
   "cell_type": "code",
   "execution_count": 6,
   "id": "dffd2968",
   "metadata": {},
   "outputs": [
    {
     "data": {
      "text/plain": [
       "{'a', 'e', 'h', 'i', 'l', 'o', 'p', 'v'}"
      ]
     },
     "execution_count": 6,
     "metadata": {},
     "output_type": "execute_result"
    }
   ],
   "source": []
  },
  {
   "cell_type": "code",
   "execution_count": 45,
   "id": "a30d2886",
   "metadata": {},
   "outputs": [
    {
     "data": {
      "text/plain": [
       "'he  opa  avi'"
      ]
     },
     "execution_count": 45,
     "metadata": {},
     "output_type": "execute_result"
    }
   ],
   "source": []
  },
  {
   "cell_type": "code",
   "execution_count": null,
   "id": "cb5cf40b",
   "metadata": {},
   "outputs": [],
   "source": []
  },
  {
   "cell_type": "code",
   "execution_count": null,
   "id": "0c2014a8",
   "metadata": {},
   "outputs": [],
   "source": []
  }
 ],
 "metadata": {
  "kernelspec": {
   "display_name": "Python 3",
   "language": "python",
   "name": "python3"
  },
  "language_info": {
   "codemirror_mode": {
    "name": "ipython",
    "version": 3
   },
   "file_extension": ".py",
   "mimetype": "text/x-python",
   "name": "python",
   "nbconvert_exporter": "python",
   "pygments_lexer": "ipython3",
   "version": "3.8.8"
  }
 },
 "nbformat": 4,
 "nbformat_minor": 5
}
