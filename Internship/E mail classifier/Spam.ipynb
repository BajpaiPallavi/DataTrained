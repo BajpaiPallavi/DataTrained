{
 "cells": [
  {
   "cell_type": "code",
   "execution_count": 3,
   "id": "75305b19",
   "metadata": {},
   "outputs": [],
   "source": [
    "import numpy as np\n",
    "import pandas as pd\n",
    "from subprocess import check_output\n",
    "import pandas as pd\n",
    "import re\n",
    "from nltk.corpus import stopwords\n",
    "from sklearn import svm\n",
    "import numpy as np\n",
    "from sklearn.feature_extraction.text import CountVectorizer\n",
    "from tqdm import tqdm\n",
    "import matplotlib.pyplot as plt\n"
   ]
  },
  {
   "cell_type": "code",
   "execution_count": 5,
   "id": "b643574e",
   "metadata": {},
   "outputs": [
    {
     "data": {
      "text/plain": [
       "((5000, 1000), (5000,))"
      ]
     },
     "execution_count": 5,
     "metadata": {},
     "output_type": "execute_result"
    }
   ],
   "source": [
    "class Dataset:\n",
    "    def __init__(self, path):\n",
    "        self.path = path\n",
    "        self.vectorizer = CountVectorizer(analyzer = \"word\",tokenizer = None,preprocessor = None,stop_words = None, max_features = 1000)\n",
    "        self.stoi = {\n",
    "            'ham': 0,\n",
    "            'spam': 1\n",
    "        }\n",
    "        self.itos = {\n",
    "            0: 'ham',\n",
    "            1: 'spam'\n",
    "        }\n",
    "        \n",
    "    def preprocess_data(self):\n",
    "        email=pd.read_csv(self.path,encoding='latin-1')\n",
    "        email=email.rename(columns = {'v1':'label','v2':'message'})\n",
    "        cols=['label','message']\n",
    "        email=email[cols]\n",
    "        email=email.dropna(axis=0, how='any')\n",
    "        clean_email=[]\n",
    "        labels = []\n",
    "        num_emails=email[\"message\"].size\n",
    "        for i in range(0,num_emails):\n",
    "            clean_email.append(Dataset.email_processing(email[\"message\"][i]))\n",
    "            labels.append(self.stoi[email[\"label\"][i]])\n",
    "            \n",
    "        email[\"Processed_Msg\"]=clean_email\n",
    "        cols2=[\"Processed_Msg\",\"label\"]\n",
    "        email=email[cols2]\n",
    "        \n",
    "        self.X_train=email[\"Processed_Msg\"][:5000]\n",
    "        self.Y_train=labels[:5000]\n",
    "        self.X_test=email[\"Processed_Msg\"][5000:]\n",
    "        self.Y_test=labels[5000:]\n",
    "    \n",
    "    @staticmethod\n",
    "    def email_processing(raw_email):\n",
    "        letters_only=re.sub(\"[^a-zA-Z]\",\" \",raw_email)\n",
    "        words=letters_only.lower().split()\n",
    "        stops=set(stopwords.words(\"english\"))\n",
    "        m_w=[w for w in words if not w in stops]\n",
    "        return (\" \".join(m_w))\n",
    "    \n",
    "\n",
    "    \n",
    "    def classify_wise_data(self, image_data, labels):\n",
    "        data = {}\n",
    "        for i in range(len(np.unique(labels))):\n",
    "            data[i] = []\n",
    "        for i in range(image_data.shape[0]):\n",
    "            data[labels[i]].append(image_data[i])\n",
    "        for k in data.keys():\n",
    "            data[k] = np.array(data[k])\n",
    "        return data\n",
    "    \n",
    "    def load_data(self, data_type='train'):\n",
    "        if data_type == 'train':\n",
    "            data_features = self.vectorizer.fit_transform(self.X_train)\n",
    "            labels = np.array(self.Y_train)\n",
    "        else:\n",
    "            data_features = self.vectorizer.transform(self.X_test)\n",
    "            labels = np.array(self.Y_test)\n",
    "        data_features=data_features.toarray()\n",
    "        \n",
    "        data = self.classify_wise_data(data_features, labels)\n",
    "        return data_features, labels, data\n",
    "dataset = Dataset(path = \"spam.csv\")\n",
    "dataset.preprocess_data()\n",
    "train_image_data, train_labels, train_data = dataset.load_data('train')\n",
    "train_image_data.shape, train_labels.shape"
   ]
  },
  {
   "cell_type": "code",
   "execution_count": 6,
   "id": "9b963b93",
   "metadata": {},
   "outputs": [
    {
     "data": {
      "text/plain": [
       "((4327, 1000), (673, 1000))"
      ]
     },
     "execution_count": 6,
     "metadata": {},
     "output_type": "execute_result"
    }
   ],
   "source": [
    "train_data[0].shape, train_data[1].shape\n"
   ]
  },
  {
   "cell_type": "code",
   "execution_count": 7,
   "id": "e7a8da62",
   "metadata": {},
   "outputs": [],
   "source": [
    "val_image_data, val_labels, val_data = dataset.load_data('val')\n"
   ]
  },
  {
   "cell_type": "code",
   "execution_count": 8,
   "id": "09eb89b8",
   "metadata": {},
   "outputs": [
    {
     "data": {
      "text/plain": [
       "((572, 1000), (572,))"
      ]
     },
     "execution_count": 8,
     "metadata": {},
     "output_type": "execute_result"
    }
   ],
   "source": [
    "val_image_data.shape, val_labels.shape\n"
   ]
  },
  {
   "cell_type": "code",
   "execution_count": 9,
   "id": "791e2c60",
   "metadata": {},
   "outputs": [
    {
     "data": {
      "text/plain": [
       "((498, 1000), (74, 1000))"
      ]
     },
     "execution_count": 9,
     "metadata": {},
     "output_type": "execute_result"
    }
   ],
   "source": [
    "val_data[0].shape, val_data[1].shape\n"
   ]
  },
  {
   "cell_type": "code",
   "execution_count": 17,
   "id": "c2a18840",
   "metadata": {},
   "outputs": [],
   "source": [
    "class SVM:\n",
    "    def __init__(self, total_class, C=1.0):\n",
    "        self.C = C\n",
    "        self.W = 0\n",
    "        self.b = 0\n",
    "        self.total_class = total_class\n",
    "        \n",
    "    def hinge_loss(self, W, b, X, Y):\n",
    "        loss = 0.0\n",
    "        loss += .5 * np.dot(W, W.T)\n",
    "        m = X.shape[0]\n",
    "        for i in range(m):\n",
    "            ti = Y[i] * (np.dot(W,X[i].T) + b)\n",
    "            loss += self.C * max(0,(1 - ti))\n",
    "        return loss[0][0]\n",
    "    \n",
    "    def fit(self, X, Y, batch_size=50, learning_rate=0.001, max_iter=500):\n",
    "        print(X.shape, Y.shape)\n",
    "        num_features = X.shape[1]\n",
    "        num_samples = X.shape[0]\n",
    "        n = learning_rate\n",
    "        c = self.C\n",
    "        W = np.zeros((1, num_features))\n",
    "        bias = 0\n",
    "        losses = []  \n",
    "        for i in tqdm(range(max_iter)):\n",
    "            l = self.hinge_loss(W, bias, X, Y)\n",
    "            losses.append(l)\n",
    "            ids = np.arange(num_samples)\n",
    "            np.random.shuffle(ids)\n",
    "            for batch_start in range(0, num_samples, batch_size):\n",
    "                gradw = 0\n",
    "                gradb = 0\n",
    "                for j in range(batch_start, batch_start + batch_size):\n",
    "                    if j < num_samples:\n",
    "                        i = ids[j]\n",
    "                        ti =  Y[i] * (np.dot(W, X[i].T) + bias)\n",
    "                        if ti > 1:\n",
    "                            gradw += 0\n",
    "                            gradb += 0\n",
    "                        else:\n",
    "                            gradw += c * Y[i] * X[i]\n",
    "                            gradb += c * Y[i]  \n",
    "                W = W - n * W + n * gradw\n",
    "                bias = bias + n * gradb        \n",
    "        self.W = W\n",
    "        self.b = bias\n",
    "        return W, bias, losses\n",
    "    \n",
    "    def get_data_pair(self, data1, data2):\n",
    "        len1, len2 = data1.shape[0], data2.shape[0]\n",
    "        samples = len1 + len2\n",
    "        features = data1.shape[1]\n",
    "        data_pair = np.zeros((samples,features))\n",
    "        data_labels = np.zeros((samples,))\n",
    "        data_pair[:len1,:] = data1\n",
    "        data_pair[len1:,:] = data2\n",
    "        data_labels[:len1] = -1\n",
    "        data_labels[len1:] = +1\n",
    "        return data_pair, data_labels\n",
    "    \n",
    "    def train(self, data, batch_size=50, learning_rate=0.00001, max_iter=500):\n",
    "        self.svm_classifiers = {}\n",
    "        for i in range(self.total_class):\n",
    "            self.svm_classifiers[i] = {}\n",
    "            for j in range(i + 1, self.total_class):\n",
    "                xpair, ypair = self.get_data_pair(data[i], data[j])\n",
    "                wts, b, loss = self.fit(xpair, ypair, batch_size = batch_size, learning_rate=learning_rate, max_iter=max_iter)\n",
    "                self.svm_classifiers[i][j] = (wts, b)\n",
    "                plt.plot(loss)\n",
    "                plt.show()\n",
    "        return loss\n",
    "    \n",
    "    def binary_predict(self, x, w, b):\n",
    "        z  = np.dot(x, w.T) + b\n",
    "        return 1 if z >= 0 else -1\n",
    "        \n",
    "    def predict(self, x):\n",
    "        count = np.zeros((self.total_class,))\n",
    "        for i in range(self.total_class):\n",
    "            for j in range(i + 1, self.total_class):\n",
    "                w, b = self.svm_classifiers[i][j]\n",
    "                z = self.binary_predict(x, w, b)\n",
    "                if z == 1:\n",
    "                    count[j] += 1\n",
    "                else:\n",
    "                    count[i] += 1\n",
    "        final_prediction = np.argmax(count)\n",
    "        return final_prediction\n",
    "    \n",
    "    def accuracy(self, x, y):\n",
    "#         x = self.pca.transform(x)\n",
    "        count = 0\n",
    "        predictions = []\n",
    "        for i in range(x.shape[0]):\n",
    "            prediction = self.predict(x[i])\n",
    "            predictions.append(prediction)\n",
    "            if(prediction == y[i]):\n",
    "                count += 1\n",
    "        return count / x.shape[0], predictions"
   ]
  },
  {
   "cell_type": "code",
   "execution_count": 18,
   "id": "1d73b6e7",
   "metadata": {},
   "outputs": [
    {
     "name": "stderr",
     "output_type": "stream",
     "text": [
      "  0%|          | 0/1000 [00:00<?, ?it/s]"
     ]
    },
    {
     "name": "stdout",
     "output_type": "stream",
     "text": [
      "(5000, 1000) (5000,)\n"
     ]
    },
    {
     "name": "stderr",
     "output_type": "stream",
     "text": [
      "100%|██████████| 1000/1000 [02:30<00:00,  6.63it/s]\n"
     ]
    },
    {
     "data": {
      "image/png": "[encoded data removed]",
      "text/plain": [
       "<Figure size 432x288 with 1 Axes>"
      ]
     },
     "metadata": {
      "needs_background": "light"
     },
     "output_type": "display_data"
    }
   ],
   "source": [
    "svm = SVM(len(train_data), 2)\n",
    "loss = svm.train(train_data, batch_size=32, learning_rate=0.001, max_iter=1000)"
   ]
  },
  {
   "cell_type": "code",
   "execution_count": 21,
   "id": "af5a45ce",
   "metadata": {},
   "outputs": [],
   "source": [
    "import seaborn as sn\n",
    "from sklearn.metrics import accuracy_score, f1_score\n",
    "from sklearn.metrics import confusion_matrix\n",
    "\n",
    "def plot_confusion_matrix(label_list,pred_list):\n",
    "    cm_percentage=confusion_matrix(label_list,pred_list, normalize='true')\n",
    "    cm_number=confusion_matrix(label_list,pred_list)\n",
    "    print(cm_number)\n",
    "    df_cm = pd.DataFrame(cm_percentage*100, range(2), range(2))\n",
    "    plt.figure(figsize=(12,8))\n",
    "    sn.set(font_scale=1.4) # for label size\n",
    "    ax = sn.heatmap(df_cm, annot=True,cmap='coolwarm', annot_kws={\"size\": 16}, fmt='.2f')\n",
    "    for t, number in zip(ax.texts, np.squeeze(cm_number.reshape(-1,1))): \n",
    "        t.set_text(t.get_text() + \"% (\" + str(number) + \")\" )\n",
    "    plt.ylabel('Actual')\n",
    "    plt.xlabel('Predicted')\n",
    "    \n",
    "def evaluate(y_true, y_pred):\n",
    "    return (\n",
    "        accuracy_score(y_true, y_pred), \n",
    "        f1_score(y_true, y_pred, average='macro')\n",
    "    )\n",
    "def predict(model, data):\n",
    "    predictions = []\n",
    "    for image in tqdm(data):\n",
    "        pred = model.predict(image)\n",
    "        predictions.append(pred)\n",
    "    return np.array(predictions)"
   ]
  },
  {
   "cell_type": "code",
   "execution_count": 22,
   "id": "628bc63e",
   "metadata": {},
   "outputs": [
    {
     "name": "stderr",
     "output_type": "stream",
     "text": [
      "100%|██████████| 5000/5000 [00:00<00:00, 46725.90it/s]"
     ]
    },
    {
     "name": "stdout",
     "output_type": "stream",
     "text": [
      "Accuracy: 0.9708, F1-score: 0.9312665336940869 of SVM on train dataset\n"
     ]
    },
    {
     "name": "stderr",
     "output_type": "stream",
     "text": [
      "\n"
     ]
    }
   ],
   "source": [
    "train_predictions = predict(svm, train_image_data)\n",
    "result = evaluate(train_labels, train_predictions)\n",
    "print(\"Accuracy: {}, F1-score: {} of SVM on train dataset\".format(result[0], result[1]))"
   ]
  },
  {
   "cell_type": "code",
   "execution_count": 23,
   "id": "8a1adb81",
   "metadata": {},
   "outputs": [
    {
     "name": "stderr",
     "output_type": "stream",
     "text": [
      "100%|██████████| 572/572 [00:00<00:00, 27615.39it/s]"
     ]
    },
    {
     "name": "stdout",
     "output_type": "stream",
     "text": [
      "Accuracy: 0.9755244755244755, F1-score: 0.9408305009605438 of SVM\n"
     ]
    },
    {
     "name": "stderr",
     "output_type": "stream",
     "text": [
      "\n"
     ]
    }
   ],
   "source": [
    "predictions = predict(svm, val_image_data)\n",
    "result = evaluate(val_labels, predictions)\n",
    "print(\"Accuracy: {}, F1-score: {} of SVM\".format(result[0], result[1]))"
   ]
  },
  {
   "cell_type": "code",
   "execution_count": 24,
   "id": "b252417b",
   "metadata": {},
   "outputs": [
    {
     "name": "stdout",
     "output_type": "stream",
     "text": [
      "[[498   0]\n",
      " [ 14  60]]\n"
     ]
    },
    {
     "data": {
      "image/png": "[encoded data removed]",
      "text/plain": [
       "<Figure size 864x576 with 2 Axes>"
      ]
     },
     "metadata": {
      "needs_background": "light"
     },
     "output_type": "display_data"
    }
   ],
   "source": [
    "plot_confusion_matrix(val_labels, predictions)\n"
   ]
  },
  {
   "cell_type": "code",
   "execution_count": 25,
   "id": "b2313d6c",
   "metadata": {},
   "outputs": [
    {
     "data": {
      "text/plain": [
       "SVC(kernel='linear')"
      ]
     },
     "execution_count": 25,
     "metadata": {},
     "output_type": "execute_result"
    }
   ],
   "source": [
    "#Import svm model\n",
    "from sklearn import svm\n",
    "\n",
    "#Create a svm Classifier\n",
    "clf = svm.SVC(kernel='linear') # Linear Kernel\n",
    "\n",
    "#Train the model using the training sets\n",
    "clf.fit(train_image_data, train_labels)"
   ]
  },
  {
   "cell_type": "code",
   "execution_count": 26,
   "id": "098b27f1",
   "metadata": {},
   "outputs": [
    {
     "name": "stdout",
     "output_type": "stream",
     "text": [
      "Accuracy: 0.997, F1-score: 0.9935082420657084 of SVM on train dataset\n"
     ]
    }
   ],
   "source": [
    "y_pred = clf.predict(train_image_data)\n",
    "result = evaluate(train_labels, y_pred)\n",
    "print(\"Accuracy: {}, F1-score: {} of SVM on train dataset\".format(result[0], result[1]))"
   ]
  },
  {
   "cell_type": "code",
   "execution_count": 27,
   "id": "35caface",
   "metadata": {},
   "outputs": [
    {
     "name": "stdout",
     "output_type": "stream",
     "text": [
      "Accuracy: 0.9842657342657343, F1-score: 0.9644610127368749 of SVM on val dataset\n"
     ]
    }
   ],
   "source": [
    "#Predict the response for test dataset\n",
    "y_pred = clf.predict(val_image_data)\n",
    "result = evaluate(val_labels, y_pred)\n",
    "print(\"Accuracy: {}, F1-score: {} of SVM on val dataset\".format(result[0], result[1]))"
   ]
  },
  {
   "cell_type": "code",
   "execution_count": 28,
   "id": "6879aa88",
   "metadata": {},
   "outputs": [
    {
     "name": "stdout",
     "output_type": "stream",
     "text": [
      "[[495   3]\n",
      " [  6  68]]\n"
     ]
    },
    {
     "data": {
      "image/png": "[encoded data removed]",
      "text/plain": [
       "<Figure size 864x576 with 2 Axes>"
      ]
     },
     "metadata": {},
     "output_type": "display_data"
    }
   ],
   "source": [
    "plot_confusion_matrix(val_labels, y_pred)\n"
   ]
  },
  {
   "cell_type": "code",
   "execution_count": 29,
   "id": "0da53e08",
   "metadata": {},
   "outputs": [
    {
     "data": {
      "text/plain": [
       "KNeighborsClassifier()"
      ]
     },
     "execution_count": 29,
     "metadata": {},
     "output_type": "execute_result"
    }
   ],
   "source": [
    "from sklearn.neighbors import KNeighborsClassifier\n",
    "\n",
    "model = KNeighborsClassifier(n_neighbors=5)\n",
    "model.fit(train_image_data, train_labels)"
   ]
  },
  {
   "cell_type": "code",
   "execution_count": 30,
   "id": "814a707b",
   "metadata": {},
   "outputs": [
    {
     "name": "stdout",
     "output_type": "stream",
     "text": [
      "Accuracy: 0.95, F1-score: 0.8719102707878359 of SVM on train dataset\n"
     ]
    }
   ],
   "source": [
    "y_pred = model.predict(train_image_data)\n",
    "result = evaluate(train_labels, y_pred)\n",
    "print(\"Accuracy: {}, F1-score: {} of SVM on train dataset\".format(result[0], result[1]))"
   ]
  },
  {
   "cell_type": "code",
   "execution_count": 31,
   "id": "fc91531e",
   "metadata": {},
   "outputs": [
    {
     "name": "stdout",
     "output_type": "stream",
     "text": [
      "Accuracy: 0.9458041958041958, F1-score: 0.8524288650870928 of SVM on val dataset\n"
     ]
    }
   ],
   "source": [
    "#Predict the response for test dataset\n",
    "y_pred = model.predict(val_image_data)\n",
    "result = evaluate(val_labels, y_pred)\n",
    "print(\"Accuracy: {}, F1-score: {} of SVM on val dataset\".format(result[0], result[1]))"
   ]
  },
  {
   "cell_type": "code",
   "execution_count": 32,
   "id": "59f61508",
   "metadata": {},
   "outputs": [
    {
     "name": "stdout",
     "output_type": "stream",
     "text": [
      "[[498   0]\n",
      " [ 31  43]]\n"
     ]
    },
    {
     "data": {
      "image/png": "[encoded data removed]",
      "text/plain": [
       "<Figure size 864x576 with 2 Axes>"
      ]
     },
     "metadata": {},
     "output_type": "display_data"
    }
   ],
   "source": [
    "plot_confusion_matrix(val_labels, y_pred)\n"
   ]
  },
  {
   "cell_type": "code",
   "execution_count": null,
   "id": "6d74d3fc",
   "metadata": {},
   "outputs": [],
   "source": []
  }
 ],
 "metadata": {
  "kernelspec": {
   "display_name": "Python 3",
   "language": "python",
   "name": "python3"
  },
  "language_info": {
   "codemirror_mode": {
    "name": "ipython",
    "version": 3
   },
   "file_extension": ".py",
   "mimetype": "text/x-python",
   "name": "python",
   "nbconvert_exporter": "python",
   "pygments_lexer": "ipython3",
   "version": "3.8.8"
  }
 },
 "nbformat": 4,
 "nbformat_minor": 5
}
