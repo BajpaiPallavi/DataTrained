{
 "cells": [
  {
   "cell_type": "code",
   "execution_count": 2,
   "id": "7368cefb",
   "metadata": {},
   "outputs": [
    {
     "ename": "NoSuchElementException",
     "evalue": "Message: no such element: Unable to locate element: {\"method\":\"xpath\",\"selector\":\"/html/body/div[2]/div/div[1]/div/div/main/div[1]\"}\n  (Session info: chrome=107.0.5304.87)\nStacktrace:\n0   chromedriver                        0x000000010bf23598 chromedriver + 4404632\n1   chromedriver                        0x000000010beaafa3 chromedriver + 3911587\n2   chromedriver                        0x000000010bb57e6a chromedriver + 425578\n3   chromedriver                        0x000000010bb8fc91 chromedriver + 654481\n4   chromedriver                        0x000000010bb8fe91 chromedriver + 654993\n5   chromedriver                        0x000000010bbc7274 chromedriver + 881268\n6   chromedriver                        0x000000010bbaddcd chromedriver + 777677\n7   chromedriver                        0x000000010bbc4f79 chromedriver + 872313\n8   chromedriver                        0x000000010bbadbd3 chromedriver + 777171\n9   chromedriver                        0x000000010bb82ced chromedriver + 601325\n10  chromedriver                        0x000000010bb83e51 chromedriver + 605777\n11  chromedriver                        0x000000010bef30ce chromedriver + 4206798\n12  chromedriver                        0x000000010bef7797 chromedriver + 4224919\n13  chromedriver                        0x000000010befea4f chromedriver + 4254287\n14  chromedriver                        0x000000010bef84da chromedriver + 4228314\n15  chromedriver                        0x000000010bed123f chromedriver + 4067903\n16  chromedriver                        0x000000010bf156a8 chromedriver + 4347560\n17  chromedriver                        0x000000010bf15816 chromedriver + 4347926\n18  chromedriver                        0x000000010bf2a8fe chromedriver + 4434174\n19  libsystem_pthread.dylib             0x00007fff203868fc _pthread_start + 224\n20  libsystem_pthread.dylib             0x00007fff20382443 thread_start + 15\n",
     "output_type": "error",
     "traceback": [
      "\u001b[0;31m---------------------------------------------------------------------------\u001b[0m",
      "\u001b[0;31mNoSuchElementException\u001b[0m                    Traceback (most recent call last)",
      "\u001b[0;32m<ipython-input-2-bf727af6e62d>\u001b[0m in \u001b[0;36m<module>\u001b[0;34m\u001b[0m\n\u001b[1;32m      9\u001b[0m \u001b[0mdriver\u001b[0m \u001b[0;34m=\u001b[0m \u001b[0mwebdriver\u001b[0m\u001b[0;34m.\u001b[0m\u001b[0mChrome\u001b[0m\u001b[0;34m(\u001b[0m\u001b[0;34mr\"/Users/pallavishu/Downloads/chromedriver\"\u001b[0m\u001b[0;34m)\u001b[0m\u001b[0;34m\u001b[0m\u001b[0;34m\u001b[0m\u001b[0m\n\u001b[1;32m     10\u001b[0m \u001b[0mdriver\u001b[0m\u001b[0;34m.\u001b[0m\u001b[0mget\u001b[0m\u001b[0;34m(\u001b[0m\u001b[0;34m\"https://www.cardekho.com/used-cars+in+delhi-ncr\"\u001b[0m\u001b[0;34m)\u001b[0m\u001b[0;34m\u001b[0m\u001b[0;34m\u001b[0m\u001b[0m\n\u001b[0;32m---> 11\u001b[0;31m \u001b[0mproduct\u001b[0m \u001b[0;34m=\u001b[0m \u001b[0mdriver\u001b[0m\u001b[0;34m.\u001b[0m\u001b[0mfind_element\u001b[0m\u001b[0;34m(\u001b[0m\u001b[0mBy\u001b[0m\u001b[0;34m.\u001b[0m\u001b[0mXPATH\u001b[0m\u001b[0;34m,\u001b[0m \u001b[0;34m\"/html/body/div[2]/div/div[1]/div/div/main/div[1]\"\u001b[0m\u001b[0;34m)\u001b[0m\u001b[0;34m\u001b[0m\u001b[0;34m\u001b[0m\u001b[0m\n\u001b[0m\u001b[1;32m     12\u001b[0m \u001b[0mproduct\u001b[0m \u001b[0;34m=\u001b[0m \u001b[0mproduct\u001b[0m\u001b[0;34m.\u001b[0m\u001b[0mfind_element\u001b[0m\u001b[0;34m(\u001b[0m\u001b[0mBy\u001b[0m\u001b[0;34m.\u001b[0m\u001b[0mXPATH\u001b[0m\u001b[0;34m,\u001b[0m \u001b[0;34m\"/html/body/div[2]/div/div[1]/div/div/main/div[1]/div[1]/div[5]\"\u001b[0m\u001b[0;34m)\u001b[0m\u001b[0;34m\u001b[0m\u001b[0;34m\u001b[0m\u001b[0m\n\u001b[1;32m     13\u001b[0m \u001b[0mallCarOutDiv\u001b[0m \u001b[0;34m=\u001b[0m \u001b[0mproduct\u001b[0m\u001b[0;34m.\u001b[0m\u001b[0mfind_elements\u001b[0m\u001b[0;34m(\u001b[0m\u001b[0mBy\u001b[0m\u001b[0;34m.\u001b[0m\u001b[0mXPATH\u001b[0m\u001b[0;34m,\u001b[0m \u001b[0;34m'//div[@class=\"gsc_col-md-4 gsc_col-sm-6 gsc_col-xs-12  cardnew\"]'\u001b[0m\u001b[0;34m)\u001b[0m\u001b[0;34m\u001b[0m\u001b[0;34m\u001b[0m\u001b[0m\n",
      "\u001b[0;32m~/opt/anaconda3/lib/python3.8/site-packages/selenium/webdriver/remote/webdriver.py\u001b[0m in \u001b[0;36mfind_element\u001b[0;34m(self, by, value)\u001b[0m\n\u001b[1;32m    854\u001b[0m             \u001b[0mvalue\u001b[0m \u001b[0;34m=\u001b[0m \u001b[0;34m'[name=\"%s\"]'\u001b[0m \u001b[0;34m%\u001b[0m \u001b[0mvalue\u001b[0m\u001b[0;34m\u001b[0m\u001b[0;34m\u001b[0m\u001b[0m\n\u001b[1;32m    855\u001b[0m \u001b[0;34m\u001b[0m\u001b[0m\n\u001b[0;32m--> 856\u001b[0;31m         return self.execute(Command.FIND_ELEMENT, {\n\u001b[0m\u001b[1;32m    857\u001b[0m             \u001b[0;34m'using'\u001b[0m\u001b[0;34m:\u001b[0m \u001b[0mby\u001b[0m\u001b[0;34m,\u001b[0m\u001b[0;34m\u001b[0m\u001b[0;34m\u001b[0m\u001b[0m\n\u001b[1;32m    858\u001b[0m             'value': value})['value']\n",
      "\u001b[0;32m~/opt/anaconda3/lib/python3.8/site-packages/selenium/webdriver/remote/webdriver.py\u001b[0m in \u001b[0;36mexecute\u001b[0;34m(self, driver_command, params)\u001b[0m\n\u001b[1;32m    432\u001b[0m         \u001b[0mresponse\u001b[0m \u001b[0;34m=\u001b[0m \u001b[0mself\u001b[0m\u001b[0;34m.\u001b[0m\u001b[0mcommand_executor\u001b[0m\u001b[0;34m.\u001b[0m\u001b[0mexecute\u001b[0m\u001b[0;34m(\u001b[0m\u001b[0mdriver_command\u001b[0m\u001b[0;34m,\u001b[0m \u001b[0mparams\u001b[0m\u001b[0;34m)\u001b[0m\u001b[0;34m\u001b[0m\u001b[0;34m\u001b[0m\u001b[0m\n\u001b[1;32m    433\u001b[0m         \u001b[0;32mif\u001b[0m \u001b[0mresponse\u001b[0m\u001b[0;34m:\u001b[0m\u001b[0;34m\u001b[0m\u001b[0;34m\u001b[0m\u001b[0m\n\u001b[0;32m--> 434\u001b[0;31m             \u001b[0mself\u001b[0m\u001b[0;34m.\u001b[0m\u001b[0merror_handler\u001b[0m\u001b[0;34m.\u001b[0m\u001b[0mcheck_response\u001b[0m\u001b[0;34m(\u001b[0m\u001b[0mresponse\u001b[0m\u001b[0;34m)\u001b[0m\u001b[0;34m\u001b[0m\u001b[0;34m\u001b[0m\u001b[0m\n\u001b[0m\u001b[1;32m    435\u001b[0m             response['value'] = self._unwrap_value(\n\u001b[1;32m    436\u001b[0m                 response.get('value', None))\n",
      "\u001b[0;32m~/opt/anaconda3/lib/python3.8/site-packages/selenium/webdriver/remote/errorhandler.py\u001b[0m in \u001b[0;36mcheck_response\u001b[0;34m(self, response)\u001b[0m\n\u001b[1;32m    241\u001b[0m                 \u001b[0malert_text\u001b[0m \u001b[0;34m=\u001b[0m \u001b[0mvalue\u001b[0m\u001b[0;34m[\u001b[0m\u001b[0;34m'alert'\u001b[0m\u001b[0;34m]\u001b[0m\u001b[0;34m.\u001b[0m\u001b[0mget\u001b[0m\u001b[0;34m(\u001b[0m\u001b[0;34m'text'\u001b[0m\u001b[0;34m)\u001b[0m\u001b[0;34m\u001b[0m\u001b[0;34m\u001b[0m\u001b[0m\n\u001b[1;32m    242\u001b[0m             \u001b[0;32mraise\u001b[0m \u001b[0mexception_class\u001b[0m\u001b[0;34m(\u001b[0m\u001b[0mmessage\u001b[0m\u001b[0;34m,\u001b[0m \u001b[0mscreen\u001b[0m\u001b[0;34m,\u001b[0m \u001b[0mstacktrace\u001b[0m\u001b[0;34m,\u001b[0m \u001b[0malert_text\u001b[0m\u001b[0;34m)\u001b[0m  \u001b[0;31m# type: ignore[call-arg]  # mypy is not smart enough here\u001b[0m\u001b[0;34m\u001b[0m\u001b[0;34m\u001b[0m\u001b[0m\n\u001b[0;32m--> 243\u001b[0;31m         \u001b[0;32mraise\u001b[0m \u001b[0mexception_class\u001b[0m\u001b[0;34m(\u001b[0m\u001b[0mmessage\u001b[0m\u001b[0;34m,\u001b[0m \u001b[0mscreen\u001b[0m\u001b[0;34m,\u001b[0m \u001b[0mstacktrace\u001b[0m\u001b[0;34m)\u001b[0m\u001b[0;34m\u001b[0m\u001b[0;34m\u001b[0m\u001b[0m\n\u001b[0m",
      "\u001b[0;31mNoSuchElementException\u001b[0m: Message: no such element: Unable to locate element: {\"method\":\"xpath\",\"selector\":\"/html/body/div[2]/div/div[1]/div/div/main/div[1]\"}\n  (Session info: chrome=107.0.5304.87)\nStacktrace:\n0   chromedriver                        0x000000010bf23598 chromedriver + 4404632\n1   chromedriver                        0x000000010beaafa3 chromedriver + 3911587\n2   chromedriver                        0x000000010bb57e6a chromedriver + 425578\n3   chromedriver                        0x000000010bb8fc91 chromedriver + 654481\n4   chromedriver                        0x000000010bb8fe91 chromedriver + 654993\n5   chromedriver                        0x000000010bbc7274 chromedriver + 881268\n6   chromedriver                        0x000000010bbaddcd chromedriver + 777677\n7   chromedriver                        0x000000010bbc4f79 chromedriver + 872313\n8   chromedriver                        0x000000010bbadbd3 chromedriver + 777171\n9   chromedriver                        0x000000010bb82ced chromedriver + 601325\n10  chromedriver                        0x000000010bb83e51 chromedriver + 605777\n11  chromedriver                        0x000000010bef30ce chromedriver + 4206798\n12  chromedriver                        0x000000010bef7797 chromedriver + 4224919\n13  chromedriver                        0x000000010befea4f chromedriver + 4254287\n14  chromedriver                        0x000000010bef84da chromedriver + 4228314\n15  chromedriver                        0x000000010bed123f chromedriver + 4067903\n16  chromedriver                        0x000000010bf156a8 chromedriver + 4347560\n17  chromedriver                        0x000000010bf15816 chromedriver + 4347926\n18  chromedriver                        0x000000010bf2a8fe chromedriver + 4434174\n19  libsystem_pthread.dylib             0x00007fff203868fc _pthread_start + 224\n20  libsystem_pthread.dylib             0x00007fff20382443 thread_start + 15\n"
     ]
    }
   ],
   "source": [
    "import selenium\n",
    "import pandas as pd\n",
    "from selenium import webdriver\n",
    "import warnings\n",
    "warnings.filterwarnings('ignore')\n",
    "from selenium.common.exceptions import StaleElementReferenceException\n",
    "from selenium.webdriver.common.by import By\n",
    "import time\n",
    "driver = webdriver.Chrome(r\"/Users/pallavishu/Downloads/chromedriver\")\n",
    "driver.get(\"https://www.cardekho.com/used-cars+in+delhi-ncr\")\n",
    "product = driver.find_element(By.XPATH, \"/html/body/div[2]/div/div[1]/div/div/main/div[1]\")\n",
    "product = product.find_element(By.XPATH, \"/html/body/div[2]/div/div[1]/div/div/main/div[1]/div[1]/div[5]\")\n",
    "allCarOutDiv = product.find_elements(By.XPATH, '//div[@class=\"gsc_col-md-4 gsc_col-sm-6 gsc_col-xs-12  cardnew\"]')\n",
    "cars =[]\n",
    "for carOutDiv in allCarOutDiv:\n",
    "    car={}\n",
    "    wait = WebDriverWait(driver, 10)\n",
    "    carInDiv = carOutDiv.find_element(By.XPATH, '//div[@class=\"shadowWPadding posR \"]')\n",
    "    detailHolder = carInDiv.find_element(By.XPATH, '//div[@class=\"holder hover\"]')\n",
    "    detailHolder = detailHolder.find_element(By.XPATH, '//div[@class=\" gsc_row minheight\"]')\n",
    "    detailHolder = detailHolder.find_element(By.XPATH, '//div[@class=\"gsc_col-xs-7  carsName\"]')\n",
    "    car[\"Name\"] = detailHolder.find_element(By.tagName(\"a\")).text\n",
    "    priceDiv = detailHolder.find_elements(By.tagName(\"div\"))[2]\n",
    "    car[\"New_Price\"] = priceDiv.find_elements(By.tagName(\"span\"))[1].text\n",
    "    car[\"Price\"] = priceDiv.find_elements(By.CLASS_NAME,\"st-price\").text\n",
    "    kmDiv = detailHolder.find_elements(By.tagName(\"div\"))[3]\n",
    "    car[\"Kilometers_Driven\"] = yearDiv.find_elements(By.tagName(\"div\"))[0].text\n",
    "    car[\"Fuel_Type\"] = yearDiv.find_elements(By.tagName(\"div\"))[1].text\n",
    "    carDetails= carInDiv.click()\n",
    "    details = carInDiv.find_element(By.XPATH, '/html/body/div[2]/div/div[1]/div/div/main/div/div[1]/div[1]/div[4]/div/div/div/ul')\n",
    "    yearContainer= details.find_elements(By.tagName(\"li\"))[0]\n",
    "    yearContainer= yearContainer.find_element(By.CLASS_NAME,\"listIcons \")\n",
    "    car[\"Year\"] = yearContainer.find_elements(By.tagName(\"div\"))[1].text\n",
    "    ownerContainer= details.find_elements(By.tagName(\"li\"))[5]\n",
    "    ownerContainer = ownerContainer.find_element(By.CLASS_NAME,\"listIcons \")\n",
    "    car[\"Owner_Type\"] = ownerContainer.find_elements(By.tagName(\"div\"))[1].text\n",
    "    transmissionContainer= details.find_elements(By.tagName(\"li\"))[5]\n",
    "    transmissionContainer = ownerContainer.find_element(By.CLASS_NAME,\"listIcons \")\n",
    "    car[\"Transmission\"] = ownerContainer.find_elements(By.tagName(\"div\"))[7].text\n",
    "    details = carDetails.find_element(By.XPATH, '/html/body/div[2]/div/div[1]/div/div/main/div/div[1]/div[1]/div[7]/div/div/div/ul')\n",
    "    mileageContainer= details.find_elements(By.tagName(\"li\"))[0]\n",
    "    mileageContainer= yearContainer.find_element(By.CLASS_NAME,\"listIcons \")\n",
    "    car[\"Mileage\"] = ownerContainer.find_elements(By.tagName(\"div\"))[1].text\n",
    "    engineContainer= details.find_elements(By.tagName(\"li\"))[1]\n",
    "    engineContainer= yearContainer.find_element(By.CLASS_NAME,\"listIcons \")\n",
    "    car[\"Engine\"] = ownerContainer.find_elements(By.tagName(\"div\"))[1].text\n",
    "    powerContainer= details.find_elements(By.tagName(\"li\"))[2]\n",
    "    powerContainer= yearContainer.find_element(By.CLASS_NAME,\"listIcons \")\n",
    "    car[\"Power\"] = ownerContainer.find_elements(By.tagName(\"div\"))[1].text\n",
    "    cars.append(car)\n",
    "df = pd.DataFrame(cars)\n",
    "df.to_csv('CarPriceCSV.csv')\n",
    "print(df)"
   ]
  },
  {
   "cell_type": "code",
   "execution_count": null,
   "id": "64ba88c2",
   "metadata": {},
   "outputs": [],
   "source": []
  },
  {
   "cell_type": "code",
   "execution_count": null,
   "id": "11013657",
   "metadata": {},
   "outputs": [],
   "source": []
  }
 ],
 "metadata": {
  "kernelspec": {
   "display_name": "Python 3",
   "language": "python",
   "name": "python3"
  },
  "language_info": {
   "codemirror_mode": {
    "name": "ipython",
    "version": 3
   },
   "file_extension": ".py",
   "mimetype": "text/x-python",
   "name": "python",
   "nbconvert_exporter": "python",
   "pygments_lexer": "ipython3",
   "version": "3.8.8"
  }
 },
 "nbformat": 4,
 "nbformat_minor": 5
}
