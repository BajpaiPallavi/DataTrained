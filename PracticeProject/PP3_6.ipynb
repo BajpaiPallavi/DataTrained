{
 "cells": [
  {
   "cell_type": "code",
   "execution_count": 14,
   "id": "3d2280be",
   "metadata": {},
   "outputs": [],
   "source": [
    "import pandas as pd \n",
    "import numpy as np\n",
    "import seaborn as sns\n",
    "import matplotlib.pyplot as plt\n"
   ]
  },
  {
   "cell_type": "code",
   "execution_count": 15,
   "id": "04c88f9b",
   "metadata": {},
   "outputs": [
    {
     "data": {
      "text/plain": [
       "Index(['Unnamed: 0', 'TV', 'radio', 'newspaper', 'sales'], dtype='object')"
      ]
     },
     "execution_count": 15,
     "metadata": {},
     "output_type": "execute_result"
    }
   ],
   "source": [
    "\n",
    "df = pd.read_csv(\"Advertising.csv\")\n",
    "df.columns#printing all the columns"
   ]
  },
  {
   "cell_type": "code",
   "execution_count": 2,
   "id": "f75b5fc4",
   "metadata": {},
   "outputs": [
    {
     "data": {
      "text/html": [
       "<div>\n",
       "<style scoped>\n",
       "    .dataframe tbody tr th:only-of-type {\n",
       "        vertical-align: middle;\n",
       "    }\n",
       "\n",
       "    .dataframe tbody tr th {\n",
       "        vertical-align: top;\n",
       "    }\n",
       "\n",
       "    .dataframe thead th {\n",
       "        text-align: right;\n",
       "    }\n",
       "</style>\n",
       "<table border=\"1\" class=\"dataframe\">\n",
       "  <thead>\n",
       "    <tr style=\"text-align: right;\">\n",
       "      <th></th>\n",
       "      <th>Unnamed: 0</th>\n",
       "      <th>TV</th>\n",
       "      <th>radio</th>\n",
       "      <th>newspaper</th>\n",
       "      <th>sales</th>\n",
       "    </tr>\n",
       "  </thead>\n",
       "  <tbody>\n",
       "    <tr>\n",
       "      <th>0</th>\n",
       "      <td>1</td>\n",
       "      <td>230.1</td>\n",
       "      <td>37.8</td>\n",
       "      <td>69.2</td>\n",
       "      <td>22.1</td>\n",
       "    </tr>\n",
       "    <tr>\n",
       "      <th>1</th>\n",
       "      <td>2</td>\n",
       "      <td>44.5</td>\n",
       "      <td>39.3</td>\n",
       "      <td>45.1</td>\n",
       "      <td>10.4</td>\n",
       "    </tr>\n",
       "    <tr>\n",
       "      <th>2</th>\n",
       "      <td>3</td>\n",
       "      <td>17.2</td>\n",
       "      <td>45.9</td>\n",
       "      <td>69.3</td>\n",
       "      <td>9.3</td>\n",
       "    </tr>\n",
       "    <tr>\n",
       "      <th>3</th>\n",
       "      <td>4</td>\n",
       "      <td>151.5</td>\n",
       "      <td>41.3</td>\n",
       "      <td>58.5</td>\n",
       "      <td>18.5</td>\n",
       "    </tr>\n",
       "    <tr>\n",
       "      <th>4</th>\n",
       "      <td>5</td>\n",
       "      <td>180.8</td>\n",
       "      <td>10.8</td>\n",
       "      <td>58.4</td>\n",
       "      <td>12.9</td>\n",
       "    </tr>\n",
       "    <tr>\n",
       "      <th>...</th>\n",
       "      <td>...</td>\n",
       "      <td>...</td>\n",
       "      <td>...</td>\n",
       "      <td>...</td>\n",
       "      <td>...</td>\n",
       "    </tr>\n",
       "    <tr>\n",
       "      <th>195</th>\n",
       "      <td>196</td>\n",
       "      <td>38.2</td>\n",
       "      <td>3.7</td>\n",
       "      <td>13.8</td>\n",
       "      <td>7.6</td>\n",
       "    </tr>\n",
       "    <tr>\n",
       "      <th>196</th>\n",
       "      <td>197</td>\n",
       "      <td>94.2</td>\n",
       "      <td>4.9</td>\n",
       "      <td>8.1</td>\n",
       "      <td>9.7</td>\n",
       "    </tr>\n",
       "    <tr>\n",
       "      <th>197</th>\n",
       "      <td>198</td>\n",
       "      <td>177.0</td>\n",
       "      <td>9.3</td>\n",
       "      <td>6.4</td>\n",
       "      <td>12.8</td>\n",
       "    </tr>\n",
       "    <tr>\n",
       "      <th>198</th>\n",
       "      <td>199</td>\n",
       "      <td>283.6</td>\n",
       "      <td>42.0</td>\n",
       "      <td>66.2</td>\n",
       "      <td>25.5</td>\n",
       "    </tr>\n",
       "    <tr>\n",
       "      <th>199</th>\n",
       "      <td>200</td>\n",
       "      <td>232.1</td>\n",
       "      <td>8.6</td>\n",
       "      <td>8.7</td>\n",
       "      <td>13.4</td>\n",
       "    </tr>\n",
       "  </tbody>\n",
       "</table>\n",
       "<p>200 rows × 5 columns</p>\n",
       "</div>"
      ],
      "text/plain": [
       "     Unnamed: 0     TV  radio  newspaper  sales\n",
       "0             1  230.1   37.8       69.2   22.1\n",
       "1             2   44.5   39.3       45.1   10.4\n",
       "2             3   17.2   45.9       69.3    9.3\n",
       "3             4  151.5   41.3       58.5   18.5\n",
       "4             5  180.8   10.8       58.4   12.9\n",
       "..          ...    ...    ...        ...    ...\n",
       "195         196   38.2    3.7       13.8    7.6\n",
       "196         197   94.2    4.9        8.1    9.7\n",
       "197         198  177.0    9.3        6.4   12.8\n",
       "198         199  283.6   42.0       66.2   25.5\n",
       "199         200  232.1    8.6        8.7   13.4\n",
       "\n",
       "[200 rows x 5 columns]"
      ]
     },
     "execution_count": 2,
     "metadata": {},
     "output_type": "execute_result"
    }
   ],
   "source": [
    "df"
   ]
  },
  {
   "cell_type": "code",
   "execution_count": 3,
   "id": "d74f0f53",
   "metadata": {},
   "outputs": [
    {
     "data": {
      "text/plain": [
       "Unnamed: 0      int64\n",
       "TV            float64\n",
       "radio         float64\n",
       "newspaper     float64\n",
       "sales         float64\n",
       "dtype: object"
      ]
     },
     "execution_count": 3,
     "metadata": {},
     "output_type": "execute_result"
    }
   ],
   "source": [
    "df.dtypes #Printing the datatypes of all columns"
   ]
  },
  {
   "cell_type": "code",
   "execution_count": 4,
   "id": "409edbdc",
   "metadata": {},
   "outputs": [
    {
     "data": {
      "text/plain": [
       "121"
      ]
     },
     "execution_count": 4,
     "metadata": {},
     "output_type": "execute_result"
    }
   ],
   "source": [
    "df['sales'].nunique()"
   ]
  },
  {
   "cell_type": "markdown",
   "id": "2abf7df5",
   "metadata": {},
   "source": [
    "Since sales column has 121 unique and float values hence this is a linear regression problem"
   ]
  },
  {
   "cell_type": "code",
   "execution_count": 9,
   "id": "7d452413",
   "metadata": {},
   "outputs": [
    {
     "data": {
      "text/plain": [
       "Unnamed: 0    0\n",
       "TV            0\n",
       "radio         0\n",
       "newspaper     0\n",
       "sales         0\n",
       "dtype: int64"
      ]
     },
     "execution_count": 9,
     "metadata": {},
     "output_type": "execute_result"
    }
   ],
   "source": [
    "df.isnull().sum()# Checking if coluumns have null values"
   ]
  },
  {
   "cell_type": "markdown",
   "id": "c7560a2e",
   "metadata": {},
   "source": [
    "Data has no null values"
   ]
  },
  {
   "cell_type": "code",
   "execution_count": 12,
   "id": "27fd14d5",
   "metadata": {},
   "outputs": [
    {
     "data": {
      "text/plain": [
       "Unnamed: 0   -0.051616\n",
       "newspaper     0.228299\n",
       "radio         0.576223\n",
       "TV            0.782224\n",
       "sales         1.000000\n",
       "Name: sales, dtype: float64"
      ]
     },
     "execution_count": 12,
     "metadata": {},
     "output_type": "execute_result"
    }
   ],
   "source": [
    "#Checking coorelation of all columns with the target column\n",
    "df.corr()['sales'].sort_values()"
   ]
  },
  {
   "cell_type": "code",
   "execution_count": 16,
   "id": "eb69ea69",
   "metadata": {},
   "outputs": [
    {
     "data": {
      "text/plain": [
       "<AxesSubplot:>"
      ]
     },
     "execution_count": 16,
     "metadata": {},
     "output_type": "execute_result"
    },
    {
     "data": {
      "image/png": "[encoded data removed]",
      "text/plain": [
       "<Figure size 1584x504 with 2 Axes>"
      ]
     },
     "metadata": {
      "needs_background": "light"
     },
     "output_type": "display_data"
    }
   ],
   "source": [
    "#drawing correlation heatmap\n",
    "plt.figure(figsize =(22,7))\n",
    "sns.heatmap(df.corr(),annot =True,linewidths = 0.1, linecolor =\"black\", fmt = \"0.2f\")"
   ]
  },
  {
   "cell_type": "code",
   "execution_count": 17,
   "id": "6b7ee94b",
   "metadata": {},
   "outputs": [
    {
     "data": {
      "image/png": "[encoded data removed]",
      "text/plain": [
       "<Figure size 1584x504 with 1 Axes>"
      ]
     },
     "metadata": {
      "needs_background": "light"
     },
     "output_type": "display_data"
    }
   ],
   "source": [
    "#Checking the correlation (+ve and -ve) with the target column in bar graph\n",
    "plt.figure(figsize =(22,7))\n",
    "df.corr()['sales'].sort_values(ascending = False).drop(['sales']).plot(kind= 'bar',color = \"c\")\n",
    "plt.xlabel(\"features\", fontsize = 14)\n",
    "plt.ylabel(\"Column with target names\", fontsize = 14)\n",
    "plt.title(\"Correlation\", fontsize =18)\n",
    "plt.show()"
   ]
  },
  {
   "cell_type": "code",
   "execution_count": 21,
   "id": "6c394ae7",
   "metadata": {},
   "outputs": [
    {
     "data": {
      "text/plain": [
       "Unnamed: 0    0.000000\n",
       "TV           -0.069853\n",
       "radio         0.094175\n",
       "newspaper     0.894720\n",
       "sales         0.407571\n",
       "dtype: float64"
      ]
     },
     "execution_count": 21,
     "metadata": {},
     "output_type": "execute_result"
    }
   ],
   "source": [
    "df.skew()"
   ]
  },
  {
   "cell_type": "markdown",
   "id": "bae71138",
   "metadata": {},
   "source": [
    "Taking +/-1.0 as the allowed range for skewness. All columns lie in this range."
   ]
  },
  {
   "cell_type": "code",
   "execution_count": 24,
   "id": "38e154d9",
   "metadata": {},
   "outputs": [
    {
     "data": {
      "text/plain": [
       "<AxesSubplot:>"
      ]
     },
     "execution_count": 24,
     "metadata": {},
     "output_type": "execute_result"
    },
    {
     "data": {
      "image/png": "[encoded data removed]",
      "text/plain": [
       "<Figure size 432x288 with 1 Axes>"
      ]
     },
     "metadata": {
      "needs_background": "light"
     },
     "output_type": "display_data"
    }
   ],
   "source": [
    "#Checking outliers for int and flot type columns (initially)\n",
    "df[\"TV\"].plot.box()"
   ]
  },
  {
   "cell_type": "code",
   "execution_count": 25,
   "id": "348178cb",
   "metadata": {},
   "outputs": [
    {
     "data": {
      "text/plain": [
       "<AxesSubplot:>"
      ]
     },
     "execution_count": 25,
     "metadata": {},
     "output_type": "execute_result"
    },
    {
     "data": {
      "image/png": "[encoded data removed]",
      "text/plain": [
       "<Figure size 432x288 with 1 Axes>"
      ]
     },
     "metadata": {
      "needs_background": "light"
     },
     "output_type": "display_data"
    }
   ],
   "source": [
    "df[\"radio\"].plot.box()"
   ]
  },
  {
   "cell_type": "code",
   "execution_count": 26,
   "id": "29550cc1",
   "metadata": {},
   "outputs": [
    {
     "data": {
      "text/plain": [
       "<AxesSubplot:>"
      ]
     },
     "execution_count": 26,
     "metadata": {},
     "output_type": "execute_result"
    },
    {
     "data": {
      "image/png": "[encoded data removed]",
      "text/plain": [
       "<Figure size 432x288 with 1 Axes>"
      ]
     },
     "metadata": {
      "needs_background": "light"
     },
     "output_type": "display_data"
    }
   ],
   "source": [
    "df[\"newspaper\"].plot.box()"
   ]
  },
  {
   "cell_type": "markdown",
   "id": "c9623080",
   "metadata": {},
   "source": [
    "There are very few outliers in newspaper column so we can ignore them"
   ]
  },
  {
   "cell_type": "code",
   "execution_count": 28,
   "id": "e235bff4",
   "metadata": {},
   "outputs": [],
   "source": [
    "#Seperating input and output as features and target\n",
    "x = df.drop(\"sales\",axis =1)\n",
    "y = df[\"sales\"]"
   ]
  },
  {
   "cell_type": "code",
   "execution_count": 29,
   "id": "7158b06b",
   "metadata": {},
   "outputs": [
    {
     "name": "stdout",
     "output_type": "stream",
     "text": [
      "at random state 0, the train accuracy is: 0.9073274552252846\n",
      "at random state 0, the test accuracy is: 0.856480214327925\n",
      "\n",
      "\n",
      "at random state 1, the train accuracy is: 0.8959391993971187\n",
      "at random state 1, the test accuracy is: 0.8928781912093181\n",
      "\n",
      "\n",
      "at random state 2, the train accuracy is: 0.9152614531156523\n",
      "at random state 2, the test accuracy is: 0.7570326409482367\n",
      "\n",
      "\n",
      "at random state 3, the train accuracy is: 0.8931443451313652\n",
      "at random state 3, the test accuracy is: 0.9134449674582059\n",
      "\n",
      "\n",
      "at random state 4, the train accuracy is: 0.8911682084041699\n",
      "at random state 4, the test accuracy is: 0.9084934434517352\n",
      "\n",
      "\n",
      "at random state 5, the train accuracy is: 0.89570620107301\n",
      "at random state 5, the test accuracy is: 0.89851958363058\n",
      "\n",
      "\n",
      "at random state 6, the train accuracy is: 0.8915582028345674\n",
      "at random state 6, the test accuracy is: 0.921941222913581\n",
      "\n",
      "\n",
      "at random state 7, the train accuracy is: 0.8929171093102488\n",
      "at random state 7, the test accuracy is: 0.9094946118605033\n",
      "\n",
      "\n",
      "at random state 8, the train accuracy is: 0.9089671598668994\n",
      "at random state 8, the test accuracy is: 0.8454524606304807\n",
      "\n",
      "\n",
      "at random state 9, the train accuracy is: 0.8897879071515497\n",
      "at random state 9, the test accuracy is: 0.9254791165935141\n",
      "\n",
      "\n",
      "at random state 10, the train accuracy is: 0.9210064755430887\n",
      "at random state 10, the test accuracy is: 0.8350889287403334\n",
      "\n",
      "\n",
      "at random state 11, the train accuracy is: 0.9111623809104603\n",
      "at random state 11, the test accuracy is: 0.8449820092996336\n",
      "\n",
      "\n",
      "at random state 12, the train accuracy is: 0.8918075499129059\n",
      "at random state 12, the test accuracy is: 0.9110007582766769\n",
      "\n",
      "\n",
      "at random state 13, the train accuracy is: 0.887016186914774\n",
      "at random state 13, the test accuracy is: 0.9305870148904292\n",
      "\n",
      "\n",
      "at random state 14, the train accuracy is: 0.9086355983008996\n",
      "at random state 14, the test accuracy is: 0.8549475163509118\n",
      "\n",
      "\n",
      "at random state 15, the train accuracy is: 0.8938079254185115\n",
      "at random state 15, the test accuracy is: 0.9055692412310968\n",
      "\n",
      "\n",
      "at random state 16, the train accuracy is: 0.8926643673594483\n",
      "at random state 16, the test accuracy is: 0.9179051167419227\n",
      "\n",
      "\n",
      "at random state 17, the train accuracy is: 0.9116703196823303\n",
      "at random state 17, the test accuracy is: 0.8260144163842627\n",
      "\n",
      "\n",
      "at random state 18, the train accuracy is: 0.9058537276169787\n",
      "at random state 18, the test accuracy is: 0.8692586836034338\n",
      "\n",
      "\n",
      "at random state 19, the train accuracy is: 0.8936964884458823\n",
      "at random state 19, the test accuracy is: 0.9035293150713195\n",
      "\n",
      "\n",
      "at random state 20, the train accuracy is: 0.8940674217997686\n",
      "at random state 20, the test accuracy is: 0.9028631545455051\n",
      "\n",
      "\n",
      "at random state 21, the train accuracy is: 0.8890540600770627\n",
      "at random state 21, the test accuracy is: 0.9146569039385174\n",
      "\n",
      "\n",
      "at random state 22, the train accuracy is: 0.8899973381223143\n",
      "at random state 22, the test accuracy is: 0.9182082402965809\n",
      "\n",
      "\n",
      "at random state 23, the train accuracy is: 0.8921767001074105\n",
      "at random state 23, the test accuracy is: 0.9099324713476881\n",
      "\n",
      "\n",
      "at random state 24, the train accuracy is: 0.8948669853718487\n",
      "at random state 24, the test accuracy is: 0.9031175758867456\n",
      "\n",
      "\n",
      "at random state 25, the train accuracy is: 0.901084029469538\n",
      "at random state 25, the test accuracy is: 0.8720389628792304\n",
      "\n",
      "\n",
      "at random state 26, the train accuracy is: 0.9008142925470226\n",
      "at random state 26, the test accuracy is: 0.8660817826604932\n",
      "\n",
      "\n",
      "at random state 27, the train accuracy is: 0.8949084508267352\n",
      "at random state 27, the test accuracy is: 0.9055839757493602\n",
      "\n",
      "\n",
      "at random state 28, the train accuracy is: 0.8997566457323917\n",
      "at random state 28, the test accuracy is: 0.882889952375476\n",
      "\n",
      "\n",
      "at random state 29, the train accuracy is: 0.8897990754621425\n",
      "at random state 29, the test accuracy is: 0.9121642709962423\n",
      "\n",
      "\n",
      "at random state 30, the train accuracy is: 0.8935867104133169\n",
      "at random state 30, the test accuracy is: 0.9070725716744538\n",
      "\n",
      "\n",
      "at random state 31, the train accuracy is: 0.8861151331622692\n",
      "at random state 31, the test accuracy is: 0.9274231828872666\n",
      "\n",
      "\n",
      "at random state 32, the train accuracy is: 0.9172993061976911\n",
      "at random state 32, the test accuracy is: 0.7769624816211904\n",
      "\n",
      "\n",
      "at random state 33, the train accuracy is: 0.896294422055296\n",
      "at random state 33, the test accuracy is: 0.8938166042095906\n",
      "\n",
      "\n",
      "at random state 34, the train accuracy is: 0.8970815554113069\n",
      "at random state 34, the test accuracy is: 0.8919648426080482\n",
      "\n",
      "\n",
      "at random state 35, the train accuracy is: 0.9149816013369177\n",
      "at random state 35, the test accuracy is: 0.786373587730015\n",
      "\n",
      "\n",
      "at random state 36, the train accuracy is: 0.8887390025066806\n",
      "at random state 36, the test accuracy is: 0.9265569630488937\n",
      "\n",
      "\n",
      "at random state 37, the train accuracy is: 0.8998734924150504\n",
      "at random state 37, the test accuracy is: 0.8832381464120009\n",
      "\n",
      "\n",
      "at random state 38, the train accuracy is: 0.8972914103912516\n",
      "at random state 38, the test accuracy is: 0.8908696135503188\n",
      "\n",
      "\n",
      "at random state 39, the train accuracy is: 0.9002556473795614\n",
      "at random state 39, the test accuracy is: 0.8690558832908658\n",
      "\n",
      "\n",
      "at random state 40, the train accuracy is: 0.9204058033654225\n",
      "at random state 40, the test accuracy is: 0.7965905680536843\n",
      "\n",
      "\n",
      "at random state 41, the train accuracy is: 0.9006927327079468\n",
      "at random state 41, the test accuracy is: 0.8820470614688671\n",
      "\n",
      "\n",
      "at random state 42, the train accuracy is: 0.8957553000540606\n",
      "at random state 42, the test accuracy is: 0.8986489151417081\n",
      "\n",
      "\n",
      "at random state 43, the train accuracy is: 0.8886405668646471\n",
      "at random state 43, the test accuracy is: 0.9279997802005557\n",
      "\n",
      "\n",
      "at random state 44, the train accuracy is: 0.9065906284233083\n",
      "at random state 44, the test accuracy is: 0.8309225032852494\n",
      "\n",
      "\n",
      "at random state 45, the train accuracy is: 0.8963875424029035\n",
      "at random state 45, the test accuracy is: 0.8915316806090338\n",
      "\n",
      "\n",
      "at random state 46, the train accuracy is: 0.9036235036433334\n",
      "at random state 46, the test accuracy is: 0.8503383755246359\n",
      "\n",
      "\n",
      "at random state 47, the train accuracy is: 0.8988386546103042\n",
      "at random state 47, the test accuracy is: 0.8849834045904889\n",
      "\n",
      "\n",
      "at random state 48, the train accuracy is: 0.890542166403924\n",
      "at random state 48, the test accuracy is: 0.9189262097926163\n",
      "\n",
      "\n",
      "at random state 49, the train accuracy is: 0.913865852180709\n",
      "at random state 49, the test accuracy is: 0.8231216329494812\n",
      "\n",
      "\n",
      "at random state 50, the train accuracy is: 0.9013718398317787\n",
      "at random state 50, the test accuracy is: 0.8476464379397719\n",
      "\n",
      "\n",
      "at random state 51, the train accuracy is: 0.8936175989328149\n",
      "at random state 51, the test accuracy is: 0.9076546711720634\n",
      "\n",
      "\n",
      "at random state 52, the train accuracy is: 0.9018604295382086\n",
      "at random state 52, the test accuracy is: 0.8807089729330375\n",
      "\n",
      "\n",
      "at random state 53, the train accuracy is: 0.888857938922339\n",
      "at random state 53, the test accuracy is: 0.9251773581549692\n",
      "\n",
      "\n",
      "at random state 54, the train accuracy is: 0.8920887237166686\n",
      "at random state 54, the test accuracy is: 0.9172149618279113\n",
      "\n",
      "\n",
      "at random state 55, the train accuracy is: 0.894930160761274\n",
      "at random state 55, the test accuracy is: 0.8978864477773828\n",
      "\n",
      "\n",
      "at random state 56, the train accuracy is: 0.8989201587327643\n",
      "at random state 56, the test accuracy is: 0.888224634953456\n",
      "\n",
      "\n",
      "at random state 57, the train accuracy is: 0.8825879766148067\n",
      "at random state 57, the test accuracy is: 0.9408099432427623\n",
      "\n",
      "\n",
      "at random state 58, the train accuracy is: 0.9127355018257423\n",
      "at random state 58, the test accuracy is: 0.8401442189987403\n",
      "\n",
      "\n",
      "at random state 59, the train accuracy is: 0.8893758445368163\n",
      "at random state 59, the test accuracy is: 0.9250247055288898\n",
      "\n",
      "\n",
      "at random state 60, the train accuracy is: 0.8929488169971975\n",
      "at random state 60, the test accuracy is: 0.9074416119003319\n",
      "\n",
      "\n",
      "at random state 61, the train accuracy is: 0.8995558396715964\n",
      "at random state 61, the test accuracy is: 0.878101642882558\n",
      "\n",
      "\n",
      "at random state 62, the train accuracy is: 0.9120188082159291\n",
      "at random state 62, the test accuracy is: 0.8418326614272956\n",
      "\n",
      "\n",
      "at random state 63, the train accuracy is: 0.8951057681539462\n",
      "at random state 63, the test accuracy is: 0.9005058624602784\n",
      "\n",
      "\n",
      "at random state 64, the train accuracy is: 0.8977795664080803\n",
      "at random state 64, the test accuracy is: 0.8817995595827229\n",
      "\n",
      "\n",
      "at random state 65, the train accuracy is: 0.8969891176837769\n",
      "at random state 65, the test accuracy is: 0.8942556589953752\n",
      "\n",
      "\n",
      "at random state 66, the train accuracy is: 0.8992060099166295\n",
      "at random state 66, the test accuracy is: 0.8838295132236418\n",
      "\n",
      "\n",
      "at random state 67, the train accuracy is: 0.8995954079489461\n",
      "at random state 67, the test accuracy is: 0.8813062371563375\n",
      "\n",
      "\n",
      "at random state 68, the train accuracy is: 0.9004472797727481\n",
      "at random state 68, the test accuracy is: 0.8669862566176891\n",
      "\n",
      "\n",
      "at random state 69, the train accuracy is: 0.8870476050134384\n",
      "at random state 69, the test accuracy is: 0.9233095015758521\n",
      "\n",
      "\n",
      "at random state 70, the train accuracy is: 0.8862589587247461\n",
      "at random state 70, the test accuracy is: 0.9261899619072469\n",
      "\n",
      "\n",
      "at random state 71, the train accuracy is: 0.9170792242159567\n",
      "at random state 71, the test accuracy is: 0.8214330315197064\n",
      "\n",
      "\n",
      "at random state 72, the train accuracy is: 0.8939630309765105\n",
      "at random state 72, the test accuracy is: 0.9063814288042916\n",
      "\n",
      "\n",
      "at random state 73, the train accuracy is: 0.9081745525874727\n",
      "at random state 73, the test accuracy is: 0.838245651416483\n",
      "\n",
      "\n",
      "at random state 74, the train accuracy is: 0.8980451797105264\n",
      "at random state 74, the test accuracy is: 0.8802918295913446\n",
      "\n",
      "\n",
      "at random state 75, the train accuracy is: 0.8944097316106918\n",
      "at random state 75, the test accuracy is: 0.9074740863261651\n",
      "\n",
      "\n",
      "at random state 76, the train accuracy is: 0.9092071576699313\n",
      "at random state 76, the test accuracy is: 0.7531289748171518\n",
      "\n",
      "\n",
      "at random state 77, the train accuracy is: 0.8859821552154192\n",
      "at random state 77, the test accuracy is: 0.937956975915543\n",
      "\n",
      "\n",
      "at random state 78, the train accuracy is: 0.8957614044756782\n",
      "at random state 78, the test accuracy is: 0.9027962436962178\n",
      "\n",
      "\n",
      "at random state 79, the train accuracy is: 0.8918809749821501\n",
      "at random state 79, the test accuracy is: 0.9039590138288892\n",
      "\n",
      "\n",
      "at random state 80, the train accuracy is: 0.9169729628077916\n",
      "at random state 80, the test accuracy is: 0.8002879936768352\n",
      "\n",
      "\n",
      "at random state 81, the train accuracy is: 0.9035712487248864\n",
      "at random state 81, the test accuracy is: 0.8609698767855934\n",
      "\n",
      "\n",
      "at random state 82, the train accuracy is: 0.9154275126468338\n",
      "at random state 82, the test accuracy is: 0.8013214526563002\n",
      "\n",
      "\n",
      "at random state 83, the train accuracy is: 0.8842230653829803\n",
      "at random state 83, the test accuracy is: 0.936533183297641\n",
      "\n",
      "\n",
      "at random state 84, the train accuracy is: 0.8954723130793452\n",
      "at random state 84, the test accuracy is: 0.8982625547501828\n",
      "\n",
      "\n",
      "at random state 85, the train accuracy is: 0.9086556153894079\n",
      "at random state 85, the test accuracy is: 0.8439750044569613\n",
      "\n",
      "\n",
      "at random state 86, the train accuracy is: 0.8941933141983467\n",
      "at random state 86, the test accuracy is: 0.9101136416354886\n",
      "\n",
      "\n",
      "at random state 87, the train accuracy is: 0.9120854281966964\n",
      "at random state 87, the test accuracy is: 0.7590318344044371\n",
      "\n",
      "\n",
      "at random state 88, the train accuracy is: 0.909607024863585\n",
      "at random state 88, the test accuracy is: 0.8387190488012204\n",
      "\n",
      "\n",
      "at random state 89, the train accuracy is: 0.9007733237783739\n",
      "at random state 89, the test accuracy is: 0.8715218402293794\n",
      "\n",
      "\n",
      "at random state 90, the train accuracy is: 0.9035155910972225\n",
      "at random state 90, the test accuracy is: 0.8470679956762829\n",
      "\n",
      "\n",
      "at random state 91, the train accuracy is: 0.8874503790642361\n",
      "at random state 91, the test accuracy is: 0.9040620243534963\n",
      "\n",
      "\n",
      "at random state 92, the train accuracy is: 0.879228484038034\n",
      "at random state 92, the test accuracy is: 0.950983339269277\n",
      "\n",
      "\n",
      "at random state 93, the train accuracy is: 0.8934257355566151\n",
      "at random state 93, the test accuracy is: 0.9092789029786972\n",
      "\n",
      "\n",
      "at random state 94, the train accuracy is: 0.9084405371218475\n",
      "at random state 94, the test accuracy is: 0.8559756457570239\n",
      "\n",
      "\n",
      "at random state 95, the train accuracy is: 0.8935661522674359\n",
      "at random state 95, the test accuracy is: 0.8951483094107863\n",
      "\n",
      "\n",
      "at random state 96, the train accuracy is: 0.9038616523881903\n",
      "at random state 96, the test accuracy is: 0.858009872088536\n",
      "\n",
      "\n",
      "at random state 97, the train accuracy is: 0.8906962083562392\n",
      "at random state 97, the test accuracy is: 0.907763020464028\n",
      "\n",
      "\n",
      "at random state 98, the train accuracy is: 0.8820113423343215\n",
      "at random state 98, the test accuracy is: 0.9393724951506759\n",
      "\n",
      "\n",
      "at random state 99, the train accuracy is: 0.8906644266587815\n",
      "at random state 99, the test accuracy is: 0.9201416862699034\n",
      "\n",
      "\n"
     ]
    }
   ],
   "source": [
    "#Scaling the data using min max scaler\n",
    "from sklearn.preprocessing import MinMaxScaler\n",
    "from sklearn.linear_model import LinearRegression\n",
    "from sklearn.metrics import r2_score\n",
    "from sklearn.model_selection import train_test_split\n",
    "import warnings\n",
    "mms = MinMaxScaler()\n",
    "lr = LinearRegression()\n",
    "warnings.filterwarnings(\"ignore\")\n",
    "for i in range(0,100):\n",
    "    x_train, x_test, y_train, y_test = train_test_split(x,y,test_size = 0.2,random_state =i)\n",
    "    lr.fit(x_train,y_train)\n",
    "    pred_train = lr.predict(x_train)\n",
    "    pred_test = lr.predict(x_test)\n",
    "    print(f\"at random state {i}, the train accuracy is: {r2_score(y_train,pred_train)}\")\n",
    "    print(f\"at random state {i}, the test accuracy is: {r2_score(y_test,pred_test)}\")\n",
    "    print(\"\\n\")"
   ]
  },
  {
   "cell_type": "code",
   "execution_count": 31,
   "id": "8337fc95",
   "metadata": {},
   "outputs": [
    {
     "name": "stdout",
     "output_type": "stream",
     "text": [
      "0.950983339269277\n"
     ]
    }
   ],
   "source": [
    "#we are selecting random state as 92 because at i=80 we are getting highest test accuracy\n",
    "x_train, x_test, y_train, y_test = train_test_split(x,y,test_size = 0.2,random_state =92)\n",
    "#training the model\n",
    "lr.fit(x_train,y_train)\n",
    "#Predicting values\n",
    "pred_test = lr.predict(x_test)\n",
    "print(r2_score(y_test,pred_test))"
   ]
  },
  {
   "cell_type": "code",
   "execution_count": 32,
   "id": "89f55c34",
   "metadata": {},
   "outputs": [
    {
     "name": "stdout",
     "output_type": "stream",
     "text": [
      "At cross fold 2 the cv score is: 0.8557808905096393 and accuracy score for training is: -0.9027964201434033 and accuracy for testing is: 0.950983339269277\n",
      "\n",
      "\n",
      "At cross fold 3 the cv score is: 0.8913539823868294 and accuracy score for training is: -0.9027964201434033 and accuracy for testing is: 0.950983339269277\n",
      "\n",
      "\n",
      "At cross fold 4 the cv score is: 0.8858779626590163 and accuracy score for training is: -0.9027964201434033 and accuracy for testing is: 0.950983339269277\n",
      "\n",
      "\n",
      "At cross fold 5 the cv score is: 0.8842777844741689 and accuracy score for training is: -0.9027964201434033 and accuracy for testing is: 0.950983339269277\n",
      "\n",
      "\n",
      "At cross fold 6 the cv score is: 0.8877823078964706 and accuracy score for training is: -0.9027964201434033 and accuracy for testing is: 0.950983339269277\n",
      "\n",
      "\n",
      "At cross fold 7 the cv score is: 0.8830284351379021 and accuracy score for training is: -0.9027964201434033 and accuracy for testing is: 0.950983339269277\n",
      "\n",
      "\n",
      "At cross fold 8 the cv score is: 0.8795059347365249 and accuracy score for training is: -0.9027964201434033 and accuracy for testing is: 0.950983339269277\n",
      "\n",
      "\n",
      "At cross fold 9 the cv score is: 0.879704245100306 and accuracy score for training is: -0.9027964201434033 and accuracy for testing is: 0.950983339269277\n",
      "\n",
      "\n"
     ]
    }
   ],
   "source": [
    "#Cross validation of model\n",
    "Training_accuracy = r2_score(y_train,pred_train)\n",
    "Test_accuracy = r2_score(y_test,pred_test)\n",
    "from sklearn.model_selection import cross_val_score\n",
    "#Checking at what random state we have highest cross validation score and test accuracy\n",
    "for j in range(2,10):\n",
    "    cv_score = cross_val_score(lr,x,y,cv=j)#cv = j means my data will be divided into j equal parts\n",
    "    cv_mean= cv_score.mean()\n",
    "    print(f\"At cross fold {j} the cv score is: {cv_mean} and accuracy score for training is: {Training_accuracy} and accuracy for testing is: {Test_accuracy}\")\n",
    "    print(\"\\n\")      "
   ]
  },
  {
   "cell_type": "markdown",
   "id": "27531e9f",
   "metadata": {},
   "source": [
    "Since we have highest cv score in cross fold 8 So we will select j=8 (as no impact of j on test score )"
   ]
  },
  {
   "cell_type": "code",
   "execution_count": 33,
   "id": "fdca41a8",
   "metadata": {},
   "outputs": [],
   "source": [
    "cv_score = cross_val_score(lr,x,y,cv=3)#cv = j means my data will be divided into j equal parts\n",
    "cv_mean= cv_score.mean()"
   ]
  },
  {
   "cell_type": "code",
   "execution_count": 34,
   "id": "af42feef",
   "metadata": {},
   "outputs": [
    {
     "data": {
      "image/png": "[encoded data removed]",
      "text/plain": [
       "<Figure size 576x432 with 1 Axes>"
      ]
     },
     "metadata": {
      "needs_background": "light"
     },
     "output_type": "display_data"
    }
   ],
   "source": [
    "#drawing scatterplot to confirm the best fit line\n",
    "\n",
    "import matplotlib.pyplot as plt\n",
    "plt.figure(figsize = (8,6))\n",
    "plt.scatter(x= y_test,y=pred_test,color = \"r\")\n",
    "plt.plot(y_test,y_test, color = \"b\")\n",
    "plt.xlabel(\"Actual sales\",fontsize = 14)\n",
    "plt.ylabel(\"Predicted sales\", fontsize = 14)\n",
    "plt.title(\"Linear Regression\", fontsize = 18)\n",
    "plt.savefig(\"lr.png\")\n",
    "plt.show()"
   ]
  },
  {
   "cell_type": "markdown",
   "id": "a7d7d900",
   "metadata": {},
   "source": [
    "best fit line is covering most of the datapoints which shows good fit of our model"
   ]
  },
  {
   "cell_type": "code",
   "execution_count": 36,
   "id": "168f560d",
   "metadata": {},
   "outputs": [
    {
     "name": "stdout",
     "output_type": "stream",
     "text": [
      "{'alpha': 1, 'random_state': 0}\n"
     ]
    }
   ],
   "source": [
    "#regularization to remove overfitting and underfitting\n",
    "from sklearn.model_selection import GridSearchCV\n",
    "from sklearn.model_selection import cross_val_score\n",
    "import warnings\n",
    "warnings.filterwarnings(\"ignore\")\n",
    "from sklearn.linear_model import Lasso\n",
    "parameters = {'alpha':[0.0001,0.001,0.01,0.1,1,10],'random_state':list(range(0,10))}\n",
    "ls =Lasso()\n",
    "clf = GridSearchCV(ls,parameters)\n",
    "clf.fit(x_train,y_train)\n",
    "print(clf.best_params_)"
   ]
  },
  {
   "cell_type": "code",
   "execution_count": 39,
   "id": "185f40f0",
   "metadata": {},
   "outputs": [
    {
     "data": {
      "text/plain": [
       "87.89850710796343"
      ]
     },
     "execution_count": 39,
     "metadata": {},
     "output_type": "execute_result"
    }
   ],
   "source": [
    "#training as per best params\n",
    "ls =Lasso(alpha =1, random_state = 0)\n",
    "ls.fit(x_train,y_train)\n",
    "ls_score_training=ls.score(x_train,y_train)\n",
    "pred_ls = ls.predict(x_test)\n",
    "ls_score_training*100"
   ]
  },
  {
   "cell_type": "code",
   "execution_count": 40,
   "id": "71e2e126",
   "metadata": {},
   "outputs": [
    {
     "data": {
      "text/plain": [
       "95.14373613521977"
      ]
     },
     "execution_count": 40,
     "metadata": {},
     "output_type": "execute_result"
    }
   ],
   "source": [
    "#getting ls score\n",
    "lss = r2_score(y_test,pred_ls)\n",
    "lss*100"
   ]
  },
  {
   "cell_type": "code",
   "execution_count": 41,
   "id": "11438307",
   "metadata": {},
   "outputs": [
    {
     "data": {
      "text/plain": [
       "88.5886332944758"
      ]
     },
     "execution_count": 41,
     "metadata": {},
     "output_type": "execute_result"
    }
   ],
   "source": [
    "#getting cv score\n",
    "cv_score = cross_val_score(ls,x,y,cv=5)\n",
    "cv_mean = cv_score.mean()\n",
    "cv_mean*100"
   ]
  },
  {
   "cell_type": "code",
   "execution_count": 42,
   "id": "6122467d",
   "metadata": {},
   "outputs": [
    {
     "name": "stdout",
     "output_type": "stream",
     "text": [
      "{'criterion': 'mse', 'max_features': 'auto'}\n"
     ]
    },
    {
     "data": {
      "text/plain": [
       "88.5886332944758"
      ]
     },
     "execution_count": 42,
     "metadata": {},
     "output_type": "execute_result"
    }
   ],
   "source": [
    "#Ensembling\n",
    "from sklearn.model_selection import GridSearchCV\n",
    "from sklearn.ensemble import RandomForestRegressor\n",
    "import warnings\n",
    "warnings.filterwarnings(\"ignore\")\n",
    "from sklearn.linear_model import Lasso\n",
    "parameters = {'criterion':['mse','mse'],'max_features':[\"auto\",\"sqrt\",\"log2\"]}\n",
    "rf =RandomForestRegressor()\n",
    "clf = GridSearchCV(rf,parameters)\n",
    "clf.fit(x_train,y_train)\n",
    "print(clf.best_params_)\n",
    "#training as per best params\n",
    "rf =RandomForestRegressor(criterion =\"mae\", max_features = \"auto\")\n",
    "rf.fit(x_train,y_train)\n",
    "rf.score(x_train,y_train)\n",
    "pred_decision = rf.predict(x_test)\n",
    "#getting ls score\n",
    "rfs= r2_score(y_test,pred_ls)\n",
    "rfs*100\n",
    "#getting cv score\n",
    "rf_score = cross_val_score(rf,x,y,cv=5)\n",
    "rf_mean = cv_score.mean()\n",
    "rf_mean*100"
   ]
  },
  {
   "cell_type": "code",
   "execution_count": 43,
   "id": "d74100dc",
   "metadata": {},
   "outputs": [
    {
     "name": "stdout",
     "output_type": "stream",
     "text": [
      "98.21485349768373\n"
     ]
    },
    {
     "data": {
      "text/html": [
       "<div>\n",
       "<style scoped>\n",
       "    .dataframe tbody tr th:only-of-type {\n",
       "        vertical-align: middle;\n",
       "    }\n",
       "\n",
       "    .dataframe tbody tr th {\n",
       "        vertical-align: top;\n",
       "    }\n",
       "\n",
       "    .dataframe thead th {\n",
       "        text-align: right;\n",
       "    }\n",
       "</style>\n",
       "<table border=\"1\" class=\"dataframe\">\n",
       "  <thead>\n",
       "    <tr style=\"text-align: right;\">\n",
       "      <th></th>\n",
       "      <th>0</th>\n",
       "      <th>1</th>\n",
       "      <th>2</th>\n",
       "      <th>3</th>\n",
       "      <th>4</th>\n",
       "      <th>5</th>\n",
       "      <th>6</th>\n",
       "      <th>7</th>\n",
       "      <th>8</th>\n",
       "      <th>9</th>\n",
       "      <th>...</th>\n",
       "      <th>30</th>\n",
       "      <th>31</th>\n",
       "      <th>32</th>\n",
       "      <th>33</th>\n",
       "      <th>34</th>\n",
       "      <th>35</th>\n",
       "      <th>36</th>\n",
       "      <th>37</th>\n",
       "      <th>38</th>\n",
       "      <th>39</th>\n",
       "    </tr>\n",
       "  </thead>\n",
       "  <tbody>\n",
       "    <tr>\n",
       "      <th>Predicted</th>\n",
       "      <td>10.19</td>\n",
       "      <td>13.245</td>\n",
       "      <td>9.754</td>\n",
       "      <td>19.808</td>\n",
       "      <td>12.816</td>\n",
       "      <td>16.204</td>\n",
       "      <td>9.563</td>\n",
       "      <td>12.236</td>\n",
       "      <td>9.491</td>\n",
       "      <td>7.333</td>\n",
       "      <td>...</td>\n",
       "      <td>15.178</td>\n",
       "      <td>11.864</td>\n",
       "      <td>17.202</td>\n",
       "      <td>11.96</td>\n",
       "      <td>5.61</td>\n",
       "      <td>19.926</td>\n",
       "      <td>14.957</td>\n",
       "      <td>25.142</td>\n",
       "      <td>12.195</td>\n",
       "      <td>15.252</td>\n",
       "    </tr>\n",
       "    <tr>\n",
       "      <th>Original</th>\n",
       "      <td>10.19</td>\n",
       "      <td>13.245</td>\n",
       "      <td>9.754</td>\n",
       "      <td>19.808</td>\n",
       "      <td>12.816</td>\n",
       "      <td>16.204</td>\n",
       "      <td>9.563</td>\n",
       "      <td>12.236</td>\n",
       "      <td>9.491</td>\n",
       "      <td>7.333</td>\n",
       "      <td>...</td>\n",
       "      <td>15.178</td>\n",
       "      <td>11.864</td>\n",
       "      <td>17.202</td>\n",
       "      <td>11.96</td>\n",
       "      <td>5.61</td>\n",
       "      <td>19.926</td>\n",
       "      <td>14.957</td>\n",
       "      <td>25.142</td>\n",
       "      <td>12.195</td>\n",
       "      <td>15.252</td>\n",
       "    </tr>\n",
       "  </tbody>\n",
       "</table>\n",
       "<p>2 rows × 40 columns</p>\n",
       "</div>"
      ],
      "text/plain": [
       "              0       1      2       3       4       5      6       7      8   \\\n",
       "Predicted  10.19  13.245  9.754  19.808  12.816  16.204  9.563  12.236  9.491   \n",
       "Original   10.19  13.245  9.754  19.808  12.816  16.204  9.563  12.236  9.491   \n",
       "\n",
       "              9   ...      30      31      32     33    34      35      36  \\\n",
       "Predicted  7.333  ...  15.178  11.864  17.202  11.96  5.61  19.926  14.957   \n",
       "Original   7.333  ...  15.178  11.864  17.202  11.96  5.61  19.926  14.957   \n",
       "\n",
       "               37      38      39  \n",
       "Predicted  25.142  12.195  15.252  \n",
       "Original   25.142  12.195  15.252  \n",
       "\n",
       "[2 rows x 40 columns]"
      ]
     },
     "execution_count": 43,
     "metadata": {},
     "output_type": "execute_result"
    }
   ],
   "source": [
    "#Saving and loading the model\n",
    "import pickle\n",
    "file_name = \"churn.pkl\"\n",
    "pickle.dump(rf,open(file_name,\"wb\"))\n",
    "#loading model\n",
    "loaded_model = pickle.load(open(\"churn.pkl\",\"rb\"))\n",
    "result = loaded_model.score(x_test,y_test)\n",
    "print(result*100)\n",
    "conclusion =pd.DataFrame([loaded_model.predict(x_test)[:],pred_decision[:]],index = [\"Predicted\",\"Original\"])\n",
    "conclusion"
   ]
  },
  {
   "cell_type": "code",
   "execution_count": null,
   "id": "54dd6f11",
   "metadata": {},
   "outputs": [],
   "source": []
  }
 ],
 "metadata": {
  "kernelspec": {
   "display_name": "Python 3",
   "language": "python",
   "name": "python3"
  },
  "language_info": {
   "codemirror_mode": {
    "name": "ipython",
    "version": 3
   },
   "file_extension": ".py",
   "mimetype": "text/x-python",
   "name": "python",
   "nbconvert_exporter": "python",
   "pygments_lexer": "ipython3",
   "version": "3.8.8"
  }
 },
 "nbformat": 4,
 "nbformat_minor": 5
}
