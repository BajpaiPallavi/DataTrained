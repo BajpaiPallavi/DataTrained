{
 "cells": [
  {
   "cell_type": "code",
   "execution_count": 1,
   "id": "82436de8",
   "metadata": {},
   "outputs": [],
   "source": [
    "import pandas as pd \n",
    "import numpy as np\n",
    "import seaborn as sns\n",
    "import matplotlib.pyplot as plt\n"
   ]
  },
  {
   "cell_type": "code",
   "execution_count": 83,
   "id": "982c455f",
   "metadata": {},
   "outputs": [],
   "source": [
    "dfTest = pd.read_csv(\"bigdatamart_Test.csv\")\n",
    "dfTest1 = df.drop(\"Item_Identifier\",axis =1)\n",
    "x = dfTest1.drop(\"Item_Outlet_Sales\",axis =1)\n",
    "y = dfTest1[\"Item_Outlet_Sales\"]"
   ]
  },
  {
   "cell_type": "code",
   "execution_count": 2,
   "id": "a3c57d0e",
   "metadata": {},
   "outputs": [
    {
     "data": {
      "text/plain": [
       "Index(['Item_Identifier', 'Item_Weight', 'Item_Fat_Content', 'Item_Visibility',\n",
       "       'Item_Type', 'Item_MRP', 'Outlet_Identifier',\n",
       "       'Outlet_Establishment_Year', 'Outlet_Size', 'Outlet_Location_Type',\n",
       "       'Outlet_Type', 'Item_Outlet_Sales'],\n",
       "      dtype='object')"
      ]
     },
     "execution_count": 2,
     "metadata": {},
     "output_type": "execute_result"
    }
   ],
   "source": [
    "df = pd.read_csv(\"bigdatamart_Train.csv\")\n",
    "df.columns#printing all the columns"
   ]
  },
  {
   "cell_type": "code",
   "execution_count": 3,
   "id": "2f784417",
   "metadata": {},
   "outputs": [
    {
     "data": {
      "text/html": [
       "<div>\n",
       "<style scoped>\n",
       "    .dataframe tbody tr th:only-of-type {\n",
       "        vertical-align: middle;\n",
       "    }\n",
       "\n",
       "    .dataframe tbody tr th {\n",
       "        vertical-align: top;\n",
       "    }\n",
       "\n",
       "    .dataframe thead th {\n",
       "        text-align: right;\n",
       "    }\n",
       "</style>\n",
       "<table border=\"1\" class=\"dataframe\">\n",
       "  <thead>\n",
       "    <tr style=\"text-align: right;\">\n",
       "      <th></th>\n",
       "      <th>Item_Identifier</th>\n",
       "      <th>Item_Weight</th>\n",
       "      <th>Item_Fat_Content</th>\n",
       "      <th>Item_Visibility</th>\n",
       "      <th>Item_Type</th>\n",
       "      <th>Item_MRP</th>\n",
       "      <th>Outlet_Identifier</th>\n",
       "      <th>Outlet_Establishment_Year</th>\n",
       "      <th>Outlet_Size</th>\n",
       "      <th>Outlet_Location_Type</th>\n",
       "      <th>Outlet_Type</th>\n",
       "      <th>Item_Outlet_Sales</th>\n",
       "    </tr>\n",
       "  </thead>\n",
       "  <tbody>\n",
       "    <tr>\n",
       "      <th>0</th>\n",
       "      <td>FDA15</td>\n",
       "      <td>9.300</td>\n",
       "      <td>Low Fat</td>\n",
       "      <td>0.016047</td>\n",
       "      <td>Dairy</td>\n",
       "      <td>249.8092</td>\n",
       "      <td>OUT049</td>\n",
       "      <td>1999</td>\n",
       "      <td>Medium</td>\n",
       "      <td>Tier 1</td>\n",
       "      <td>Supermarket Type1</td>\n",
       "      <td>3735.1380</td>\n",
       "    </tr>\n",
       "    <tr>\n",
       "      <th>1</th>\n",
       "      <td>DRC01</td>\n",
       "      <td>5.920</td>\n",
       "      <td>Regular</td>\n",
       "      <td>0.019278</td>\n",
       "      <td>Soft Drinks</td>\n",
       "      <td>48.2692</td>\n",
       "      <td>OUT018</td>\n",
       "      <td>2009</td>\n",
       "      <td>Medium</td>\n",
       "      <td>Tier 3</td>\n",
       "      <td>Supermarket Type2</td>\n",
       "      <td>443.4228</td>\n",
       "    </tr>\n",
       "    <tr>\n",
       "      <th>2</th>\n",
       "      <td>FDN15</td>\n",
       "      <td>17.500</td>\n",
       "      <td>Low Fat</td>\n",
       "      <td>0.016760</td>\n",
       "      <td>Meat</td>\n",
       "      <td>141.6180</td>\n",
       "      <td>OUT049</td>\n",
       "      <td>1999</td>\n",
       "      <td>Medium</td>\n",
       "      <td>Tier 1</td>\n",
       "      <td>Supermarket Type1</td>\n",
       "      <td>2097.2700</td>\n",
       "    </tr>\n",
       "    <tr>\n",
       "      <th>3</th>\n",
       "      <td>FDX07</td>\n",
       "      <td>19.200</td>\n",
       "      <td>Regular</td>\n",
       "      <td>0.000000</td>\n",
       "      <td>Fruits and Vegetables</td>\n",
       "      <td>182.0950</td>\n",
       "      <td>OUT010</td>\n",
       "      <td>1998</td>\n",
       "      <td>NaN</td>\n",
       "      <td>Tier 3</td>\n",
       "      <td>Grocery Store</td>\n",
       "      <td>732.3800</td>\n",
       "    </tr>\n",
       "    <tr>\n",
       "      <th>4</th>\n",
       "      <td>NCD19</td>\n",
       "      <td>8.930</td>\n",
       "      <td>Low Fat</td>\n",
       "      <td>0.000000</td>\n",
       "      <td>Household</td>\n",
       "      <td>53.8614</td>\n",
       "      <td>OUT013</td>\n",
       "      <td>1987</td>\n",
       "      <td>High</td>\n",
       "      <td>Tier 3</td>\n",
       "      <td>Supermarket Type1</td>\n",
       "      <td>994.7052</td>\n",
       "    </tr>\n",
       "    <tr>\n",
       "      <th>...</th>\n",
       "      <td>...</td>\n",
       "      <td>...</td>\n",
       "      <td>...</td>\n",
       "      <td>...</td>\n",
       "      <td>...</td>\n",
       "      <td>...</td>\n",
       "      <td>...</td>\n",
       "      <td>...</td>\n",
       "      <td>...</td>\n",
       "      <td>...</td>\n",
       "      <td>...</td>\n",
       "      <td>...</td>\n",
       "    </tr>\n",
       "    <tr>\n",
       "      <th>8518</th>\n",
       "      <td>FDF22</td>\n",
       "      <td>6.865</td>\n",
       "      <td>Low Fat</td>\n",
       "      <td>0.056783</td>\n",
       "      <td>Snack Foods</td>\n",
       "      <td>214.5218</td>\n",
       "      <td>OUT013</td>\n",
       "      <td>1987</td>\n",
       "      <td>High</td>\n",
       "      <td>Tier 3</td>\n",
       "      <td>Supermarket Type1</td>\n",
       "      <td>2778.3834</td>\n",
       "    </tr>\n",
       "    <tr>\n",
       "      <th>8519</th>\n",
       "      <td>FDS36</td>\n",
       "      <td>8.380</td>\n",
       "      <td>Regular</td>\n",
       "      <td>0.046982</td>\n",
       "      <td>Baking Goods</td>\n",
       "      <td>108.1570</td>\n",
       "      <td>OUT045</td>\n",
       "      <td>2002</td>\n",
       "      <td>NaN</td>\n",
       "      <td>Tier 2</td>\n",
       "      <td>Supermarket Type1</td>\n",
       "      <td>549.2850</td>\n",
       "    </tr>\n",
       "    <tr>\n",
       "      <th>8520</th>\n",
       "      <td>NCJ29</td>\n",
       "      <td>10.600</td>\n",
       "      <td>Low Fat</td>\n",
       "      <td>0.035186</td>\n",
       "      <td>Health and Hygiene</td>\n",
       "      <td>85.1224</td>\n",
       "      <td>OUT035</td>\n",
       "      <td>2004</td>\n",
       "      <td>Small</td>\n",
       "      <td>Tier 2</td>\n",
       "      <td>Supermarket Type1</td>\n",
       "      <td>1193.1136</td>\n",
       "    </tr>\n",
       "    <tr>\n",
       "      <th>8521</th>\n",
       "      <td>FDN46</td>\n",
       "      <td>7.210</td>\n",
       "      <td>Regular</td>\n",
       "      <td>0.145221</td>\n",
       "      <td>Snack Foods</td>\n",
       "      <td>103.1332</td>\n",
       "      <td>OUT018</td>\n",
       "      <td>2009</td>\n",
       "      <td>Medium</td>\n",
       "      <td>Tier 3</td>\n",
       "      <td>Supermarket Type2</td>\n",
       "      <td>1845.5976</td>\n",
       "    </tr>\n",
       "    <tr>\n",
       "      <th>8522</th>\n",
       "      <td>DRG01</td>\n",
       "      <td>14.800</td>\n",
       "      <td>Low Fat</td>\n",
       "      <td>0.044878</td>\n",
       "      <td>Soft Drinks</td>\n",
       "      <td>75.4670</td>\n",
       "      <td>OUT046</td>\n",
       "      <td>1997</td>\n",
       "      <td>Small</td>\n",
       "      <td>Tier 1</td>\n",
       "      <td>Supermarket Type1</td>\n",
       "      <td>765.6700</td>\n",
       "    </tr>\n",
       "  </tbody>\n",
       "</table>\n",
       "<p>8523 rows × 12 columns</p>\n",
       "</div>"
      ],
      "text/plain": [
       "     Item_Identifier  Item_Weight Item_Fat_Content  Item_Visibility  \\\n",
       "0              FDA15        9.300          Low Fat         0.016047   \n",
       "1              DRC01        5.920          Regular         0.019278   \n",
       "2              FDN15       17.500          Low Fat         0.016760   \n",
       "3              FDX07       19.200          Regular         0.000000   \n",
       "4              NCD19        8.930          Low Fat         0.000000   \n",
       "...              ...          ...              ...              ...   \n",
       "8518           FDF22        6.865          Low Fat         0.056783   \n",
       "8519           FDS36        8.380          Regular         0.046982   \n",
       "8520           NCJ29       10.600          Low Fat         0.035186   \n",
       "8521           FDN46        7.210          Regular         0.145221   \n",
       "8522           DRG01       14.800          Low Fat         0.044878   \n",
       "\n",
       "                  Item_Type  Item_MRP Outlet_Identifier  \\\n",
       "0                     Dairy  249.8092            OUT049   \n",
       "1               Soft Drinks   48.2692            OUT018   \n",
       "2                      Meat  141.6180            OUT049   \n",
       "3     Fruits and Vegetables  182.0950            OUT010   \n",
       "4                 Household   53.8614            OUT013   \n",
       "...                     ...       ...               ...   \n",
       "8518            Snack Foods  214.5218            OUT013   \n",
       "8519           Baking Goods  108.1570            OUT045   \n",
       "8520     Health and Hygiene   85.1224            OUT035   \n",
       "8521            Snack Foods  103.1332            OUT018   \n",
       "8522            Soft Drinks   75.4670            OUT046   \n",
       "\n",
       "      Outlet_Establishment_Year Outlet_Size Outlet_Location_Type  \\\n",
       "0                          1999      Medium               Tier 1   \n",
       "1                          2009      Medium               Tier 3   \n",
       "2                          1999      Medium               Tier 1   \n",
       "3                          1998         NaN               Tier 3   \n",
       "4                          1987        High               Tier 3   \n",
       "...                         ...         ...                  ...   \n",
       "8518                       1987        High               Tier 3   \n",
       "8519                       2002         NaN               Tier 2   \n",
       "8520                       2004       Small               Tier 2   \n",
       "8521                       2009      Medium               Tier 3   \n",
       "8522                       1997       Small               Tier 1   \n",
       "\n",
       "            Outlet_Type  Item_Outlet_Sales  \n",
       "0     Supermarket Type1          3735.1380  \n",
       "1     Supermarket Type2           443.4228  \n",
       "2     Supermarket Type1          2097.2700  \n",
       "3         Grocery Store           732.3800  \n",
       "4     Supermarket Type1           994.7052  \n",
       "...                 ...                ...  \n",
       "8518  Supermarket Type1          2778.3834  \n",
       "8519  Supermarket Type1           549.2850  \n",
       "8520  Supermarket Type1          1193.1136  \n",
       "8521  Supermarket Type2          1845.5976  \n",
       "8522  Supermarket Type1           765.6700  \n",
       "\n",
       "[8523 rows x 12 columns]"
      ]
     },
     "execution_count": 3,
     "metadata": {},
     "output_type": "execute_result"
    }
   ],
   "source": [
    "df"
   ]
  },
  {
   "cell_type": "code",
   "execution_count": 4,
   "id": "779e13d6",
   "metadata": {},
   "outputs": [
    {
     "data": {
      "text/plain": [
       "Item_Identifier               object\n",
       "Item_Weight                  float64\n",
       "Item_Fat_Content              object\n",
       "Item_Visibility              float64\n",
       "Item_Type                     object\n",
       "Item_MRP                     float64\n",
       "Outlet_Identifier             object\n",
       "Outlet_Establishment_Year      int64\n",
       "Outlet_Size                   object\n",
       "Outlet_Location_Type          object\n",
       "Outlet_Type                   object\n",
       "Item_Outlet_Sales            float64\n",
       "dtype: object"
      ]
     },
     "execution_count": 4,
     "metadata": {},
     "output_type": "execute_result"
    }
   ],
   "source": [
    "df.dtypes #Printing the datatypes of all columns"
   ]
  },
  {
   "cell_type": "code",
   "execution_count": 5,
   "id": "6902dbc7",
   "metadata": {},
   "outputs": [
    {
     "data": {
      "text/plain": [
       "Item_Identifier                 0\n",
       "Item_Weight                  1463\n",
       "Item_Fat_Content                0\n",
       "Item_Visibility                 0\n",
       "Item_Type                       0\n",
       "Item_MRP                        0\n",
       "Outlet_Identifier               0\n",
       "Outlet_Establishment_Year       0\n",
       "Outlet_Size                  2410\n",
       "Outlet_Location_Type            0\n",
       "Outlet_Type                     0\n",
       "Item_Outlet_Sales               0\n",
       "dtype: int64"
      ]
     },
     "execution_count": 5,
     "metadata": {},
     "output_type": "execute_result"
    }
   ],
   "source": [
    "df.isnull().sum()# Checking if coluumns have null values"
   ]
  },
  {
   "cell_type": "code",
   "execution_count": 6,
   "id": "250a99b7",
   "metadata": {},
   "outputs": [
    {
     "data": {
      "text/plain": [
       "(8523, 12)"
      ]
     },
     "execution_count": 6,
     "metadata": {},
     "output_type": "execute_result"
    }
   ],
   "source": [
    "df.shape"
   ]
  },
  {
   "cell_type": "code",
   "execution_count": 9,
   "id": "a0eb2ff5",
   "metadata": {},
   "outputs": [],
   "source": [
    "#Replacing null value in df['Item_Weight'] by mean of the column\n",
    "df['Item_Weight'] = df['Item_Weight'].replace(np.NaN,df['Item_Weight'].mean())"
   ]
  },
  {
   "cell_type": "code",
   "execution_count": 10,
   "id": "6c2a35d8",
   "metadata": {},
   "outputs": [
    {
     "data": {
      "text/plain": [
       "Item_Identifier                 0\n",
       "Item_Weight                     0\n",
       "Item_Fat_Content                0\n",
       "Item_Visibility                 0\n",
       "Item_Type                       0\n",
       "Item_MRP                        0\n",
       "Outlet_Identifier               0\n",
       "Outlet_Establishment_Year       0\n",
       "Outlet_Size                  2410\n",
       "Outlet_Location_Type            0\n",
       "Outlet_Type                     0\n",
       "Item_Outlet_Sales               0\n",
       "dtype: int64"
      ]
     },
     "execution_count": 10,
     "metadata": {},
     "output_type": "execute_result"
    }
   ],
   "source": [
    "df.isnull().sum()# Checking if columns have null values"
   ]
  },
  {
   "cell_type": "code",
   "execution_count": 13,
   "id": "47bb8a0d",
   "metadata": {},
   "outputs": [],
   "source": [
    "#Using SimpleImputer to fill the NaN values in Outlet_Size column ( as the column has string values)\n",
    "from sklearn.impute import SimpleImputer\n",
    "imp =SimpleImputer(missing_values =np.NaN,strategy = 'most_frequent')\n",
    "df['Outlet_Size'] = imp.fit_transform(df['Outlet_Size'].values.reshape(-1,1))"
   ]
  },
  {
   "cell_type": "code",
   "execution_count": 14,
   "id": "532be21c",
   "metadata": {},
   "outputs": [
    {
     "data": {
      "text/plain": [
       "Item_Identifier              0\n",
       "Item_Weight                  0\n",
       "Item_Fat_Content             0\n",
       "Item_Visibility              0\n",
       "Item_Type                    0\n",
       "Item_MRP                     0\n",
       "Outlet_Identifier            0\n",
       "Outlet_Establishment_Year    0\n",
       "Outlet_Size                  0\n",
       "Outlet_Location_Type         0\n",
       "Outlet_Type                  0\n",
       "Item_Outlet_Sales            0\n",
       "dtype: int64"
      ]
     },
     "execution_count": 14,
     "metadata": {},
     "output_type": "execute_result"
    }
   ],
   "source": [
    "df.isnull().sum()# Checking if columns have null values Outlet_Size column ( as the column has string values)"
   ]
  },
  {
   "cell_type": "markdown",
   "id": "c6a0d556",
   "metadata": {},
   "source": [
    "# Converting object type column's data into int"
   ]
  },
  {
   "cell_type": "code",
   "execution_count": 28,
   "id": "ed0d1e9c",
   "metadata": {},
   "outputs": [],
   "source": [
    "df['Item_Fat_Content'].replace(['Low Fat', 'Regular', 'low fat', 'LF', 'reg'],[0, 1,2,3,4], inplace=True)\n",
    "df['Item_Type'].replace(['Dairy', 'Soft Drinks', 'Meat', 'Fruits and Vegetables','Household', 'Baking Goods', 'Snack Foods', 'Frozen Foods','Breakfast', 'Health and Hygiene', 'Hard Drinks', 'Canned','Breads', 'Starchy Foods', 'Others', 'Seafood'],[0, 1,2,3,4,5,6,7,8,9,10,11,12,13,14,15], inplace=True)\n",
    "df['Outlet_Identifier'].replace(['OUT049', 'OUT018', 'OUT010', 'OUT013', 'OUT027', 'OUT045','OUT017', 'OUT046', 'OUT035', 'OUT019'],[0, 1,2,3,4,5,6,7,8,9], inplace=True)\n",
    "df['Outlet_Size'].replace(['Medium', 'High', 'Small'],[0, 1,2], inplace=True)\n",
    "df['Outlet_Location_Type'].replace(['Tier 1', 'Tier 3', 'Tier 2'],[0, 1,2], inplace=True)\n",
    "df['Outlet_Type'].replace(['Supermarket Type1', 'Supermarket Type2', 'Grocery Store','Supermarket Type3'],[0, 1,2,3], inplace=True)\n",
    "\n"
   ]
  },
  {
   "cell_type": "code",
   "execution_count": 30,
   "id": "c21b49c5",
   "metadata": {},
   "outputs": [
    {
     "data": {
      "text/plain": [
       "Item_Identifier               object\n",
       "Item_Weight                  float64\n",
       "Item_Fat_Content               int64\n",
       "Item_Visibility              float64\n",
       "Item_Type                      int64\n",
       "Item_MRP                     float64\n",
       "Outlet_Identifier              int64\n",
       "Outlet_Establishment_Year      int64\n",
       "Outlet_Size                    int64\n",
       "Outlet_Location_Type           int64\n",
       "Outlet_Type                    int64\n",
       "Item_Outlet_Sales            float64\n",
       "dtype: object"
      ]
     },
     "execution_count": 30,
     "metadata": {},
     "output_type": "execute_result"
    }
   ],
   "source": [
    "df.dtypes"
   ]
  },
  {
   "cell_type": "code",
   "execution_count": 31,
   "id": "d9a95091",
   "metadata": {},
   "outputs": [
    {
     "name": "stderr",
     "output_type": "stream",
     "text": [
      "/Users/pallavishu/opt/anaconda3/lib/python3.8/site-packages/seaborn/distributions.py:2557: FutureWarning: `distplot` is a deprecated function and will be removed in a future version. Please adapt your code to use either `displot` (a figure-level function with similar flexibility) or `histplot` (an axes-level function for histograms).\n",
      "  warnings.warn(msg, FutureWarning)\n"
     ]
    },
    {
     "data": {
      "text/plain": [
       "<AxesSubplot:xlabel='Item_Weight', ylabel='Density'>"
      ]
     },
     "execution_count": 31,
     "metadata": {},
     "output_type": "execute_result"
    },
    {
     "data": {
      "image/png": "[encoded data removed]",
      "text/plain": [
       "<Figure size 432x288 with 1 Axes>"
      ]
     },
     "metadata": {
      "needs_background": "light"
     },
     "output_type": "display_data"
    }
   ],
   "source": [
    "#Visualization of data\n",
    "#Checking the distribution of float and int(initially) type columns\n",
    "df_visualization_continous =df[[\"Item_Weight\",\"Item_Visibility\",\"Item_MRP\",\"Outlet_Establishment_Year\",\"Item_Outlet_Sales\"]].copy()\n",
    "sns.distplot(df_visualization_continous['Item_Weight'],kde =True)"
   ]
  },
  {
   "cell_type": "code",
   "execution_count": 32,
   "id": "d5508444",
   "metadata": {},
   "outputs": [
    {
     "name": "stderr",
     "output_type": "stream",
     "text": [
      "/Users/pallavishu/opt/anaconda3/lib/python3.8/site-packages/seaborn/distributions.py:2557: FutureWarning: `distplot` is a deprecated function and will be removed in a future version. Please adapt your code to use either `displot` (a figure-level function with similar flexibility) or `histplot` (an axes-level function for histograms).\n",
      "  warnings.warn(msg, FutureWarning)\n"
     ]
    },
    {
     "data": {
      "text/plain": [
       "<AxesSubplot:xlabel='Item_Visibility', ylabel='Density'>"
      ]
     },
     "execution_count": 32,
     "metadata": {},
     "output_type": "execute_result"
    },
    {
     "data": {
      "image/png": "[encoded data removed]",
      "text/plain": [
       "<Figure size 432x288 with 1 Axes>"
      ]
     },
     "metadata": {
      "needs_background": "light"
     },
     "output_type": "display_data"
    }
   ],
   "source": [
    "sns.distplot(df_visualization_continous['Item_Visibility'],kde =True)"
   ]
  },
  {
   "cell_type": "code",
   "execution_count": 33,
   "id": "91e47e96",
   "metadata": {},
   "outputs": [
    {
     "name": "stderr",
     "output_type": "stream",
     "text": [
      "/Users/pallavishu/opt/anaconda3/lib/python3.8/site-packages/seaborn/distributions.py:2557: FutureWarning: `distplot` is a deprecated function and will be removed in a future version. Please adapt your code to use either `displot` (a figure-level function with similar flexibility) or `histplot` (an axes-level function for histograms).\n",
      "  warnings.warn(msg, FutureWarning)\n"
     ]
    },
    {
     "data": {
      "text/plain": [
       "<AxesSubplot:xlabel='Item_MRP', ylabel='Density'>"
      ]
     },
     "execution_count": 33,
     "metadata": {},
     "output_type": "execute_result"
    },
    {
     "data": {
      "image/png": "[encoded data removed]",
      "text/plain": [
       "<Figure size 432x288 with 1 Axes>"
      ]
     },
     "metadata": {
      "needs_background": "light"
     },
     "output_type": "display_data"
    }
   ],
   "source": [
    "sns.distplot(df_visualization_continous['Item_MRP'],kde =True)"
   ]
  },
  {
   "cell_type": "code",
   "execution_count": 34,
   "id": "804f85eb",
   "metadata": {},
   "outputs": [
    {
     "name": "stderr",
     "output_type": "stream",
     "text": [
      "/Users/pallavishu/opt/anaconda3/lib/python3.8/site-packages/seaborn/distributions.py:2557: FutureWarning: `distplot` is a deprecated function and will be removed in a future version. Please adapt your code to use either `displot` (a figure-level function with similar flexibility) or `histplot` (an axes-level function for histograms).\n",
      "  warnings.warn(msg, FutureWarning)\n"
     ]
    },
    {
     "data": {
      "text/plain": [
       "<AxesSubplot:xlabel='Outlet_Establishment_Year', ylabel='Density'>"
      ]
     },
     "execution_count": 34,
     "metadata": {},
     "output_type": "execute_result"
    },
    {
     "data": {
      "image/png": "[encoded data removed]",
      "text/plain": [
       "<Figure size 432x288 with 1 Axes>"
      ]
     },
     "metadata": {
      "needs_background": "light"
     },
     "output_type": "display_data"
    }
   ],
   "source": [
    "sns.distplot(df_visualization_continous['Outlet_Establishment_Year'],kde =True)"
   ]
  },
  {
   "cell_type": "code",
   "execution_count": 36,
   "id": "0b3c6c9f",
   "metadata": {},
   "outputs": [
    {
     "data": {
      "text/html": [
       "<div>\n",
       "<style scoped>\n",
       "    .dataframe tbody tr th:only-of-type {\n",
       "        vertical-align: middle;\n",
       "    }\n",
       "\n",
       "    .dataframe tbody tr th {\n",
       "        vertical-align: top;\n",
       "    }\n",
       "\n",
       "    .dataframe thead th {\n",
       "        text-align: right;\n",
       "    }\n",
       "</style>\n",
       "<table border=\"1\" class=\"dataframe\">\n",
       "  <thead>\n",
       "    <tr style=\"text-align: right;\">\n",
       "      <th></th>\n",
       "      <th>Item_Weight</th>\n",
       "      <th>Item_Fat_Content</th>\n",
       "      <th>Item_Visibility</th>\n",
       "      <th>Item_Type</th>\n",
       "      <th>Item_MRP</th>\n",
       "      <th>Outlet_Identifier</th>\n",
       "      <th>Outlet_Establishment_Year</th>\n",
       "      <th>Outlet_Size</th>\n",
       "      <th>Outlet_Location_Type</th>\n",
       "      <th>Outlet_Type</th>\n",
       "      <th>Item_Outlet_Sales</th>\n",
       "    </tr>\n",
       "  </thead>\n",
       "  <tbody>\n",
       "    <tr>\n",
       "      <th>count</th>\n",
       "      <td>8523.000000</td>\n",
       "      <td>8523.000000</td>\n",
       "      <td>8523.000000</td>\n",
       "      <td>8523.000000</td>\n",
       "      <td>8523.000000</td>\n",
       "      <td>8523.000000</td>\n",
       "      <td>8523.000000</td>\n",
       "      <td>8523.000000</td>\n",
       "      <td>8523.000000</td>\n",
       "      <td>8523.000000</td>\n",
       "      <td>8523.000000</td>\n",
       "    </tr>\n",
       "    <tr>\n",
       "      <th>mean</th>\n",
       "      <td>12.857645</td>\n",
       "      <td>0.531386</td>\n",
       "      <td>0.066132</td>\n",
       "      <td>5.651062</td>\n",
       "      <td>140.992782</td>\n",
       "      <td>4.397161</td>\n",
       "      <td>1997.831867</td>\n",
       "      <td>0.669717</td>\n",
       "      <td>1.046580</td>\n",
       "      <td>0.692127</td>\n",
       "      <td>2181.288914</td>\n",
       "    </tr>\n",
       "    <tr>\n",
       "      <th>std</th>\n",
       "      <td>4.226124</td>\n",
       "      <td>0.813979</td>\n",
       "      <td>0.051598</td>\n",
       "      <td>3.669141</td>\n",
       "      <td>62.275067</td>\n",
       "      <td>2.785507</td>\n",
       "      <td>8.371760</td>\n",
       "      <td>0.884112</td>\n",
       "      <td>0.777719</td>\n",
       "      <td>1.060931</td>\n",
       "      <td>1706.499616</td>\n",
       "    </tr>\n",
       "    <tr>\n",
       "      <th>min</th>\n",
       "      <td>4.555000</td>\n",
       "      <td>0.000000</td>\n",
       "      <td>0.000000</td>\n",
       "      <td>0.000000</td>\n",
       "      <td>31.290000</td>\n",
       "      <td>0.000000</td>\n",
       "      <td>1985.000000</td>\n",
       "      <td>0.000000</td>\n",
       "      <td>0.000000</td>\n",
       "      <td>0.000000</td>\n",
       "      <td>33.290000</td>\n",
       "    </tr>\n",
       "    <tr>\n",
       "      <th>25%</th>\n",
       "      <td>9.310000</td>\n",
       "      <td>0.000000</td>\n",
       "      <td>0.026989</td>\n",
       "      <td>3.000000</td>\n",
       "      <td>93.826500</td>\n",
       "      <td>2.000000</td>\n",
       "      <td>1987.000000</td>\n",
       "      <td>0.000000</td>\n",
       "      <td>0.000000</td>\n",
       "      <td>0.000000</td>\n",
       "      <td>834.247400</td>\n",
       "    </tr>\n",
       "    <tr>\n",
       "      <th>50%</th>\n",
       "      <td>12.857645</td>\n",
       "      <td>0.000000</td>\n",
       "      <td>0.053931</td>\n",
       "      <td>5.000000</td>\n",
       "      <td>143.012800</td>\n",
       "      <td>4.000000</td>\n",
       "      <td>1999.000000</td>\n",
       "      <td>0.000000</td>\n",
       "      <td>1.000000</td>\n",
       "      <td>0.000000</td>\n",
       "      <td>1794.331000</td>\n",
       "    </tr>\n",
       "    <tr>\n",
       "      <th>75%</th>\n",
       "      <td>16.000000</td>\n",
       "      <td>1.000000</td>\n",
       "      <td>0.094585</td>\n",
       "      <td>7.000000</td>\n",
       "      <td>185.643700</td>\n",
       "      <td>7.000000</td>\n",
       "      <td>2004.000000</td>\n",
       "      <td>2.000000</td>\n",
       "      <td>2.000000</td>\n",
       "      <td>1.000000</td>\n",
       "      <td>3101.296400</td>\n",
       "    </tr>\n",
       "    <tr>\n",
       "      <th>max</th>\n",
       "      <td>21.350000</td>\n",
       "      <td>4.000000</td>\n",
       "      <td>0.328391</td>\n",
       "      <td>15.000000</td>\n",
       "      <td>266.888400</td>\n",
       "      <td>9.000000</td>\n",
       "      <td>2009.000000</td>\n",
       "      <td>2.000000</td>\n",
       "      <td>2.000000</td>\n",
       "      <td>3.000000</td>\n",
       "      <td>13086.964800</td>\n",
       "    </tr>\n",
       "  </tbody>\n",
       "</table>\n",
       "</div>"
      ],
      "text/plain": [
       "       Item_Weight  Item_Fat_Content  Item_Visibility    Item_Type  \\\n",
       "count  8523.000000       8523.000000      8523.000000  8523.000000   \n",
       "mean     12.857645          0.531386         0.066132     5.651062   \n",
       "std       4.226124          0.813979         0.051598     3.669141   \n",
       "min       4.555000          0.000000         0.000000     0.000000   \n",
       "25%       9.310000          0.000000         0.026989     3.000000   \n",
       "50%      12.857645          0.000000         0.053931     5.000000   \n",
       "75%      16.000000          1.000000         0.094585     7.000000   \n",
       "max      21.350000          4.000000         0.328391    15.000000   \n",
       "\n",
       "          Item_MRP  Outlet_Identifier  Outlet_Establishment_Year  Outlet_Size  \\\n",
       "count  8523.000000        8523.000000                8523.000000  8523.000000   \n",
       "mean    140.992782           4.397161                1997.831867     0.669717   \n",
       "std      62.275067           2.785507                   8.371760     0.884112   \n",
       "min      31.290000           0.000000                1985.000000     0.000000   \n",
       "25%      93.826500           2.000000                1987.000000     0.000000   \n",
       "50%     143.012800           4.000000                1999.000000     0.000000   \n",
       "75%     185.643700           7.000000                2004.000000     2.000000   \n",
       "max     266.888400           9.000000                2009.000000     2.000000   \n",
       "\n",
       "       Outlet_Location_Type  Outlet_Type  Item_Outlet_Sales  \n",
       "count           8523.000000  8523.000000        8523.000000  \n",
       "mean               1.046580     0.692127        2181.288914  \n",
       "std                0.777719     1.060931        1706.499616  \n",
       "min                0.000000     0.000000          33.290000  \n",
       "25%                0.000000     0.000000         834.247400  \n",
       "50%                1.000000     0.000000        1794.331000  \n",
       "75%                2.000000     1.000000        3101.296400  \n",
       "max                2.000000     3.000000       13086.964800  "
      ]
     },
     "execution_count": 36,
     "metadata": {},
     "output_type": "execute_result"
    }
   ],
   "source": [
    "df.describe()"
   ]
  },
  {
   "cell_type": "code",
   "execution_count": 37,
   "id": "97b61b17",
   "metadata": {},
   "outputs": [
    {
     "data": {
      "text/plain": [
       "<AxesSubplot:>"
      ]
     },
     "execution_count": 37,
     "metadata": {},
     "output_type": "execute_result"
    },
    {
     "data": {
      "image/png": "[encoded data removed]",
      "text/plain": [
       "<Figure size 1584x504 with 2 Axes>"
      ]
     },
     "metadata": {
      "needs_background": "light"
     },
     "output_type": "display_data"
    }
   ],
   "source": [
    "import matplotlib.pyplot as plt\n",
    "plt.figure(figsize =(22,7))\n",
    "sns.heatmap(df.describe(),annot =True,linewidths = 0.1, linecolor =\"black\", fmt = \"0.2f\")"
   ]
  },
  {
   "cell_type": "code",
   "execution_count": 38,
   "id": "7e9e5e37",
   "metadata": {},
   "outputs": [
    {
     "data": {
      "text/plain": [
       "Item_Visibility             -0.128625\n",
       "Outlet_Size                 -0.091442\n",
       "Outlet_Establishment_Year   -0.049135\n",
       "Outlet_Identifier           -0.036944\n",
       "Item_Type                   -0.007849\n",
       "Item_Fat_Content            -0.005906\n",
       "Outlet_Type                  0.005331\n",
       "Item_Weight                  0.011550\n",
       "Outlet_Location_Type         0.099404\n",
       "Item_MRP                     0.567574\n",
       "Item_Outlet_Sales            1.000000\n",
       "Name: Item_Outlet_Sales, dtype: float64"
      ]
     },
     "execution_count": 38,
     "metadata": {},
     "output_type": "execute_result"
    }
   ],
   "source": [
    "#Checking coorelation of all columns with the target column\n",
    "df.corr()['Item_Outlet_Sales'].sort_values()"
   ]
  },
  {
   "cell_type": "code",
   "execution_count": 40,
   "id": "1fa7c28c",
   "metadata": {},
   "outputs": [
    {
     "data": {
      "image/png": "[encoded data removed]",
      "text/plain": [
       "<Figure size 1584x504 with 1 Axes>"
      ]
     },
     "metadata": {
      "needs_background": "light"
     },
     "output_type": "display_data"
    }
   ],
   "source": [
    "#Checking the correlation (+ve and -ve) with the target column in bar graph\n",
    "plt.figure(figsize =(22,7))\n",
    "df.corr()['Item_Outlet_Sales'].sort_values(ascending = False).drop(['Item_Outlet_Sales']).plot(kind= 'bar',color = \"c\")\n",
    "plt.xlabel(\"features\", fontsize = 14)\n",
    "plt.ylabel(\"Column with target names\", fontsize = 14)\n",
    "plt.title(\"Correlation\", fontsize =18)\n",
    "plt.show()"
   ]
  },
  {
   "cell_type": "markdown",
   "id": "9b669a3d",
   "metadata": {},
   "source": [
    "Taking +/-1.0 as the allowed range for skewness. All columns lie in this range."
   ]
  },
  {
   "cell_type": "code",
   "execution_count": 41,
   "id": "06b61987",
   "metadata": {},
   "outputs": [
    {
     "data": {
      "text/plain": [
       "<AxesSubplot:>"
      ]
     },
     "execution_count": 41,
     "metadata": {},
     "output_type": "execute_result"
    },
    {
     "data": {
      "image/png": "[encoded data removed]",
      "text/plain": [
       "<Figure size 432x288 with 1 Axes>"
      ]
     },
     "metadata": {
      "needs_background": "light"
     },
     "output_type": "display_data"
    }
   ],
   "source": [
    "#Checking outliers for int and flot type columns (initially)\n",
    "df[\"Item_Weight\"].plot.box()"
   ]
  },
  {
   "cell_type": "code",
   "execution_count": 42,
   "id": "d8dc3ac0",
   "metadata": {},
   "outputs": [
    {
     "data": {
      "text/plain": [
       "<AxesSubplot:>"
      ]
     },
     "execution_count": 42,
     "metadata": {},
     "output_type": "execute_result"
    },
    {
     "data": {
      "image/png": "[encoded data removed]",
      "text/plain": [
       "<Figure size 432x288 with 1 Axes>"
      ]
     },
     "metadata": {
      "needs_background": "light"
     },
     "output_type": "display_data"
    }
   ],
   "source": [
    "df[\"Item_Visibility\"].plot.box()"
   ]
  },
  {
   "cell_type": "code",
   "execution_count": 43,
   "id": "bd64c42b",
   "metadata": {},
   "outputs": [
    {
     "data": {
      "text/plain": [
       "<AxesSubplot:>"
      ]
     },
     "execution_count": 43,
     "metadata": {},
     "output_type": "execute_result"
    },
    {
     "data": {
      "image/png": "[encoded data removed]",
      "text/plain": [
       "<Figure size 432x288 with 1 Axes>"
      ]
     },
     "metadata": {
      "needs_background": "light"
     },
     "output_type": "display_data"
    }
   ],
   "source": [
    "df[\"Item_MRP\"].plot.box()"
   ]
  },
  {
   "cell_type": "code",
   "execution_count": 44,
   "id": "3d448955",
   "metadata": {},
   "outputs": [
    {
     "data": {
      "text/plain": [
       "<AxesSubplot:>"
      ]
     },
     "execution_count": 44,
     "metadata": {},
     "output_type": "execute_result"
    },
    {
     "data": {
      "image/png": "[encoded data removed]",
      "text/plain": [
       "<Figure size 432x288 with 1 Axes>"
      ]
     },
     "metadata": {
      "needs_background": "light"
     },
     "output_type": "display_data"
    }
   ],
   "source": [
    "df[\"Outlet_Establishment_Year\"].plot.box()"
   ]
  },
  {
   "cell_type": "code",
   "execution_count": 58,
   "id": "ad4cbda1",
   "metadata": {},
   "outputs": [],
   "source": [
    "df2 = df.drop(\"Item_Identifier\",axis =1)"
   ]
  },
  {
   "cell_type": "code",
   "execution_count": 77,
   "id": "be2d07cd",
   "metadata": {},
   "outputs": [
    {
     "data": {
      "text/html": [
       "<div>\n",
       "<style scoped>\n",
       "    .dataframe tbody tr th:only-of-type {\n",
       "        vertical-align: middle;\n",
       "    }\n",
       "\n",
       "    .dataframe tbody tr th {\n",
       "        vertical-align: top;\n",
       "    }\n",
       "\n",
       "    .dataframe thead th {\n",
       "        text-align: right;\n",
       "    }\n",
       "</style>\n",
       "<table border=\"1\" class=\"dataframe\">\n",
       "  <thead>\n",
       "    <tr style=\"text-align: right;\">\n",
       "      <th></th>\n",
       "      <th>Item_Identifier</th>\n",
       "      <th>Item_Weight</th>\n",
       "      <th>Item_Fat_Content</th>\n",
       "      <th>Item_Visibility</th>\n",
       "      <th>Item_Type</th>\n",
       "      <th>Item_MRP</th>\n",
       "      <th>Outlet_Identifier</th>\n",
       "      <th>Outlet_Establishment_Year</th>\n",
       "      <th>Outlet_Size</th>\n",
       "      <th>Outlet_Location_Type</th>\n",
       "      <th>Outlet_Type</th>\n",
       "      <th>Item_Outlet_Sales</th>\n",
       "    </tr>\n",
       "  </thead>\n",
       "  <tbody>\n",
       "    <tr>\n",
       "      <th>0</th>\n",
       "      <td>FDA15</td>\n",
       "      <td>9.300</td>\n",
       "      <td>0</td>\n",
       "      <td>0.016047</td>\n",
       "      <td>0</td>\n",
       "      <td>249.8092</td>\n",
       "      <td>0</td>\n",
       "      <td>1999</td>\n",
       "      <td>0</td>\n",
       "      <td>0</td>\n",
       "      <td>0</td>\n",
       "      <td>3735.1380</td>\n",
       "    </tr>\n",
       "    <tr>\n",
       "      <th>1</th>\n",
       "      <td>DRC01</td>\n",
       "      <td>5.920</td>\n",
       "      <td>1</td>\n",
       "      <td>0.019278</td>\n",
       "      <td>1</td>\n",
       "      <td>48.2692</td>\n",
       "      <td>1</td>\n",
       "      <td>2009</td>\n",
       "      <td>0</td>\n",
       "      <td>1</td>\n",
       "      <td>1</td>\n",
       "      <td>443.4228</td>\n",
       "    </tr>\n",
       "    <tr>\n",
       "      <th>2</th>\n",
       "      <td>FDN15</td>\n",
       "      <td>17.500</td>\n",
       "      <td>0</td>\n",
       "      <td>0.016760</td>\n",
       "      <td>2</td>\n",
       "      <td>141.6180</td>\n",
       "      <td>0</td>\n",
       "      <td>1999</td>\n",
       "      <td>0</td>\n",
       "      <td>0</td>\n",
       "      <td>0</td>\n",
       "      <td>2097.2700</td>\n",
       "    </tr>\n",
       "    <tr>\n",
       "      <th>3</th>\n",
       "      <td>FDX07</td>\n",
       "      <td>19.200</td>\n",
       "      <td>1</td>\n",
       "      <td>0.000000</td>\n",
       "      <td>3</td>\n",
       "      <td>182.0950</td>\n",
       "      <td>2</td>\n",
       "      <td>1998</td>\n",
       "      <td>0</td>\n",
       "      <td>1</td>\n",
       "      <td>2</td>\n",
       "      <td>732.3800</td>\n",
       "    </tr>\n",
       "    <tr>\n",
       "      <th>4</th>\n",
       "      <td>NCD19</td>\n",
       "      <td>8.930</td>\n",
       "      <td>0</td>\n",
       "      <td>0.000000</td>\n",
       "      <td>4</td>\n",
       "      <td>53.8614</td>\n",
       "      <td>3</td>\n",
       "      <td>1987</td>\n",
       "      <td>1</td>\n",
       "      <td>1</td>\n",
       "      <td>0</td>\n",
       "      <td>994.7052</td>\n",
       "    </tr>\n",
       "    <tr>\n",
       "      <th>...</th>\n",
       "      <td>...</td>\n",
       "      <td>...</td>\n",
       "      <td>...</td>\n",
       "      <td>...</td>\n",
       "      <td>...</td>\n",
       "      <td>...</td>\n",
       "      <td>...</td>\n",
       "      <td>...</td>\n",
       "      <td>...</td>\n",
       "      <td>...</td>\n",
       "      <td>...</td>\n",
       "      <td>...</td>\n",
       "    </tr>\n",
       "    <tr>\n",
       "      <th>8518</th>\n",
       "      <td>FDF22</td>\n",
       "      <td>6.865</td>\n",
       "      <td>0</td>\n",
       "      <td>0.056783</td>\n",
       "      <td>6</td>\n",
       "      <td>214.5218</td>\n",
       "      <td>3</td>\n",
       "      <td>1987</td>\n",
       "      <td>1</td>\n",
       "      <td>1</td>\n",
       "      <td>0</td>\n",
       "      <td>2778.3834</td>\n",
       "    </tr>\n",
       "    <tr>\n",
       "      <th>8519</th>\n",
       "      <td>FDS36</td>\n",
       "      <td>8.380</td>\n",
       "      <td>1</td>\n",
       "      <td>0.046982</td>\n",
       "      <td>5</td>\n",
       "      <td>108.1570</td>\n",
       "      <td>5</td>\n",
       "      <td>2002</td>\n",
       "      <td>0</td>\n",
       "      <td>2</td>\n",
       "      <td>0</td>\n",
       "      <td>549.2850</td>\n",
       "    </tr>\n",
       "    <tr>\n",
       "      <th>8520</th>\n",
       "      <td>NCJ29</td>\n",
       "      <td>10.600</td>\n",
       "      <td>0</td>\n",
       "      <td>0.035186</td>\n",
       "      <td>9</td>\n",
       "      <td>85.1224</td>\n",
       "      <td>8</td>\n",
       "      <td>2004</td>\n",
       "      <td>2</td>\n",
       "      <td>2</td>\n",
       "      <td>0</td>\n",
       "      <td>1193.1136</td>\n",
       "    </tr>\n",
       "    <tr>\n",
       "      <th>8521</th>\n",
       "      <td>FDN46</td>\n",
       "      <td>7.210</td>\n",
       "      <td>1</td>\n",
       "      <td>0.145221</td>\n",
       "      <td>6</td>\n",
       "      <td>103.1332</td>\n",
       "      <td>1</td>\n",
       "      <td>2009</td>\n",
       "      <td>0</td>\n",
       "      <td>1</td>\n",
       "      <td>1</td>\n",
       "      <td>1845.5976</td>\n",
       "    </tr>\n",
       "    <tr>\n",
       "      <th>8522</th>\n",
       "      <td>DRG01</td>\n",
       "      <td>14.800</td>\n",
       "      <td>0</td>\n",
       "      <td>0.044878</td>\n",
       "      <td>1</td>\n",
       "      <td>75.4670</td>\n",
       "      <td>7</td>\n",
       "      <td>1997</td>\n",
       "      <td>2</td>\n",
       "      <td>0</td>\n",
       "      <td>0</td>\n",
       "      <td>765.6700</td>\n",
       "    </tr>\n",
       "  </tbody>\n",
       "</table>\n",
       "<p>8523 rows × 12 columns</p>\n",
       "</div>"
      ],
      "text/plain": [
       "     Item_Identifier  Item_Weight  Item_Fat_Content  Item_Visibility  \\\n",
       "0              FDA15        9.300                 0         0.016047   \n",
       "1              DRC01        5.920                 1         0.019278   \n",
       "2              FDN15       17.500                 0         0.016760   \n",
       "3              FDX07       19.200                 1         0.000000   \n",
       "4              NCD19        8.930                 0         0.000000   \n",
       "...              ...          ...               ...              ...   \n",
       "8518           FDF22        6.865                 0         0.056783   \n",
       "8519           FDS36        8.380                 1         0.046982   \n",
       "8520           NCJ29       10.600                 0         0.035186   \n",
       "8521           FDN46        7.210                 1         0.145221   \n",
       "8522           DRG01       14.800                 0         0.044878   \n",
       "\n",
       "      Item_Type  Item_MRP  Outlet_Identifier  Outlet_Establishment_Year  \\\n",
       "0             0  249.8092                  0                       1999   \n",
       "1             1   48.2692                  1                       2009   \n",
       "2             2  141.6180                  0                       1999   \n",
       "3             3  182.0950                  2                       1998   \n",
       "4             4   53.8614                  3                       1987   \n",
       "...         ...       ...                ...                        ...   \n",
       "8518          6  214.5218                  3                       1987   \n",
       "8519          5  108.1570                  5                       2002   \n",
       "8520          9   85.1224                  8                       2004   \n",
       "8521          6  103.1332                  1                       2009   \n",
       "8522          1   75.4670                  7                       1997   \n",
       "\n",
       "      Outlet_Size  Outlet_Location_Type  Outlet_Type  Item_Outlet_Sales  \n",
       "0               0                     0            0          3735.1380  \n",
       "1               0                     1            1           443.4228  \n",
       "2               0                     0            0          2097.2700  \n",
       "3               0                     1            2           732.3800  \n",
       "4               1                     1            0           994.7052  \n",
       "...           ...                   ...          ...                ...  \n",
       "8518            1                     1            0          2778.3834  \n",
       "8519            0                     2            0           549.2850  \n",
       "8520            2                     2            0          1193.1136  \n",
       "8521            0                     1            1          1845.5976  \n",
       "8522            2                     0            0           765.6700  \n",
       "\n",
       "[8523 rows x 12 columns]"
      ]
     },
     "execution_count": 77,
     "metadata": {},
     "output_type": "execute_result"
    }
   ],
   "source": [
    "df"
   ]
  },
  {
   "cell_type": "code",
   "execution_count": 59,
   "id": "e9426d7e",
   "metadata": {},
   "outputs": [
    {
     "data": {
      "text/plain": [
       "(array([  45,   49,   65,   81,   83,  108,  121,  130,  145,  151,  174,\n",
       "         175,  199,  207,  210,  219,  238,  276,  304,  333,  339,  373,\n",
       "         389,  396,  415,  434,  439,  455,  456,  472,  481,  489,  502,\n",
       "         504,  507,  521,  524,  532,  551,  589,  610,  615,  621,  661,\n",
       "         677,  694,  727,  753,  753,  805,  809,  838,  851,  854,  891,\n",
       "         905,  935,  946,  948,  991,  997, 1003, 1009, 1010, 1021, 1034,\n",
       "        1051, 1086, 1090, 1104, 1116, 1118, 1124, 1133, 1138, 1159, 1179,\n",
       "        1183, 1209, 1254, 1272, 1278, 1286, 1291, 1305, 1311, 1321, 1324,\n",
       "        1335, 1372, 1393, 1403, 1433, 1434, 1445, 1450, 1460, 1496, 1501,\n",
       "        1506, 1512, 1542, 1549, 1551, 1560, 1575, 1576, 1589, 1615, 1617,\n",
       "        1632, 1640, 1644, 1651, 1653, 1655, 1661, 1680, 1684, 1690, 1693,\n",
       "        1723, 1753, 1769, 1780, 1802, 1805, 1827, 1827, 1828, 1841, 1841,\n",
       "        1849, 1859, 1865, 1869, 1913, 1945, 1953, 1955, 1978, 1985, 1998,\n",
       "        2024, 2028, 2043, 2048, 2056, 2062, 2088, 2109, 2111, 2112, 2122,\n",
       "        2143, 2144, 2168, 2173, 2188, 2207, 2216, 2223, 2238, 2244, 2251,\n",
       "        2251, 2279, 2293, 2308, 2321, 2324, 2326, 2331, 2347, 2403, 2438,\n",
       "        2439, 2445, 2456, 2516, 2534, 2535, 2552, 2569, 2586, 2601, 2613,\n",
       "        2613, 2660, 2675, 2678, 2697, 2709, 2728, 2742, 2755, 2761, 2776,\n",
       "        2784, 2815, 2823, 2834, 2855, 2895, 2905, 2934, 2948, 2958, 2959,\n",
       "        2971, 2973, 2991, 3011, 3017, 3059, 3073, 3083, 3087, 3098, 3110,\n",
       "        3140, 3146, 3154, 3163, 3168, 3206, 3224, 3225, 3234, 3234, 3241,\n",
       "        3242, 3243, 3258, 3272, 3286, 3289, 3308, 3335, 3347, 3356, 3361,\n",
       "        3367, 3399, 3403, 3407, 3428, 3458, 3474, 3474, 3480, 3488, 3488,\n",
       "        3491, 3497, 3509, 3513, 3530, 3540, 3545, 3551, 3573, 3582, 3602,\n",
       "        3622, 3626, 3665, 3667, 3693, 3699, 3709, 3720, 3750, 3757, 3767,\n",
       "        3810, 3817, 3823, 3830, 3835, 3871, 3873, 3884, 3893, 3926, 3947,\n",
       "        3977, 3979, 3993, 4006, 4008, 4019, 4070, 4083, 4093, 4101, 4109,\n",
       "        4125, 4128, 4163, 4206, 4219, 4226, 4238, 4244, 4245, 4258, 4268,\n",
       "        4279, 4289, 4290, 4325, 4346, 4349, 4372, 4382, 4393, 4398, 4408,\n",
       "        4415, 4425, 4447, 4463, 4479, 4502, 4508, 4523, 4526, 4530, 4553,\n",
       "        4555, 4630, 4656, 4674, 4676, 4680, 4681, 4758, 4772, 4782, 4789,\n",
       "        4789, 4794, 4796, 4835, 4864, 4865, 4869, 4888, 4933, 4935, 4941,\n",
       "        4961, 4971, 4978, 4991, 5031, 5047, 5054, 5058, 5065, 5087, 5111,\n",
       "        5133, 5138, 5146, 5150, 5155, 5177, 5185, 5197, 5198, 5202, 5212,\n",
       "        5217, 5223, 5224, 5229, 5248, 5264, 5287, 5315, 5355, 5374, 5401,\n",
       "        5417, 5460, 5467, 5491, 5500, 5505, 5506, 5536, 5539, 5550, 5552,\n",
       "        5577, 5590, 5591, 5593, 5604, 5611, 5619, 5620, 5628, 5633, 5637,\n",
       "        5649, 5668, 5709, 5732, 5734, 5752, 5768, 5784, 5787, 5795, 5799,\n",
       "        5812, 5833, 5837, 5847, 5864, 5868, 5880, 5890, 5891, 5946, 5977,\n",
       "        6000, 6008, 6011, 6012, 6023, 6024, 6025, 6037, 6045, 6091, 6118,\n",
       "        6132, 6134, 6142, 6147, 6172, 6176, 6179, 6225, 6238, 6252, 6268,\n",
       "        6334, 6341, 6344, 6357, 6370, 6399, 6409, 6442, 6453, 6462, 6464,\n",
       "        6467, 6468, 6486, 6488, 6510, 6527, 6536, 6537, 6538, 6540, 6541,\n",
       "        6572, 6576, 6606, 6620, 6622, 6636, 6674, 6701, 6704, 6729, 6759,\n",
       "        6766, 6786, 6792, 6803, 6820, 6840, 6843, 6875, 6886, 6887, 6890,\n",
       "        6892, 6895, 6903, 6993, 7001, 7005, 7008, 7016, 7051, 7076, 7088,\n",
       "        7107, 7112, 7121, 7131, 7139, 7146, 7147, 7175, 7188, 7191, 7200,\n",
       "        7203, 7204, 7212, 7215, 7226, 7236, 7250, 7256, 7265, 7270, 7277,\n",
       "        7278, 7296, 7302, 7307, 7308, 7310, 7318, 7340, 7343, 7352, 7353,\n",
       "        7388, 7404, 7416, 7496, 7499, 7524, 7535, 7538, 7543, 7551, 7558,\n",
       "        7560, 7562, 7568, 7593, 7603, 7604, 7609, 7640, 7654, 7659, 7690,\n",
       "        7693, 7703, 7712, 7722, 7729, 7744, 7745, 7751, 7752, 7769, 7778,\n",
       "        7812, 7816, 7826, 7833, 7840, 7866, 7895, 7910, 7930, 7936, 7944,\n",
       "        7947, 7949, 8004, 8038, 8039, 8084, 8085, 8103, 8128, 8135, 8143,\n",
       "        8157, 8162, 8194, 8201, 8214, 8215, 8233, 8241, 8245, 8259, 8273,\n",
       "        8273, 8340, 8345, 8351, 8367, 8379, 8387, 8391, 8432, 8443, 8447,\n",
       "        8467, 8517]),\n",
       " array([ 1,  2,  1,  1,  2,  2,  1, 10, 10,  1,  2,  1,  1,  1,  1,  1,  1,\n",
       "        10, 10, 10,  1, 10,  1,  1,  1,  2,  1,  1, 10, 10,  1,  1,  2,  1,\n",
       "         1,  2,  1,  2,  1,  1,  1,  1,  1, 10,  1, 10,  1,  1, 10,  1, 10,\n",
       "         1,  1,  2,  1,  1, 10,  1,  1, 10, 10,  1, 10,  1,  1,  1,  1,  1,\n",
       "         1,  1,  1,  1,  1,  1, 10,  2,  1,  1,  1, 10,  2,  1,  1,  2,  1,\n",
       "         2,  1,  2,  1,  1,  1,  1,  1,  2,  1, 10,  1,  2,  2, 10,  1,  1,\n",
       "         1,  1,  2,  2,  1,  1,  1,  1,  1,  1,  2,  2,  1,  1,  1,  1,  1,\n",
       "         1,  1,  1,  1,  1,  1,  1,  2,  1,  2,  1,  1,  2,  1, 10,  1,  1,\n",
       "         1,  1,  1,  1,  1,  1, 10,  1,  1,  1,  1,  1,  1,  2, 10,  1,  1,\n",
       "         2,  1,  1,  1,  1,  1,  1, 10,  1, 10,  1,  1,  2,  1, 10,  1,  1,\n",
       "         2,  1,  1,  1,  1,  1,  2,  2,  1, 10,  1, 10,  1,  1,  2,  1,  1,\n",
       "         2,  1,  1,  1,  1,  1,  2,  1,  1,  1, 10,  1,  1,  1,  1,  2,  2,\n",
       "         1,  1,  1,  1,  1,  1,  1,  1,  1,  2,  1,  1, 10, 10, 10,  1,  1,\n",
       "         1, 10,  1,  1,  2,  1,  1,  1, 10,  1,  1,  1,  1,  1, 10,  1,  1,\n",
       "         1,  1,  1,  1,  1,  2,  1, 10,  1,  2,  1,  2,  1,  1,  2,  1,  2,\n",
       "         1,  1,  1,  2,  1,  1,  1,  1,  1,  1,  1,  1, 10,  1,  1, 10, 10,\n",
       "         2, 10,  2,  1,  1,  1,  1,  1,  1,  1,  2,  1,  1,  1,  1,  1,  2,\n",
       "         2,  1,  1,  1,  1,  1,  1,  1,  1,  1,  1,  1,  2,  1,  1,  1,  1,\n",
       "         1,  1,  1, 10,  1,  1, 10, 10,  1,  2,  1,  1,  2,  1,  1,  1,  1,\n",
       "         1,  1,  1,  1,  1,  2,  1,  1,  1,  2,  2, 10,  1, 10,  1, 10,  1,\n",
       "         1,  2,  1,  1,  1,  1,  1,  1, 10,  1,  1,  2, 10,  1,  1, 10,  2,\n",
       "         1,  1,  1, 10,  1,  1,  1,  1,  1,  2,  1, 10, 10,  1,  1,  1,  1,\n",
       "         1, 10,  1,  1,  1,  1,  2, 10,  1,  2,  1,  1,  1,  1,  1, 10,  1,\n",
       "         1,  1,  1, 10,  1,  1,  1,  1,  1,  1,  1, 10,  1,  1,  1,  1,  1,\n",
       "         1,  1,  2,  2, 10,  1,  1,  1,  2, 10, 10,  1,  2,  1,  1,  1,  2,\n",
       "         1,  2,  2, 10, 10,  2,  1,  2,  1,  1,  1,  1,  1,  1,  1,  1, 10,\n",
       "         1,  1,  1,  1,  2,  1,  1,  1,  1, 10,  1,  1,  1,  1,  1, 10,  1,\n",
       "         1,  1,  1,  1,  1,  1,  1,  1,  1,  2, 10,  1,  1, 10,  1,  2, 10,\n",
       "         1,  2,  1,  2,  1,  1,  1,  1,  1,  2,  1,  1,  1,  1,  1,  1, 10,\n",
       "         1,  1,  1,  1,  2, 10,  1,  2,  1, 10,  1, 10,  2,  2,  1,  2,  1,\n",
       "         1,  1,  1,  1, 10, 10,  1,  1,  1,  1,  2,  1, 10,  2, 10,  1,  1,\n",
       "         1,  2,  1, 10,  1,  1,  1,  1,  1, 10,  1,  1,  2,  1,  1,  1,  2,\n",
       "         1,  1,  1,  1,  1,  2, 10, 10,  1,  1,  2,  1, 10,  1,  1,  1, 10,\n",
       "         1,  1,  1,  1,  1,  2,  1,  1, 10,  1,  1,  1, 10, 10,  1,  1,  2,\n",
       "         1,  1, 10,  1,  1,  1,  2,  1,  1, 10,  1,  1,  1,  1,  1,  1,  1,\n",
       "         1,  2, 10,  1,  2,  1,  1, 10,  1,  1,  2,  1,  2,  1,  1,  1,  1,\n",
       "         1,  2,  1, 10,  1,  1]))"
      ]
     },
     "execution_count": 59,
     "metadata": {},
     "output_type": "execute_result"
    }
   ],
   "source": [
    "#Checking outlier data\n",
    "from scipy.stats import zscore\n",
    "import numpy as np\n",
    "z= np.abs(zscore(df2))\n",
    "threshhold = 3\n",
    "np.where(z>3)"
   ]
  },
  {
   "cell_type": "code",
   "execution_count": 60,
   "id": "c9e715e8",
   "metadata": {},
   "outputs": [
    {
     "data": {
      "text/plain": [
       "9.683373562402386"
      ]
     },
     "execution_count": 60,
     "metadata": {},
     "output_type": "execute_result"
    }
   ],
   "source": [
    "#removing outliers and checking data loss\n",
    "df_new_z = df2[(z<3).all(axis=1)]\n",
    "#df_new_z.shape\n",
    "#percentage loss\n",
    "data_loss = ((7043-6361)/7043)*100\n",
    "data_loss"
   ]
  },
  {
   "cell_type": "code",
   "execution_count": 79,
   "id": "74042f3c",
   "metadata": {},
   "outputs": [],
   "source": [
    "#Seperating input and output as features and target\n",
    "features = df_new_z.drop(\"Item_Outlet_Sales\",axis =1)\n",
    "target = df_new_z[\"Item_Outlet_Sales\"]\n"
   ]
  },
  {
   "cell_type": "code",
   "execution_count": 62,
   "id": "0fbf3427",
   "metadata": {},
   "outputs": [
    {
     "name": "stdout",
     "output_type": "stream",
     "text": [
      "at random state 0, the train accuracy is: 0.3584829482671622\n",
      "at random state 0, the test accuracy is: 0.37455832590542815\n",
      "\n",
      "\n",
      "at random state 1, the train accuracy is: 0.35688417381751036\n",
      "at random state 1, the test accuracy is: 0.38071140768432754\n",
      "\n",
      "\n",
      "at random state 2, the train accuracy is: 0.3625031258495498\n",
      "at random state 2, the test accuracy is: 0.35772337907829366\n",
      "\n",
      "\n",
      "at random state 3, the train accuracy is: 0.35745491854225486\n",
      "at random state 3, the test accuracy is: 0.3773766516324246\n",
      "\n",
      "\n",
      "at random state 4, the train accuracy is: 0.3579789732965192\n",
      "at random state 4, the test accuracy is: 0.3754885287890112\n",
      "\n",
      "\n",
      "at random state 5, the train accuracy is: 0.35638748572084133\n",
      "at random state 5, the test accuracy is: 0.38285153010969286\n",
      "\n",
      "\n",
      "at random state 6, the train accuracy is: 0.3582498184616266\n",
      "at random state 6, the test accuracy is: 0.37399951578896395\n",
      "\n",
      "\n",
      "at random state 7, the train accuracy is: 0.358908680782669\n",
      "at random state 7, the test accuracy is: 0.3721529778384861\n",
      "\n",
      "\n",
      "at random state 8, the train accuracy is: 0.36099173292894715\n",
      "at random state 8, the test accuracy is: 0.3636878476931328\n",
      "\n",
      "\n",
      "at random state 9, the train accuracy is: 0.3573850553534389\n",
      "at random state 9, the test accuracy is: 0.37729899273174816\n",
      "\n",
      "\n",
      "at random state 10, the train accuracy is: 0.357537922276715\n",
      "at random state 10, the test accuracy is: 0.37661458341415444\n",
      "\n",
      "\n",
      "at random state 11, the train accuracy is: 0.3603614965370201\n",
      "at random state 11, the test accuracy is: 0.3667265256146198\n",
      "\n",
      "\n",
      "at random state 12, the train accuracy is: 0.3613024727752169\n",
      "at random state 12, the test accuracy is: 0.3601069915099012\n",
      "\n",
      "\n",
      "at random state 13, the train accuracy is: 0.3654642235858646\n",
      "at random state 13, the test accuracy is: 0.34461748010722193\n",
      "\n",
      "\n",
      "at random state 14, the train accuracy is: 0.3576250201103146\n",
      "at random state 14, the test accuracy is: 0.3770976454956436\n",
      "\n",
      "\n",
      "at random state 15, the train accuracy is: 0.35963002304905767\n",
      "at random state 15, the test accuracy is: 0.368123477696199\n",
      "\n",
      "\n",
      "at random state 16, the train accuracy is: 0.36494848147089987\n",
      "at random state 16, the test accuracy is: 0.3482280826318829\n",
      "\n",
      "\n",
      "at random state 17, the train accuracy is: 0.3574457626602914\n",
      "at random state 17, the test accuracy is: 0.37801003269411115\n",
      "\n",
      "\n",
      "at random state 18, the train accuracy is: 0.3561640052257391\n",
      "at random state 18, the test accuracy is: 0.38068880309019315\n",
      "\n",
      "\n",
      "at random state 19, the train accuracy is: 0.36670655009473874\n",
      "at random state 19, the test accuracy is: 0.3393994264689659\n",
      "\n",
      "\n",
      "at random state 20, the train accuracy is: 0.36204852246321706\n",
      "at random state 20, the test accuracy is: 0.3591611230460501\n",
      "\n",
      "\n",
      "at random state 21, the train accuracy is: 0.35861270815954593\n",
      "at random state 21, the test accuracy is: 0.3730589891355717\n",
      "\n",
      "\n",
      "at random state 22, the train accuracy is: 0.3626041725463166\n",
      "at random state 22, the test accuracy is: 0.3573788782983486\n",
      "\n",
      "\n",
      "at random state 23, the train accuracy is: 0.36088041520869263\n",
      "at random state 23, the test accuracy is: 0.3637260896443807\n",
      "\n",
      "\n",
      "at random state 24, the train accuracy is: 0.3550018756953086\n",
      "at random state 24, the test accuracy is: 0.38835734718566617\n",
      "\n",
      "\n",
      "at random state 25, the train accuracy is: 0.3616409375570375\n",
      "at random state 25, the test accuracy is: 0.3616379455964862\n",
      "\n",
      "\n",
      "at random state 26, the train accuracy is: 0.36940124632063065\n",
      "at random state 26, the test accuracy is: 0.3288286571873229\n",
      "\n",
      "\n",
      "at random state 27, the train accuracy is: 0.36125447883350936\n",
      "at random state 27, the test accuracy is: 0.3629933738181381\n",
      "\n",
      "\n",
      "at random state 28, the train accuracy is: 0.3615377364803979\n",
      "at random state 28, the test accuracy is: 0.36090180903340086\n",
      "\n",
      "\n",
      "at random state 29, the train accuracy is: 0.359737253277843\n",
      "at random state 29, the test accuracy is: 0.3698827099566022\n",
      "\n",
      "\n",
      "at random state 30, the train accuracy is: 0.37454833694089895\n",
      "at random state 30, the test accuracy is: 0.3017575218415385\n",
      "\n",
      "\n",
      "at random state 31, the train accuracy is: 0.37384189135432344\n",
      "at random state 31, the test accuracy is: 0.30933837961130906\n",
      "\n",
      "\n",
      "at random state 32, the train accuracy is: 0.3656240422705862\n",
      "at random state 32, the test accuracy is: 0.3461019406635054\n",
      "\n",
      "\n",
      "at random state 33, the train accuracy is: 0.3619115564553025\n",
      "at random state 33, the test accuracy is: 0.3603798133654984\n",
      "\n",
      "\n",
      "at random state 34, the train accuracy is: 0.3644910480780368\n",
      "at random state 34, the test accuracy is: 0.3497414573911115\n",
      "\n",
      "\n",
      "at random state 35, the train accuracy is: 0.36421172250758505\n",
      "at random state 35, the test accuracy is: 0.35122744343306944\n",
      "\n",
      "\n",
      "at random state 36, the train accuracy is: 0.3635999280146439\n",
      "at random state 36, the test accuracy is: 0.353311667413004\n",
      "\n",
      "\n",
      "at random state 37, the train accuracy is: 0.36186148338269497\n",
      "at random state 37, the test accuracy is: 0.3607814830645002\n",
      "\n",
      "\n",
      "at random state 38, the train accuracy is: 0.3622098541757479\n",
      "at random state 38, the test accuracy is: 0.35896562899869533\n",
      "\n",
      "\n",
      "at random state 39, the train accuracy is: 0.3655630696050647\n",
      "at random state 39, the test accuracy is: 0.34432782589634203\n",
      "\n",
      "\n",
      "at random state 40, the train accuracy is: 0.3723921022817278\n",
      "at random state 40, the test accuracy is: 0.31502911170265346\n",
      "\n",
      "\n",
      "at random state 41, the train accuracy is: 0.35973464610159034\n",
      "at random state 41, the test accuracy is: 0.36960345607526257\n",
      "\n",
      "\n",
      "at random state 42, the train accuracy is: 0.36011172466418295\n",
      "at random state 42, the test accuracy is: 0.36781231881119636\n",
      "\n",
      "\n",
      "at random state 43, the train accuracy is: 0.36132218415575756\n",
      "at random state 43, the test accuracy is: 0.36236393424203583\n",
      "\n",
      "\n",
      "at random state 44, the train accuracy is: 0.3619084700468256\n",
      "at random state 44, the test accuracy is: 0.3609616203942376\n",
      "\n",
      "\n",
      "at random state 45, the train accuracy is: 0.36076141009797424\n",
      "at random state 45, the test accuracy is: 0.365374483517485\n",
      "\n",
      "\n",
      "at random state 46, the train accuracy is: 0.36573513327204266\n",
      "at random state 46, the test accuracy is: 0.34555968102989076\n",
      "\n",
      "\n",
      "at random state 47, the train accuracy is: 0.3597347026454307\n",
      "at random state 47, the test accuracy is: 0.36924680614763006\n",
      "\n",
      "\n",
      "at random state 48, the train accuracy is: 0.358840128477634\n",
      "at random state 48, the test accuracy is: 0.3736037410565458\n",
      "\n",
      "\n",
      "at random state 49, the train accuracy is: 0.36164876393203915\n",
      "at random state 49, the test accuracy is: 0.36013874688153025\n",
      "\n",
      "\n",
      "at random state 50, the train accuracy is: 0.3580926889624305\n",
      "at random state 50, the test accuracy is: 0.37492808172862724\n",
      "\n",
      "\n",
      "at random state 51, the train accuracy is: 0.3646454044686064\n",
      "at random state 51, the test accuracy is: 0.34926750850211696\n",
      "\n",
      "\n",
      "at random state 52, the train accuracy is: 0.359136545367012\n",
      "at random state 52, the test accuracy is: 0.36966629045477783\n",
      "\n",
      "\n",
      "at random state 53, the train accuracy is: 0.3679218609379282\n",
      "at random state 53, the test accuracy is: 0.3321423305716119\n",
      "\n",
      "\n",
      "at random state 54, the train accuracy is: 0.36185310529138226\n",
      "at random state 54, the test accuracy is: 0.3610466138425895\n",
      "\n",
      "\n",
      "at random state 55, the train accuracy is: 0.3595511669934828\n",
      "at random state 55, the test accuracy is: 0.369942801663552\n",
      "\n",
      "\n",
      "at random state 56, the train accuracy is: 0.3658605780113263\n",
      "at random state 56, the test accuracy is: 0.34343909420975305\n",
      "\n",
      "\n",
      "at random state 57, the train accuracy is: 0.3599803671596923\n",
      "at random state 57, the test accuracy is: 0.36835911587743775\n",
      "\n",
      "\n",
      "at random state 58, the train accuracy is: 0.36546570134120593\n",
      "at random state 58, the test accuracy is: 0.3471845493997696\n",
      "\n",
      "\n",
      "at random state 59, the train accuracy is: 0.3690676645353699\n",
      "at random state 59, the test accuracy is: 0.3290716685153212\n",
      "\n",
      "\n",
      "at random state 60, the train accuracy is: 0.36385176142937403\n",
      "at random state 60, the test accuracy is: 0.35232122985069825\n",
      "\n",
      "\n",
      "at random state 61, the train accuracy is: 0.3650427768544885\n",
      "at random state 61, the test accuracy is: 0.3470001377276899\n",
      "\n",
      "\n",
      "at random state 62, the train accuracy is: 0.35992313572242096\n",
      "at random state 62, the test accuracy is: 0.36897087140770546\n",
      "\n",
      "\n",
      "at random state 63, the train accuracy is: 0.3659431676341448\n",
      "at random state 63, the test accuracy is: 0.3411191033734359\n",
      "\n",
      "\n",
      "at random state 64, the train accuracy is: 0.3587806062000629\n",
      "at random state 64, the test accuracy is: 0.37221224071023973\n",
      "\n",
      "\n",
      "at random state 65, the train accuracy is: 0.37095462864992446\n",
      "at random state 65, the test accuracy is: 0.32309729646306606\n",
      "\n",
      "\n",
      "at random state 66, the train accuracy is: 0.36018139659925397\n",
      "at random state 66, the test accuracy is: 0.3670970169196732\n",
      "\n",
      "\n",
      "at random state 67, the train accuracy is: 0.36004966373788916\n",
      "at random state 67, the test accuracy is: 0.36863565705898715\n",
      "\n",
      "\n",
      "at random state 68, the train accuracy is: 0.36213902759303107\n",
      "at random state 68, the test accuracy is: 0.35885224835975915\n",
      "\n",
      "\n",
      "at random state 69, the train accuracy is: 0.3615058826235421\n",
      "at random state 69, the test accuracy is: 0.361949446917725\n",
      "\n",
      "\n",
      "at random state 70, the train accuracy is: 0.36308859795102755\n",
      "at random state 70, the test accuracy is: 0.35613544215733217\n",
      "\n",
      "\n",
      "at random state 71, the train accuracy is: 0.3611415363514362\n",
      "at random state 71, the test accuracy is: 0.3631132722624043\n",
      "\n",
      "\n",
      "at random state 72, the train accuracy is: 0.3612849949789193\n",
      "at random state 72, the test accuracy is: 0.3620007368748078\n",
      "\n",
      "\n",
      "at random state 73, the train accuracy is: 0.3636774623732606\n",
      "at random state 73, the test accuracy is: 0.353610772362805\n",
      "\n",
      "\n",
      "at random state 74, the train accuracy is: 0.3630933226298897\n",
      "at random state 74, the test accuracy is: 0.35544777719276044\n",
      "\n",
      "\n",
      "at random state 75, the train accuracy is: 0.3584505868323036\n",
      "at random state 75, the test accuracy is: 0.3741931248828765\n",
      "\n",
      "\n",
      "at random state 76, the train accuracy is: 0.36093803595389584\n",
      "at random state 76, the test accuracy is: 0.36410800280976996\n",
      "\n",
      "\n",
      "at random state 77, the train accuracy is: 0.3547372281636626\n",
      "at random state 77, the test accuracy is: 0.3858048734848992\n",
      "\n",
      "\n",
      "at random state 78, the train accuracy is: 0.3596913131264351\n",
      "at random state 78, the test accuracy is: 0.3686873120011762\n",
      "\n",
      "\n",
      "at random state 79, the train accuracy is: 0.36272069565406506\n",
      "at random state 79, the test accuracy is: 0.3570288176692704\n",
      "\n",
      "\n",
      "at random state 80, the train accuracy is: 0.3593574830417622\n",
      "at random state 80, the test accuracy is: 0.37037073144071886\n",
      "\n",
      "\n",
      "at random state 81, the train accuracy is: 0.35614627006312405\n",
      "at random state 81, the test accuracy is: 0.38193261710878135\n",
      "\n",
      "\n",
      "at random state 82, the train accuracy is: 0.36139491716894845\n",
      "at random state 82, the test accuracy is: 0.3627992800212143\n",
      "\n",
      "\n",
      "at random state 83, the train accuracy is: 0.3601807041312274\n",
      "at random state 83, the test accuracy is: 0.3670691464569187\n",
      "\n",
      "\n",
      "at random state 84, the train accuracy is: 0.36353409086960053\n",
      "at random state 84, the test accuracy is: 0.3542729462475368\n",
      "\n",
      "\n",
      "at random state 85, the train accuracy is: 0.36311192393512004\n",
      "at random state 85, the test accuracy is: 0.35600109090425436\n",
      "\n",
      "\n",
      "at random state 86, the train accuracy is: 0.35809077286315416\n",
      "at random state 86, the test accuracy is: 0.3759390363083872\n",
      "\n",
      "\n",
      "at random state 87, the train accuracy is: 0.36885722946096544\n",
      "at random state 87, the test accuracy is: 0.33276283111641214\n",
      "\n",
      "\n",
      "at random state 88, the train accuracy is: 0.3615926788429098\n",
      "at random state 88, the test accuracy is: 0.3618278855089073\n",
      "\n",
      "\n",
      "at random state 89, the train accuracy is: 0.35948016307461705\n",
      "at random state 89, the test accuracy is: 0.37071460621010377\n",
      "\n",
      "\n",
      "at random state 90, the train accuracy is: 0.36765169862359437\n",
      "at random state 90, the test accuracy is: 0.33398663720484223\n",
      "\n",
      "\n",
      "at random state 91, the train accuracy is: 0.3664643992271124\n",
      "at random state 91, the test accuracy is: 0.3420873127487981\n",
      "\n",
      "\n",
      "at random state 92, the train accuracy is: 0.3626236674660174\n",
      "at random state 92, the test accuracy is: 0.3579537923785642\n",
      "\n",
      "\n",
      "at random state 93, the train accuracy is: 0.3596020160184664\n",
      "at random state 93, the test accuracy is: 0.36983082845073534\n",
      "\n",
      "\n",
      "at random state 94, the train accuracy is: 0.359500286027577\n",
      "at random state 94, the test accuracy is: 0.3698290299855266\n",
      "\n",
      "\n",
      "at random state 95, the train accuracy is: 0.3677501927692908\n",
      "at random state 95, the test accuracy is: 0.33647395082876863\n",
      "\n",
      "\n",
      "at random state 96, the train accuracy is: 0.3586494131198956\n",
      "at random state 96, the test accuracy is: 0.3729304453539506\n",
      "\n",
      "\n",
      "at random state 97, the train accuracy is: 0.36475517691603576\n",
      "at random state 97, the test accuracy is: 0.34875808884932014\n",
      "\n",
      "\n",
      "at random state 98, the train accuracy is: 0.3651398756790166\n",
      "at random state 98, the test accuracy is: 0.34704983896114205\n",
      "\n",
      "\n",
      "at random state 99, the train accuracy is: 0.35707377248574845\n",
      "at random state 99, the test accuracy is: 0.3796612533724667\n",
      "\n",
      "\n"
     ]
    }
   ],
   "source": [
    "#Scaling the data using min max scaler\n",
    "from sklearn.preprocessing import MinMaxScaler\n",
    "from sklearn.linear_model import LinearRegression\n",
    "from sklearn.metrics import r2_score\n",
    "from sklearn.model_selection import train_test_split\n",
    "import warnings\n",
    "mms = MinMaxScaler()\n",
    "lr = LinearRegression()\n",
    "warnings.filterwarnings(\"ignore\")\n",
    "for i in range(0,100):\n",
    "    features_train, features_test, target_train, target_test = train_test_split(features,target,test_size = 0.2,random_state =i)\n",
    "    lr.fit(features_train,target_train)\n",
    "    pred_train = lr.predict(features_train)\n",
    "    pred_test = lr.predict(features_test)\n",
    "    print(f\"at random state {i}, the train accuracy is: {r2_score(target_train,pred_train)}\")\n",
    "    print(f\"at random state {i}, the test accuracy is: {r2_score(target_test,pred_test)}\")\n",
    "    print(\"\\n\")"
   ]
  },
  {
   "cell_type": "code",
   "execution_count": 63,
   "id": "be4fd443",
   "metadata": {},
   "outputs": [
    {
     "name": "stdout",
     "output_type": "stream",
     "text": [
      "0.38835734718566617\n"
     ]
    }
   ],
   "source": [
    "#we are selecting random state as 80 because at i=24 we are getting highest test accuracy\n",
    "features_train, features_test, target_train, target_test = train_test_split(features,target,test_size = 0.2,random_state =24)\n",
    "#training the model\n",
    "lr.fit(features_train,target_train)\n",
    "#Predicting values\n",
    "pred_test = lr.predict(features_test)\n",
    "print(r2_score(target_test,pred_test))"
   ]
  },
  {
   "cell_type": "code",
   "execution_count": 64,
   "id": "7719e397",
   "metadata": {},
   "outputs": [
    {
     "name": "stdout",
     "output_type": "stream",
     "text": [
      "At cross fold 2 the cv score is: 0.35662937994759036 and accuracy score for training is: -0.32412411547830544 and accuracy for testing is: 0.38835734718566617\n",
      "\n",
      "\n",
      "At cross fold 3 the cv score is: 0.35817381601231285 and accuracy score for training is: -0.32412411547830544 and accuracy for testing is: 0.38835734718566617\n",
      "\n",
      "\n",
      "At cross fold 4 the cv score is: 0.3578413573873701 and accuracy score for training is: -0.32412411547830544 and accuracy for testing is: 0.38835734718566617\n",
      "\n",
      "\n",
      "At cross fold 5 the cv score is: 0.35864850662110365 and accuracy score for training is: -0.32412411547830544 and accuracy for testing is: 0.38835734718566617\n",
      "\n",
      "\n",
      "At cross fold 6 the cv score is: 0.359255304586368 and accuracy score for training is: -0.32412411547830544 and accuracy for testing is: 0.38835734718566617\n",
      "\n",
      "\n",
      "At cross fold 7 the cv score is: 0.3590698123947327 and accuracy score for training is: -0.32412411547830544 and accuracy for testing is: 0.38835734718566617\n",
      "\n",
      "\n",
      "At cross fold 8 the cv score is: 0.3590113284785508 and accuracy score for training is: -0.32412411547830544 and accuracy for testing is: 0.38835734718566617\n",
      "\n",
      "\n",
      "At cross fold 9 the cv score is: 0.3585887814195299 and accuracy score for training is: -0.32412411547830544 and accuracy for testing is: 0.38835734718566617\n",
      "\n",
      "\n"
     ]
    }
   ],
   "source": [
    "#Cross validation of model\n",
    "Training_accuracy = r2_score(target_train,pred_train)\n",
    "Test_accuracy = r2_score(target_test,pred_test)\n",
    "from sklearn.model_selection import cross_val_score\n",
    "#Checking at what random state we have highest cross validation score and test accuracy\n",
    "for j in range(2,10):\n",
    "    cv_score = cross_val_score(lr,features,target,cv=j)#cv = j means my data will be divided into j equal parts\n",
    "    cv_mean= cv_score.mean()\n",
    "    print(f\"At cross fold {j} the cv score is: {cv_mean} and accuracy score for training is: {Training_accuracy} and accuracy for testing is: {Test_accuracy}\")\n",
    "    print(\"\\n\")      "
   ]
  },
  {
   "cell_type": "markdown",
   "id": "ed34b52f",
   "metadata": {},
   "source": [
    "Since we have highest cv score in cross fold 6 So we will select j=6 (as no impact of j on test score )"
   ]
  },
  {
   "cell_type": "code",
   "execution_count": 65,
   "id": "78a7d258",
   "metadata": {},
   "outputs": [],
   "source": [
    "cv_score = cross_val_score(lr,features,target,cv=6)#cv = j means my data will be divided into j equal parts\n",
    "cv_mean= cv_score.mean()"
   ]
  },
  {
   "cell_type": "code",
   "execution_count": 66,
   "id": "1db5bfd7",
   "metadata": {},
   "outputs": [
    {
     "data": {
      "image/png": "[encoded data removed]",
      "text/plain": [
       "<Figure size 576x432 with 1 Axes>"
      ]
     },
     "metadata": {
      "needs_background": "light"
     },
     "output_type": "display_data"
    }
   ],
   "source": [
    "#drawing scatterplot to confirm the best fit line\n",
    "import matplotlib.pyplot as plt\n",
    "plt.figure(figsize = (8,6))\n",
    "plt.scatter(x= target_test,y=pred_test,color = \"r\")\n",
    "plt.plot(target_test,target_test, color = \"b\")\n",
    "plt.xlabel(\"Actual sales\",fontsize = 14)\n",
    "plt.ylabel(\"Predicted sales\", fontsize = 14)\n",
    "plt.title(\"Linear Regression\", fontsize = 18)\n",
    "plt.savefig(\"lr.png\")\n",
    "plt.show()"
   ]
  },
  {
   "cell_type": "code",
   "execution_count": 67,
   "id": "995571ca",
   "metadata": {},
   "outputs": [
    {
     "name": "stdout",
     "output_type": "stream",
     "text": [
      "{'alpha': 0.0001, 'random_state': 0}\n"
     ]
    }
   ],
   "source": [
    "#regularization to remove overfitting and underfitting\n",
    "from sklearn.model_selection import GridSearchCV\n",
    "from sklearn.model_selection import cross_val_score\n",
    "import warnings\n",
    "warnings.filterwarnings(\"ignore\")\n",
    "from sklearn.linear_model import Lasso\n",
    "parameters = {'alpha':[0.0001,0.001,0.01,0.1,1,10],'random_state':list(range(0,10))}\n",
    "ls =Lasso()\n",
    "clf = GridSearchCV(ls,parameters)\n",
    "clf.fit(features_train,target_train)\n",
    "print(clf.best_params_)"
   ]
  },
  {
   "cell_type": "code",
   "execution_count": 68,
   "id": "21e2120f",
   "metadata": {},
   "outputs": [
    {
     "data": {
      "text/plain": [
       "35.500187569349364"
      ]
     },
     "execution_count": 68,
     "metadata": {},
     "output_type": "execute_result"
    }
   ],
   "source": [
    "#training as per best params\n",
    "ls =Lasso(alpha =0.0001, random_state = 0)\n",
    "ls.fit(features_train,target_train)\n",
    "ls_score_training=ls.score(features_train,target_train)\n",
    "pred_ls = ls.predict(features_test)\n",
    "ls_score_training*100"
   ]
  },
  {
   "cell_type": "code",
   "execution_count": 70,
   "id": "bbf0f53c",
   "metadata": {},
   "outputs": [
    {
     "data": {
      "text/plain": [
       "38.83573551570423"
      ]
     },
     "execution_count": 70,
     "metadata": {},
     "output_type": "execute_result"
    }
   ],
   "source": [
    "#getting ls score\n",
    "lss = r2_score(target_test,pred_ls)\n",
    "lss*100"
   ]
  },
  {
   "cell_type": "code",
   "execution_count": 71,
   "id": "1314eb94",
   "metadata": {},
   "outputs": [
    {
     "data": {
      "text/plain": [
       "35.86485079644899"
      ]
     },
     "execution_count": 71,
     "metadata": {},
     "output_type": "execute_result"
    }
   ],
   "source": [
    "#getting cv score\n",
    "cv_score = cross_val_score(ls,features,target,cv=5)\n",
    "cv_mean = cv_score.mean()\n",
    "cv_mean*100"
   ]
  },
  {
   "cell_type": "code",
   "execution_count": 73,
   "id": "837e75d9",
   "metadata": {},
   "outputs": [
    {
     "name": "stdout",
     "output_type": "stream",
     "text": [
      "{'criterion': 'mse', 'max_features': 'sqrt'}\n"
     ]
    },
    {
     "data": {
      "text/plain": [
       "35.86485079644899"
      ]
     },
     "execution_count": 73,
     "metadata": {},
     "output_type": "execute_result"
    }
   ],
   "source": [
    "#Ensembling\n",
    "from sklearn.model_selection import GridSearchCV\n",
    "from sklearn.ensemble import RandomForestRegressor\n",
    "import warnings\n",
    "warnings.filterwarnings(\"ignore\")\n",
    "from sklearn.linear_model import Lasso\n",
    "parameters = {'criterion':['mse','mse'],'max_features':[\"auto\",\"sqrt\",\"log2\"]}\n",
    "rf =RandomForestRegressor()\n",
    "clf = GridSearchCV(rf,parameters)\n",
    "clf.fit(features_train,target_train)\n",
    "print(clf.best_params_)\n",
    "#training as per best params\n",
    "rf =RandomForestRegressor(criterion =\"mse\", max_features = \"sqrt\")\n",
    "rf.fit(features_train,target_train)\n",
    "rf.score(features_train,target_train)\n",
    "pred_decision = rf.predict(features_test)\n",
    "#getting ls score\n",
    "rfs= r2_score(target_test,pred_ls)\n",
    "rfs*100\n",
    "#getting cv score\n",
    "rf_score = cross_val_score(rf,features,target,cv=5)\n",
    "rf_mean = cv_score.mean()\n",
    "rf_mean*100"
   ]
  },
  {
   "cell_type": "code",
   "execution_count": 85,
   "id": "686e7978",
   "metadata": {},
   "outputs": [
    {
     "data": {
      "text/html": [
       "<div>\n",
       "<style scoped>\n",
       "    .dataframe tbody tr th:only-of-type {\n",
       "        vertical-align: middle;\n",
       "    }\n",
       "\n",
       "    .dataframe tbody tr th {\n",
       "        vertical-align: top;\n",
       "    }\n",
       "\n",
       "    .dataframe thead th {\n",
       "        text-align: right;\n",
       "    }\n",
       "</style>\n",
       "<table border=\"1\" class=\"dataframe\">\n",
       "  <thead>\n",
       "    <tr style=\"text-align: right;\">\n",
       "      <th></th>\n",
       "      <th>0</th>\n",
       "      <th>1</th>\n",
       "      <th>2</th>\n",
       "      <th>3</th>\n",
       "      <th>4</th>\n",
       "      <th>5</th>\n",
       "      <th>6</th>\n",
       "      <th>7</th>\n",
       "      <th>8</th>\n",
       "      <th>9</th>\n",
       "      <th>...</th>\n",
       "      <th>8513</th>\n",
       "      <th>8514</th>\n",
       "      <th>8515</th>\n",
       "      <th>8516</th>\n",
       "      <th>8517</th>\n",
       "      <th>8518</th>\n",
       "      <th>8519</th>\n",
       "      <th>8520</th>\n",
       "      <th>8521</th>\n",
       "      <th>8522</th>\n",
       "    </tr>\n",
       "  </thead>\n",
       "  <tbody>\n",
       "    <tr>\n",
       "      <th>Predicted</th>\n",
       "      <td>3705.596454</td>\n",
       "      <td>594.239816</td>\n",
       "      <td>2185.202206</td>\n",
       "      <td>600.897816</td>\n",
       "      <td>938.14549</td>\n",
       "      <td>655.593286</td>\n",
       "      <td>528.14585</td>\n",
       "      <td>2743.149264</td>\n",
       "      <td>1205.19787</td>\n",
       "      <td>3859.569362</td>\n",
       "      <td>...</td>\n",
       "      <td>917.40582</td>\n",
       "      <td>584.246158</td>\n",
       "      <td>1862.828504</td>\n",
       "      <td>935.968324</td>\n",
       "      <td>2767.99692</td>\n",
       "      <td>3046.707458</td>\n",
       "      <td>1637.022434</td>\n",
       "      <td>1239.127038</td>\n",
       "      <td>1620.850152</td>\n",
       "      <td>888.323676</td>\n",
       "    </tr>\n",
       "    <tr>\n",
       "      <th>Original</th>\n",
       "      <td>3735.138000</td>\n",
       "      <td>443.422800</td>\n",
       "      <td>2097.270000</td>\n",
       "      <td>732.380000</td>\n",
       "      <td>994.70520</td>\n",
       "      <td>556.608800</td>\n",
       "      <td>343.55280</td>\n",
       "      <td>4022.763600</td>\n",
       "      <td>1076.59860</td>\n",
       "      <td>4710.535000</td>\n",
       "      <td>...</td>\n",
       "      <td>595.22520</td>\n",
       "      <td>468.723200</td>\n",
       "      <td>1571.288000</td>\n",
       "      <td>858.882000</td>\n",
       "      <td>3608.63600</td>\n",
       "      <td>2778.383400</td>\n",
       "      <td>549.285000</td>\n",
       "      <td>1193.113600</td>\n",
       "      <td>1845.597600</td>\n",
       "      <td>765.670000</td>\n",
       "    </tr>\n",
       "  </tbody>\n",
       "</table>\n",
       "<p>2 rows × 8523 columns</p>\n",
       "</div>"
      ],
      "text/plain": [
       "                  0           1            2           3          4     \\\n",
       "Predicted  3705.596454  594.239816  2185.202206  600.897816  938.14549   \n",
       "Original   3735.138000  443.422800  2097.270000  732.380000  994.70520   \n",
       "\n",
       "                 5          6            7           8            9     ...  \\\n",
       "Predicted  655.593286  528.14585  2743.149264  1205.19787  3859.569362  ...   \n",
       "Original   556.608800  343.55280  4022.763600  1076.59860  4710.535000  ...   \n",
       "\n",
       "                8513        8514         8515        8516        8517  \\\n",
       "Predicted  917.40582  584.246158  1862.828504  935.968324  2767.99692   \n",
       "Original   595.22520  468.723200  1571.288000  858.882000  3608.63600   \n",
       "\n",
       "                  8518         8519         8520         8521        8522  \n",
       "Predicted  3046.707458  1637.022434  1239.127038  1620.850152  888.323676  \n",
       "Original   2778.383400   549.285000  1193.113600  1845.597600  765.670000  \n",
       "\n",
       "[2 rows x 8523 columns]"
      ]
     },
     "execution_count": 85,
     "metadata": {},
     "output_type": "execute_result"
    }
   ],
   "source": [
    "#Saving and loading the model\n",
    "import pickle\n",
    "file_name = \"churn.pkl\"\n",
    "pickle.dump(rf,open(file_name,\"wb\"))\n",
    "#loading model\n",
    "loaded_model = pickle.load(open(\"churn.pkl\",\"rb\"))\n",
    "conclusion =pd.DataFrame([loaded_model.predict(x)[:],y],index = [\"Predicted\",\"Original\"])\n",
    "conclusion"
   ]
  },
  {
   "cell_type": "code",
   "execution_count": null,
   "id": "4c7feb18",
   "metadata": {},
   "outputs": [],
   "source": []
  }
 ],
 "metadata": {
  "kernelspec": {
   "display_name": "Python 3",
   "language": "python",
   "name": "python3"
  },
  "language_info": {
   "codemirror_mode": {
    "name": "ipython",
    "version": 3
   },
   "file_extension": ".py",
   "mimetype": "text/x-python",
   "name": "python",
   "nbconvert_exporter": "python",
   "pygments_lexer": "ipython3",
   "version": "3.8.8"
  }
 },
 "nbformat": 4,
 "nbformat_minor": 5
}
