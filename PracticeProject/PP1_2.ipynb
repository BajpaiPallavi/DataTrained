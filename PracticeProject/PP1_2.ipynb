{
 "cells": [
  {
   "cell_type": "code",
   "execution_count": 28,
   "id": "7b911a61",
   "metadata": {},
   "outputs": [
    {
     "data": {
      "text/plain": [
       "Index(['rank', 'discipline', 'yrs.since.phd', 'yrs.service', 'sex', 'salary'], dtype='object')"
      ]
     },
     "execution_count": 28,
     "metadata": {},
     "output_type": "execute_result"
    }
   ],
   "source": [
    "import pandas as pd \n",
    "import numpy as np\n",
    "import seaborn as sns\n",
    "df = pd.read_csv(\"Salaries.csv\")\n",
    "df.columns#printing all the columns"
   ]
  },
  {
   "cell_type": "code",
   "execution_count": 29,
   "id": "d5b3f6e1",
   "metadata": {},
   "outputs": [
    {
     "data": {
      "text/html": [
       "<div>\n",
       "<style scoped>\n",
       "    .dataframe tbody tr th:only-of-type {\n",
       "        vertical-align: middle;\n",
       "    }\n",
       "\n",
       "    .dataframe tbody tr th {\n",
       "        vertical-align: top;\n",
       "    }\n",
       "\n",
       "    .dataframe thead th {\n",
       "        text-align: right;\n",
       "    }\n",
       "</style>\n",
       "<table border=\"1\" class=\"dataframe\">\n",
       "  <thead>\n",
       "    <tr style=\"text-align: right;\">\n",
       "      <th></th>\n",
       "      <th>rank</th>\n",
       "      <th>discipline</th>\n",
       "      <th>yrs.since.phd</th>\n",
       "      <th>yrs.service</th>\n",
       "      <th>sex</th>\n",
       "      <th>salary</th>\n",
       "    </tr>\n",
       "  </thead>\n",
       "  <tbody>\n",
       "    <tr>\n",
       "      <th>0</th>\n",
       "      <td>Prof</td>\n",
       "      <td>B</td>\n",
       "      <td>19</td>\n",
       "      <td>18</td>\n",
       "      <td>Male</td>\n",
       "      <td>139750</td>\n",
       "    </tr>\n",
       "    <tr>\n",
       "      <th>1</th>\n",
       "      <td>Prof</td>\n",
       "      <td>B</td>\n",
       "      <td>20</td>\n",
       "      <td>16</td>\n",
       "      <td>Male</td>\n",
       "      <td>173200</td>\n",
       "    </tr>\n",
       "    <tr>\n",
       "      <th>2</th>\n",
       "      <td>AsstProf</td>\n",
       "      <td>B</td>\n",
       "      <td>4</td>\n",
       "      <td>3</td>\n",
       "      <td>Male</td>\n",
       "      <td>79750</td>\n",
       "    </tr>\n",
       "    <tr>\n",
       "      <th>3</th>\n",
       "      <td>Prof</td>\n",
       "      <td>B</td>\n",
       "      <td>45</td>\n",
       "      <td>39</td>\n",
       "      <td>Male</td>\n",
       "      <td>115000</td>\n",
       "    </tr>\n",
       "    <tr>\n",
       "      <th>4</th>\n",
       "      <td>Prof</td>\n",
       "      <td>B</td>\n",
       "      <td>40</td>\n",
       "      <td>41</td>\n",
       "      <td>Male</td>\n",
       "      <td>141500</td>\n",
       "    </tr>\n",
       "    <tr>\n",
       "      <th>...</th>\n",
       "      <td>...</td>\n",
       "      <td>...</td>\n",
       "      <td>...</td>\n",
       "      <td>...</td>\n",
       "      <td>...</td>\n",
       "      <td>...</td>\n",
       "    </tr>\n",
       "    <tr>\n",
       "      <th>392</th>\n",
       "      <td>Prof</td>\n",
       "      <td>A</td>\n",
       "      <td>33</td>\n",
       "      <td>30</td>\n",
       "      <td>Male</td>\n",
       "      <td>103106</td>\n",
       "    </tr>\n",
       "    <tr>\n",
       "      <th>393</th>\n",
       "      <td>Prof</td>\n",
       "      <td>A</td>\n",
       "      <td>31</td>\n",
       "      <td>19</td>\n",
       "      <td>Male</td>\n",
       "      <td>150564</td>\n",
       "    </tr>\n",
       "    <tr>\n",
       "      <th>394</th>\n",
       "      <td>Prof</td>\n",
       "      <td>A</td>\n",
       "      <td>42</td>\n",
       "      <td>25</td>\n",
       "      <td>Male</td>\n",
       "      <td>101738</td>\n",
       "    </tr>\n",
       "    <tr>\n",
       "      <th>395</th>\n",
       "      <td>Prof</td>\n",
       "      <td>A</td>\n",
       "      <td>25</td>\n",
       "      <td>15</td>\n",
       "      <td>Male</td>\n",
       "      <td>95329</td>\n",
       "    </tr>\n",
       "    <tr>\n",
       "      <th>396</th>\n",
       "      <td>AsstProf</td>\n",
       "      <td>A</td>\n",
       "      <td>8</td>\n",
       "      <td>4</td>\n",
       "      <td>Male</td>\n",
       "      <td>81035</td>\n",
       "    </tr>\n",
       "  </tbody>\n",
       "</table>\n",
       "<p>397 rows × 6 columns</p>\n",
       "</div>"
      ],
      "text/plain": [
       "         rank discipline  yrs.since.phd  yrs.service   sex  salary\n",
       "0        Prof          B             19           18  Male  139750\n",
       "1        Prof          B             20           16  Male  173200\n",
       "2    AsstProf          B              4            3  Male   79750\n",
       "3        Prof          B             45           39  Male  115000\n",
       "4        Prof          B             40           41  Male  141500\n",
       "..        ...        ...            ...          ...   ...     ...\n",
       "392      Prof          A             33           30  Male  103106\n",
       "393      Prof          A             31           19  Male  150564\n",
       "394      Prof          A             42           25  Male  101738\n",
       "395      Prof          A             25           15  Male   95329\n",
       "396  AsstProf          A              8            4  Male   81035\n",
       "\n",
       "[397 rows x 6 columns]"
      ]
     },
     "execution_count": 29,
     "metadata": {},
     "output_type": "execute_result"
    }
   ],
   "source": [
    "df"
   ]
  },
  {
   "cell_type": "code",
   "execution_count": 30,
   "id": "be94cf45",
   "metadata": {},
   "outputs": [
    {
     "data": {
      "text/plain": [
       "rank             object\n",
       "discipline       object\n",
       "yrs.since.phd     int64\n",
       "yrs.service       int64\n",
       "sex              object\n",
       "salary            int64\n",
       "dtype: object"
      ]
     },
     "execution_count": 30,
     "metadata": {},
     "output_type": "execute_result"
    }
   ],
   "source": [
    "df.dtypes #Printing the datatypes of all columns"
   ]
  },
  {
   "cell_type": "markdown",
   "id": "dac6163c",
   "metadata": {},
   "source": [
    "We have 3 columns of int datatype and 2 columns of object datatype"
   ]
  },
  {
   "cell_type": "code",
   "execution_count": 31,
   "id": "149cc388",
   "metadata": {},
   "outputs": [
    {
     "data": {
      "text/plain": [
       "371"
      ]
     },
     "execution_count": 31,
     "metadata": {},
     "output_type": "execute_result"
    }
   ],
   "source": [
    "df['salary'].nunique()"
   ]
  },
  {
   "cell_type": "markdown",
   "id": "1401d313",
   "metadata": {},
   "source": [
    "Since we have 371 unique values in target column hence it is a regression problem"
   ]
  },
  {
   "cell_type": "code",
   "execution_count": 32,
   "id": "d27d9276",
   "metadata": {},
   "outputs": [
    {
     "data": {
      "text/html": [
       "<div>\n",
       "<style scoped>\n",
       "    .dataframe tbody tr th:only-of-type {\n",
       "        vertical-align: middle;\n",
       "    }\n",
       "\n",
       "    .dataframe tbody tr th {\n",
       "        vertical-align: top;\n",
       "    }\n",
       "\n",
       "    .dataframe thead th {\n",
       "        text-align: right;\n",
       "    }\n",
       "</style>\n",
       "<table border=\"1\" class=\"dataframe\">\n",
       "  <thead>\n",
       "    <tr style=\"text-align: right;\">\n",
       "      <th></th>\n",
       "      <th>rank</th>\n",
       "      <th>discipline</th>\n",
       "      <th>yrs.since.phd</th>\n",
       "      <th>yrs.service</th>\n",
       "      <th>sex</th>\n",
       "      <th>salary</th>\n",
       "    </tr>\n",
       "  </thead>\n",
       "  <tbody>\n",
       "  </tbody>\n",
       "</table>\n",
       "</div>"
      ],
      "text/plain": [
       "Empty DataFrame\n",
       "Columns: [rank, discipline, yrs.since.phd, yrs.service, sex, salary]\n",
       "Index: []"
      ]
     },
     "execution_count": 32,
     "metadata": {},
     "output_type": "execute_result"
    }
   ],
   "source": [
    "df.loc[df['salary']==\" \"]#Checking if target column have space as values"
   ]
  },
  {
   "cell_type": "markdown",
   "id": "8b9b2f76",
   "metadata": {},
   "source": [
    "Dataset is not having any space value"
   ]
  },
  {
   "cell_type": "code",
   "execution_count": 33,
   "id": "e94ad49d",
   "metadata": {},
   "outputs": [
    {
     "data": {
      "text/plain": [
       "rank             0\n",
       "discipline       0\n",
       "yrs.since.phd    0\n",
       "yrs.service      0\n",
       "sex              0\n",
       "salary           0\n",
       "dtype: int64"
      ]
     },
     "execution_count": 33,
     "metadata": {},
     "output_type": "execute_result"
    }
   ],
   "source": [
    "df.isnull().sum()# Checking if coluumns have null values"
   ]
  },
  {
   "cell_type": "markdown",
   "id": "dfb2ed9e",
   "metadata": {},
   "source": [
    "Dataset is not having any null value"
   ]
  },
  {
   "cell_type": "code",
   "execution_count": 34,
   "id": "defc5e60",
   "metadata": {},
   "outputs": [],
   "source": [
    "#Making dataframe nominal\n",
    "df_visualization_nominal = df[['rank', 'discipline', 'yrs.since.phd', 'yrs.service', 'sex', 'salary']].copy()"
   ]
  },
  {
   "cell_type": "code",
   "execution_count": 35,
   "id": "b4cf7f08",
   "metadata": {},
   "outputs": [
    {
     "data": {
      "text/plain": [
       "rank             object\n",
       "discipline       object\n",
       "yrs.since.phd     int64\n",
       "yrs.service       int64\n",
       "sex              object\n",
       "salary            int64\n",
       "dtype: object"
      ]
     },
     "execution_count": 35,
     "metadata": {},
     "output_type": "execute_result"
    }
   ],
   "source": [
    "df.dtypes #Printing the datatypes of all columns"
   ]
  },
  {
   "cell_type": "code",
   "execution_count": 36,
   "id": "d06e4494",
   "metadata": {},
   "outputs": [
    {
     "name": "stdout",
     "output_type": "stream",
     "text": [
      "Prof         266\n",
      "AsstProf      67\n",
      "AssocProf     64\n",
      "Name: rank, dtype: int64\n"
     ]
    },
    {
     "data": {
      "image/png": "[encoded data removed]",
      "text/plain": [
       "<Figure size 432x288 with 1 Axes>"
      ]
     },
     "metadata": {
      "needs_background": "light"
     },
     "output_type": "display_data"
    }
   ],
   "source": [
    "#\n",
    "#Visualization of data\n",
    "ax = sns.countplot(x=\"rank\",data=df_visualization_nominal)\n",
    "print(df_visualization_nominal[\"rank\"].value_counts())"
   ]
  },
  {
   "cell_type": "code",
   "execution_count": 37,
   "id": "a3c1e237",
   "metadata": {},
   "outputs": [
    {
     "name": "stdout",
     "output_type": "stream",
     "text": [
      "B    216\n",
      "A    181\n",
      "Name: discipline, dtype: int64\n"
     ]
    },
    {
     "data": {
      "image/png": "[encoded data removed]",
      "text/plain": [
       "<Figure size 432x288 with 1 Axes>"
      ]
     },
     "metadata": {
      "needs_background": "light"
     },
     "output_type": "display_data"
    }
   ],
   "source": [
    "#\n",
    "ax = sns.countplot(x=\"discipline\",data=df_visualization_nominal)\n",
    "print(df_visualization_nominal[\"discipline\"].value_counts())"
   ]
  },
  {
   "cell_type": "code",
   "execution_count": 39,
   "id": "0b035df8",
   "metadata": {},
   "outputs": [
    {
     "name": "stdout",
     "output_type": "stream",
     "text": [
      "Male      358\n",
      "Female     39\n",
      "Name: sex, dtype: int64\n"
     ]
    },
    {
     "data": {
      "image/png": "[encoded data removed]",
      "text/plain": [
       "<Figure size 432x288 with 1 Axes>"
      ]
     },
     "metadata": {
      "needs_background": "light"
     },
     "output_type": "display_data"
    }
   ],
   "source": [
    "#\n",
    "ax = sns.countplot(x='sex',data=df_visualization_nominal)\n",
    "print(df_visualization_nominal['sex'].value_counts())"
   ]
  },
  {
   "cell_type": "code",
   "execution_count": 40,
   "id": "a9d5e734",
   "metadata": {},
   "outputs": [
    {
     "data": {
      "text/plain": [
       "<AxesSubplot:xlabel='yrs.since.phd', ylabel='Density'>"
      ]
     },
     "execution_count": 40,
     "metadata": {},
     "output_type": "execute_result"
    },
    {
     "data": {
      "image/png": "[encoded data removed]",
      "text/plain": [
       "<Figure size 432x288 with 1 Axes>"
      ]
     },
     "metadata": {
      "needs_background": "light"
     },
     "output_type": "display_data"
    }
   ],
   "source": [
    "#Checking the distribution of float and int type columns\n",
    "df_visualization_continous =df[[\"yrs.since.phd\",\"yrs.service\",\"salary\"]].copy()\n",
    "sns.distplot(df_visualization_continous['yrs.since.phd'],kde =True)"
   ]
  },
  {
   "cell_type": "code",
   "execution_count": 41,
   "id": "093a0350",
   "metadata": {},
   "outputs": [
    {
     "data": {
      "text/plain": [
       "<AxesSubplot:xlabel='yrs.service', ylabel='Density'>"
      ]
     },
     "execution_count": 41,
     "metadata": {},
     "output_type": "execute_result"
    },
    {
     "data": {
      "image/png": "[encoded data removed]",
      "text/plain": [
       "<Figure size 432x288 with 1 Axes>"
      ]
     },
     "metadata": {
      "needs_background": "light"
     },
     "output_type": "display_data"
    }
   ],
   "source": [
    "sns.distplot(df_visualization_continous['yrs.service'],kde =True)"
   ]
  },
  {
   "cell_type": "code",
   "execution_count": 42,
   "id": "6db5f81d",
   "metadata": {},
   "outputs": [
    {
     "data": {
      "text/plain": [
       "<AxesSubplot:xlabel='salary', ylabel='Density'>"
      ]
     },
     "execution_count": 42,
     "metadata": {},
     "output_type": "execute_result"
    },
    {
     "data": {
      "image/png": "[encoded data removed]",
      "text/plain": [
       "<Figure size 432x288 with 1 Axes>"
      ]
     },
     "metadata": {
      "needs_background": "light"
     },
     "output_type": "display_data"
    }
   ],
   "source": [
    "sns.distplot(df_visualization_continous['salary'],kde =True)"
   ]
  },
  {
   "cell_type": "code",
   "execution_count": 43,
   "id": "eff1bd29",
   "metadata": {},
   "outputs": [
    {
     "data": {
      "text/html": [
       "<div>\n",
       "<style scoped>\n",
       "    .dataframe tbody tr th:only-of-type {\n",
       "        vertical-align: middle;\n",
       "    }\n",
       "\n",
       "    .dataframe tbody tr th {\n",
       "        vertical-align: top;\n",
       "    }\n",
       "\n",
       "    .dataframe thead th {\n",
       "        text-align: right;\n",
       "    }\n",
       "</style>\n",
       "<table border=\"1\" class=\"dataframe\">\n",
       "  <thead>\n",
       "    <tr style=\"text-align: right;\">\n",
       "      <th></th>\n",
       "      <th>rank</th>\n",
       "      <th>discipline</th>\n",
       "      <th>yrs.since.phd</th>\n",
       "      <th>yrs.service</th>\n",
       "      <th>sex</th>\n",
       "      <th>salary</th>\n",
       "    </tr>\n",
       "  </thead>\n",
       "  <tbody>\n",
       "    <tr>\n",
       "      <th>count</th>\n",
       "      <td>397.000000</td>\n",
       "      <td>397.000000</td>\n",
       "      <td>397.000000</td>\n",
       "      <td>397.000000</td>\n",
       "      <td>397.000000</td>\n",
       "      <td>397.000000</td>\n",
       "    </tr>\n",
       "    <tr>\n",
       "      <th>mean</th>\n",
       "      <td>1.508816</td>\n",
       "      <td>0.544081</td>\n",
       "      <td>22.314861</td>\n",
       "      <td>17.614610</td>\n",
       "      <td>0.901763</td>\n",
       "      <td>113706.458438</td>\n",
       "    </tr>\n",
       "    <tr>\n",
       "      <th>std</th>\n",
       "      <td>0.757486</td>\n",
       "      <td>0.498682</td>\n",
       "      <td>12.887003</td>\n",
       "      <td>13.006024</td>\n",
       "      <td>0.298010</td>\n",
       "      <td>30289.038695</td>\n",
       "    </tr>\n",
       "    <tr>\n",
       "      <th>min</th>\n",
       "      <td>0.000000</td>\n",
       "      <td>0.000000</td>\n",
       "      <td>1.000000</td>\n",
       "      <td>0.000000</td>\n",
       "      <td>0.000000</td>\n",
       "      <td>57800.000000</td>\n",
       "    </tr>\n",
       "    <tr>\n",
       "      <th>25%</th>\n",
       "      <td>1.000000</td>\n",
       "      <td>0.000000</td>\n",
       "      <td>12.000000</td>\n",
       "      <td>7.000000</td>\n",
       "      <td>1.000000</td>\n",
       "      <td>91000.000000</td>\n",
       "    </tr>\n",
       "    <tr>\n",
       "      <th>50%</th>\n",
       "      <td>2.000000</td>\n",
       "      <td>1.000000</td>\n",
       "      <td>21.000000</td>\n",
       "      <td>16.000000</td>\n",
       "      <td>1.000000</td>\n",
       "      <td>107300.000000</td>\n",
       "    </tr>\n",
       "    <tr>\n",
       "      <th>75%</th>\n",
       "      <td>2.000000</td>\n",
       "      <td>1.000000</td>\n",
       "      <td>32.000000</td>\n",
       "      <td>27.000000</td>\n",
       "      <td>1.000000</td>\n",
       "      <td>134185.000000</td>\n",
       "    </tr>\n",
       "    <tr>\n",
       "      <th>max</th>\n",
       "      <td>2.000000</td>\n",
       "      <td>1.000000</td>\n",
       "      <td>56.000000</td>\n",
       "      <td>60.000000</td>\n",
       "      <td>1.000000</td>\n",
       "      <td>231545.000000</td>\n",
       "    </tr>\n",
       "  </tbody>\n",
       "</table>\n",
       "</div>"
      ],
      "text/plain": [
       "             rank  discipline  yrs.since.phd  yrs.service         sex  \\\n",
       "count  397.000000  397.000000     397.000000   397.000000  397.000000   \n",
       "mean     1.508816    0.544081      22.314861    17.614610    0.901763   \n",
       "std      0.757486    0.498682      12.887003    13.006024    0.298010   \n",
       "min      0.000000    0.000000       1.000000     0.000000    0.000000   \n",
       "25%      1.000000    0.000000      12.000000     7.000000    1.000000   \n",
       "50%      2.000000    1.000000      21.000000    16.000000    1.000000   \n",
       "75%      2.000000    1.000000      32.000000    27.000000    1.000000   \n",
       "max      2.000000    1.000000      56.000000    60.000000    1.000000   \n",
       "\n",
       "              salary  \n",
       "count     397.000000  \n",
       "mean   113706.458438  \n",
       "std     30289.038695  \n",
       "min     57800.000000  \n",
       "25%     91000.000000  \n",
       "50%    107300.000000  \n",
       "75%    134185.000000  \n",
       "max    231545.000000  "
      ]
     },
     "execution_count": 43,
     "metadata": {},
     "output_type": "execute_result"
    }
   ],
   "source": [
    "#Since we have data of rest of columns as object we will use encoding techniques to convert it into numeric data\n",
    "from sklearn.preprocessing import OrdinalEncoder\n",
    "\n",
    "enc = OrdinalEncoder()\n",
    "for i in df.columns:\n",
    "    if df[i].dtypes == \"object\":\n",
    "        df[i] = enc.fit_transform(df[i].values.reshape(-1,1))\n",
    "df.describe()"
   ]
  },
  {
   "cell_type": "markdown",
   "id": "bf92396f",
   "metadata": {},
   "source": [
    "By comparing the mean and median value of each of int and flot columns we fing there is no skewness present"
   ]
  },
  {
   "cell_type": "code",
   "execution_count": 44,
   "id": "6478f58a",
   "metadata": {},
   "outputs": [
    {
     "data": {
      "text/plain": [
       "<AxesSubplot:>"
      ]
     },
     "execution_count": 44,
     "metadata": {},
     "output_type": "execute_result"
    },
    {
     "data": {
      "image/png": "[encoded data removed]",
      "text/plain": [
       "<Figure size 1584x504 with 2 Axes>"
      ]
     },
     "metadata": {
      "needs_background": "light"
     },
     "output_type": "display_data"
    }
   ],
   "source": [
    "import matplotlib.pyplot as plt\n",
    "plt.figure(figsize =(22,7))\n",
    "sns.heatmap(df.describe(),annot =True,linewidths = 0.1, linecolor =\"black\", fmt = \"0.2f\")"
   ]
  },
  {
   "cell_type": "code",
   "execution_count": 45,
   "id": "9c0fa36b",
   "metadata": {},
   "outputs": [
    {
     "data": {
      "text/plain": [
       "sex              0.138610\n",
       "discipline       0.156084\n",
       "yrs.service      0.334745\n",
       "yrs.since.phd    0.419231\n",
       "rank             0.522207\n",
       "salary           1.000000\n",
       "Name: salary, dtype: float64"
      ]
     },
     "execution_count": 45,
     "metadata": {},
     "output_type": "execute_result"
    }
   ],
   "source": [
    "#Checking coorelation of all columns with the target column\n",
    "df.corr()['salary'].sort_values()"
   ]
  },
  {
   "cell_type": "code",
   "execution_count": 46,
   "id": "c0cb3b2c",
   "metadata": {},
   "outputs": [
    {
     "data": {
      "text/plain": [
       "<AxesSubplot:>"
      ]
     },
     "execution_count": 46,
     "metadata": {},
     "output_type": "execute_result"
    },
    {
     "data": {
      "image/png": "[encoded data removed]",
      "text/plain": [
       "<Figure size 1584x504 with 2 Axes>"
      ]
     },
     "metadata": {
      "needs_background": "light"
     },
     "output_type": "display_data"
    }
   ],
   "source": [
    "#drawing correlation heatmap\n",
    "plt.figure(figsize =(22,7))\n",
    "sns.heatmap(df.corr(),annot =True,linewidths = 0.1, linecolor =\"black\", fmt = \"0.2f\")"
   ]
  },
  {
   "cell_type": "code",
   "execution_count": 47,
   "id": "a4289c9a",
   "metadata": {},
   "outputs": [
    {
     "data": {
      "image/png": "[encoded data removed]",
      "text/plain": [
       "<Figure size 1584x504 with 1 Axes>"
      ]
     },
     "metadata": {
      "needs_background": "light"
     },
     "output_type": "display_data"
    }
   ],
   "source": [
    "#Checking the correlation (+ve and -ve) with the target column in bar graph\n",
    "plt.figure(figsize =(22,7))\n",
    "df.corr()['salary'].sort_values(ascending = False).drop(['salary']).plot(kind= 'bar',color = \"c\")\n",
    "plt.xlabel(\"features\", fontsize = 14)\n",
    "plt.ylabel(\"Column with target names\", fontsize = 14)\n",
    "plt.title(\"Correlation\", fontsize =18)\n",
    "plt.show()"
   ]
  },
  {
   "cell_type": "code",
   "execution_count": 48,
   "id": "4ceb755b",
   "metadata": {
    "scrolled": true
   },
   "outputs": [
    {
     "data": {
      "text/plain": [
       "rank            -1.151164\n",
       "discipline      -0.177684\n",
       "yrs.since.phd    0.300880\n",
       "yrs.service      0.650569\n",
       "sex             -2.709958\n",
       "salary           0.714568\n",
       "dtype: float64"
      ]
     },
     "execution_count": 48,
     "metadata": {},
     "output_type": "execute_result"
    }
   ],
   "source": [
    "#Checking skewness\n",
    "df.skew()"
   ]
  },
  {
   "cell_type": "markdown",
   "id": "47dcebdb",
   "metadata": {},
   "source": [
    "Taking +/-0.5 as the allowed range for skewness so below are the columns which donot lie in this range \n",
    "- rank\n",
    "- yrs.service\n",
    "- sex\n",
    "- salary\n",
    "\n",
    "\n",
    "Since all the above columns except yrs.service are either categorical or Target hence we will only remove skewness from yrs.service column"
   ]
  },
  {
   "cell_type": "code",
   "execution_count": 49,
   "id": "d5f8363e",
   "metadata": {},
   "outputs": [
    {
     "data": {
      "text/plain": [
       "<AxesSubplot:>"
      ]
     },
     "execution_count": 49,
     "metadata": {},
     "output_type": "execute_result"
    },
    {
     "data": {
      "image/png": "[encoded data removed]",
      "text/plain": [
       "<Figure size 432x288 with 1 Axes>"
      ]
     },
     "metadata": {
      "needs_background": "light"
     },
     "output_type": "display_data"
    }
   ],
   "source": [
    "#Checking outliers for int and flot type columns (initially)\n",
    "df[\"yrs.since.phd\"].plot.box()"
   ]
  },
  {
   "cell_type": "markdown",
   "id": "621f23dd",
   "metadata": {},
   "source": [
    "No outliers in yrs.since.phd"
   ]
  },
  {
   "cell_type": "code",
   "execution_count": 50,
   "id": "c153571a",
   "metadata": {},
   "outputs": [
    {
     "data": {
      "text/plain": [
       "<AxesSubplot:>"
      ]
     },
     "execution_count": 50,
     "metadata": {},
     "output_type": "execute_result"
    },
    {
     "data": {
      "image/png": "[encoded data removed]",
      "text/plain": [
       "<Figure size 432x288 with 1 Axes>"
      ]
     },
     "metadata": {
      "needs_background": "light"
     },
     "output_type": "display_data"
    }
   ],
   "source": [
    "df[\"yrs.service\"].plot.box()"
   ]
  },
  {
   "cell_type": "markdown",
   "id": "b02eb849",
   "metadata": {},
   "source": [
    "No outliers in yrs.service"
   ]
  },
  {
   "cell_type": "code",
   "execution_count": 54,
   "id": "16cded27",
   "metadata": {},
   "outputs": [
    {
     "data": {
      "text/plain": [
       "<AxesSubplot:>"
      ]
     },
     "execution_count": 54,
     "metadata": {},
     "output_type": "execute_result"
    },
    {
     "data": {
      "image/png": "[encoded data removed]",
      "text/plain": [
       "<Figure size 432x288 with 1 Axes>"
      ]
     },
     "metadata": {
      "needs_background": "light"
     },
     "output_type": "display_data"
    }
   ],
   "source": [
    "df[\"salary\"].plot.box()"
   ]
  },
  {
   "cell_type": "markdown",
   "id": "39c39c3f",
   "metadata": {},
   "source": [
    "We will not reove outliers as \"salary \" is target"
   ]
  },
  {
   "cell_type": "code",
   "execution_count": 55,
   "id": "48b96b8e",
   "metadata": {},
   "outputs": [
    {
     "data": {
      "text/plain": [
       "(array([  9,  19,  24,  34,  35,  43,  47,  48,  52,  63,  68,  84,  90,\n",
       "        103, 114, 119, 123, 127, 131, 132, 133, 148, 153, 179, 186, 218,\n",
       "        230, 231, 233, 237, 245, 253, 254, 274, 316, 323, 330, 332, 334,\n",
       "        341, 358, 361, 364]),\n",
       " array([4, 4, 4, 4, 4, 5, 4, 4, 4, 4, 4, 4, 4, 4, 4, 4, 4, 4, 3, 4, 4, 4,\n",
       "        4, 4, 4, 4, 4, 4, 4, 4, 4, 4, 4, 4, 4, 4, 3, 4, 4, 4, 4, 4, 5]))"
      ]
     },
     "execution_count": 55,
     "metadata": {},
     "output_type": "execute_result"
    }
   ],
   "source": [
    "#Checking outlier data\n",
    "from scipy.stats import zscore\n",
    "import numpy as np\n",
    "z= np.abs(zscore(df))\n",
    "threshhold = 3\n",
    "np.where(z>3)"
   ]
  },
  {
   "cell_type": "code",
   "execution_count": 58,
   "id": "3cb768ec",
   "metadata": {},
   "outputs": [
    {
     "data": {
      "text/plain": [
       "9.683373562402386"
      ]
     },
     "execution_count": 58,
     "metadata": {},
     "output_type": "execute_result"
    }
   ],
   "source": [
    "#removing outliers and checking data loss\n",
    "df_new_z = df[(z<3).all(axis=1)]\n",
    "#df_new_z.shape\n",
    "#percentage loss\n",
    "data_loss = ((7043-6361)/7043)*100\n",
    "data_loss"
   ]
  },
  {
   "cell_type": "code",
   "execution_count": 59,
   "id": "32ba7c06",
   "metadata": {},
   "outputs": [],
   "source": [
    "#Seperating input and output as features and target\n",
    "features = df_new_z.drop(\"salary\",axis =1)\n",
    "target = df_new_z[\"salary\"]"
   ]
  },
  {
   "cell_type": "code",
   "execution_count": null,
   "id": "91de6d8c",
   "metadata": {},
   "outputs": [],
   "source": []
  },
  {
   "cell_type": "code",
   "execution_count": 60,
   "id": "7b7a73e4",
   "metadata": {},
   "outputs": [
    {
     "name": "stdout",
     "output_type": "stream",
     "text": [
      "at random state 0, the train accuracy is: 0.34580725676637414\n",
      "at random state 0, the test accuracy is: 0.34217255754527753\n",
      "\n",
      "\n",
      "at random state 1, the train accuracy is: 0.3177281294109646\n",
      "at random state 1, the test accuracy is: 0.4167670143137434\n",
      "\n",
      "\n",
      "at random state 2, the train accuracy is: 0.3489855563877067\n",
      "at random state 2, the test accuracy is: 0.34872682277049494\n",
      "\n",
      "\n",
      "at random state 3, the train accuracy is: 0.3377849738773925\n",
      "at random state 3, the test accuracy is: 0.39167515905108974\n",
      "\n",
      "\n",
      "at random state 4, the train accuracy is: 0.31709990965379276\n",
      "at random state 4, the test accuracy is: 0.4240683627635452\n",
      "\n",
      "\n",
      "at random state 5, the train accuracy is: 0.33392951900456636\n",
      "at random state 5, the test accuracy is: 0.4141058387669241\n",
      "\n",
      "\n",
      "at random state 6, the train accuracy is: 0.3329973194212317\n",
      "at random state 6, the test accuracy is: 0.36894100539819885\n",
      "\n",
      "\n",
      "at random state 7, the train accuracy is: 0.35604831349084975\n",
      "at random state 7, the test accuracy is: 0.30578905607485785\n",
      "\n",
      "\n",
      "at random state 8, the train accuracy is: 0.367865323559486\n",
      "at random state 8, the test accuracy is: 0.27347691334656365\n",
      "\n",
      "\n",
      "at random state 9, the train accuracy is: 0.35652919283413076\n",
      "at random state 9, the test accuracy is: 0.23539059025487974\n",
      "\n",
      "\n",
      "at random state 10, the train accuracy is: 0.3339520872427463\n",
      "at random state 10, the test accuracy is: 0.397414170405467\n",
      "\n",
      "\n",
      "at random state 11, the train accuracy is: 0.3292994980963656\n",
      "at random state 11, the test accuracy is: 0.38573192370980347\n",
      "\n",
      "\n",
      "at random state 12, the train accuracy is: 0.3605588062967947\n",
      "at random state 12, the test accuracy is: 0.2895002445582837\n",
      "\n",
      "\n",
      "at random state 13, the train accuracy is: 0.3343812992073939\n",
      "at random state 13, the test accuracy is: 0.3855498893488285\n",
      "\n",
      "\n",
      "at random state 14, the train accuracy is: 0.3293567149627934\n",
      "at random state 14, the test accuracy is: 0.4329086067643523\n",
      "\n",
      "\n",
      "at random state 15, the train accuracy is: 0.34152916895474006\n",
      "at random state 15, the test accuracy is: 0.33764736570768794\n",
      "\n",
      "\n",
      "at random state 16, the train accuracy is: 0.36078267413794785\n",
      "at random state 16, the test accuracy is: 0.2770315573738237\n",
      "\n",
      "\n",
      "at random state 17, the train accuracy is: 0.3612641985577578\n",
      "at random state 17, the test accuracy is: 0.3017174267896757\n",
      "\n",
      "\n",
      "at random state 18, the train accuracy is: 0.3486756028592206\n",
      "at random state 18, the test accuracy is: 0.34085976635671067\n",
      "\n",
      "\n",
      "at random state 19, the train accuracy is: 0.3638680062971662\n",
      "at random state 19, the test accuracy is: 0.3026241864317526\n",
      "\n",
      "\n",
      "at random state 20, the train accuracy is: 0.31614668459001816\n",
      "at random state 20, the test accuracy is: 0.48542300985965137\n",
      "\n",
      "\n",
      "at random state 21, the train accuracy is: 0.3367645158985564\n",
      "at random state 21, the test accuracy is: 0.36892546561749595\n",
      "\n",
      "\n",
      "at random state 22, the train accuracy is: 0.3750078768981381\n",
      "at random state 22, the test accuracy is: 0.23544860145529778\n",
      "\n",
      "\n",
      "at random state 23, the train accuracy is: 0.33851119233230864\n",
      "at random state 23, the test accuracy is: 0.3935843851495776\n",
      "\n",
      "\n",
      "at random state 24, the train accuracy is: 0.3532028630974624\n",
      "at random state 24, the test accuracy is: 0.31424054905153687\n",
      "\n",
      "\n",
      "at random state 25, the train accuracy is: 0.3500420252270945\n",
      "at random state 25, the test accuracy is: 0.3366852561298417\n",
      "\n",
      "\n",
      "at random state 26, the train accuracy is: 0.3259000631276445\n",
      "at random state 26, the test accuracy is: 0.427248461525802\n",
      "\n",
      "\n",
      "at random state 27, the train accuracy is: 0.36305111570105775\n",
      "at random state 27, the test accuracy is: 0.28342312793411495\n",
      "\n",
      "\n",
      "at random state 28, the train accuracy is: 0.33540008256020704\n",
      "at random state 28, the test accuracy is: 0.4100749629158723\n",
      "\n",
      "\n",
      "at random state 29, the train accuracy is: 0.3605186419320213\n",
      "at random state 29, the test accuracy is: 0.30061856814387455\n",
      "\n",
      "\n",
      "at random state 30, the train accuracy is: 0.32537240081471597\n",
      "at random state 30, the test accuracy is: 0.4307652006464119\n",
      "\n",
      "\n",
      "at random state 31, the train accuracy is: 0.35225935956341525\n",
      "at random state 31, the test accuracy is: 0.3011344504415363\n",
      "\n",
      "\n",
      "at random state 32, the train accuracy is: 0.35993572252306283\n",
      "at random state 32, the test accuracy is: 0.30337788850239134\n",
      "\n",
      "\n",
      "at random state 33, the train accuracy is: 0.3675655991529525\n",
      "at random state 33, the test accuracy is: 0.2592121030485218\n",
      "\n",
      "\n",
      "at random state 34, the train accuracy is: 0.33457685627049016\n",
      "at random state 34, the test accuracy is: 0.40325178221584823\n",
      "\n",
      "\n",
      "at random state 35, the train accuracy is: 0.3482183565773541\n",
      "at random state 35, the test accuracy is: 0.317519731190944\n",
      "\n",
      "\n",
      "at random state 36, the train accuracy is: 0.3482090289048785\n",
      "at random state 36, the test accuracy is: 0.3457614801438471\n",
      "\n",
      "\n",
      "at random state 37, the train accuracy is: 0.3505804258535755\n",
      "at random state 37, the test accuracy is: 0.3360715393404178\n",
      "\n",
      "\n",
      "at random state 38, the train accuracy is: 0.33808549628621853\n",
      "at random state 38, the test accuracy is: 0.36236011240950095\n",
      "\n",
      "\n",
      "at random state 39, the train accuracy is: 0.37849117291321865\n",
      "at random state 39, the test accuracy is: 0.17021442133082854\n",
      "\n",
      "\n",
      "at random state 40, the train accuracy is: 0.37734263550340963\n",
      "at random state 40, the test accuracy is: 0.1553656071962196\n",
      "\n",
      "\n",
      "at random state 41, the train accuracy is: 0.32893099497481926\n",
      "at random state 41, the test accuracy is: 0.4060731480456855\n",
      "\n",
      "\n",
      "at random state 42, the train accuracy is: 0.3439253252262343\n",
      "at random state 42, the test accuracy is: 0.35673145308557075\n",
      "\n",
      "\n",
      "at random state 43, the train accuracy is: 0.36686616719834786\n",
      "at random state 43, the test accuracy is: 0.25246275971250687\n",
      "\n",
      "\n",
      "at random state 44, the train accuracy is: 0.3402366944380999\n",
      "at random state 44, the test accuracy is: 0.34503448780243373\n",
      "\n",
      "\n",
      "at random state 45, the train accuracy is: 0.3488392213681336\n",
      "at random state 45, the test accuracy is: 0.3545763824746051\n",
      "\n",
      "\n",
      "at random state 46, the train accuracy is: 0.33816038924020597\n",
      "at random state 46, the test accuracy is: 0.40411082914013574\n",
      "\n",
      "\n",
      "at random state 47, the train accuracy is: 0.3637807357735582\n",
      "at random state 47, the test accuracy is: 0.25466124419958425\n",
      "\n",
      "\n",
      "at random state 48, the train accuracy is: 0.36967649339134534\n",
      "at random state 48, the test accuracy is: 0.26389686952406877\n",
      "\n",
      "\n",
      "at random state 49, the train accuracy is: 0.36981221559042343\n",
      "at random state 49, the test accuracy is: 0.22688738677753872\n",
      "\n",
      "\n",
      "at random state 50, the train accuracy is: 0.3633857287469948\n",
      "at random state 50, the test accuracy is: 0.2745520854055482\n",
      "\n",
      "\n",
      "at random state 51, the train accuracy is: 0.3655750588043356\n",
      "at random state 51, the test accuracy is: 0.26925712534801205\n",
      "\n",
      "\n",
      "at random state 52, the train accuracy is: 0.3212344304125846\n",
      "at random state 52, the test accuracy is: 0.41864976576959356\n",
      "\n",
      "\n",
      "at random state 53, the train accuracy is: 0.35675892200197834\n",
      "at random state 53, the test accuracy is: 0.31138799332304046\n",
      "\n",
      "\n",
      "at random state 54, the train accuracy is: 0.3143920428646404\n",
      "at random state 54, the test accuracy is: 0.32432396870971214\n",
      "\n",
      "\n",
      "at random state 55, the train accuracy is: 0.3574716980390361\n",
      "at random state 55, the test accuracy is: 0.29972189664595283\n",
      "\n",
      "\n",
      "at random state 56, the train accuracy is: 0.31523384890813033\n",
      "at random state 56, the test accuracy is: 0.46276347848602994\n",
      "\n",
      "\n",
      "at random state 57, the train accuracy is: 0.3510562796084098\n",
      "at random state 57, the test accuracy is: 0.3386782875198512\n",
      "\n",
      "\n",
      "at random state 58, the train accuracy is: 0.34229855034843526\n",
      "at random state 58, the test accuracy is: 0.38225347558786715\n",
      "\n",
      "\n",
      "at random state 59, the train accuracy is: 0.35073019938114547\n",
      "at random state 59, the test accuracy is: 0.325850450187424\n",
      "\n",
      "\n",
      "at random state 60, the train accuracy is: 0.3714197671015448\n",
      "at random state 60, the test accuracy is: 0.25420678335424796\n",
      "\n",
      "\n",
      "at random state 61, the train accuracy is: 0.3213789003090025\n",
      "at random state 61, the test accuracy is: 0.4540919982203374\n",
      "\n",
      "\n",
      "at random state 62, the train accuracy is: 0.3566078547031464\n",
      "at random state 62, the test accuracy is: 0.31909408551168605\n",
      "\n",
      "\n",
      "at random state 63, the train accuracy is: 0.36424623835742465\n",
      "at random state 63, the test accuracy is: 0.28827958747012905\n",
      "\n",
      "\n",
      "at random state 64, the train accuracy is: 0.3444114018783293\n",
      "at random state 64, the test accuracy is: 0.35172864791783776\n",
      "\n",
      "\n",
      "at random state 65, the train accuracy is: 0.36686875892955706\n",
      "at random state 65, the test accuracy is: 0.23004018985942776\n",
      "\n",
      "\n",
      "at random state 66, the train accuracy is: 0.3363634183226335\n",
      "at random state 66, the test accuracy is: 0.400497250062823\n",
      "\n",
      "\n",
      "at random state 67, the train accuracy is: 0.34508291183639717\n",
      "at random state 67, the test accuracy is: 0.19495221992170808\n",
      "\n",
      "\n",
      "at random state 68, the train accuracy is: 0.3692072830458033\n",
      "at random state 68, the test accuracy is: 0.2617709738833136\n",
      "\n",
      "\n",
      "at random state 69, the train accuracy is: 0.36373160222072054\n",
      "at random state 69, the test accuracy is: 0.2880584742083824\n",
      "\n",
      "\n",
      "at random state 70, the train accuracy is: 0.3722601800298555\n",
      "at random state 70, the test accuracy is: 0.25143205621526266\n",
      "\n",
      "\n",
      "at random state 71, the train accuracy is: 0.3365488328811662\n",
      "at random state 71, the test accuracy is: 0.3941463416614751\n",
      "\n",
      "\n",
      "at random state 72, the train accuracy is: 0.3348322647403911\n",
      "at random state 72, the test accuracy is: 0.3924148858405855\n",
      "\n",
      "\n",
      "at random state 73, the train accuracy is: 0.34797159051196425\n",
      "at random state 73, the test accuracy is: 0.3559077537736347\n",
      "\n",
      "\n",
      "at random state 74, the train accuracy is: 0.3181918473611334\n",
      "at random state 74, the test accuracy is: 0.4672859213360939\n",
      "\n",
      "\n",
      "at random state 75, the train accuracy is: 0.371439042664354\n",
      "at random state 75, the test accuracy is: 0.2328011402044864\n",
      "\n",
      "\n",
      "at random state 76, the train accuracy is: 0.3470990707575984\n",
      "at random state 76, the test accuracy is: 0.34877945380283826\n",
      "\n",
      "\n",
      "at random state 77, the train accuracy is: 0.3171172175452329\n",
      "at random state 77, the test accuracy is: 0.4887415554185218\n",
      "\n",
      "\n",
      "at random state 78, the train accuracy is: 0.3295238662550696\n",
      "at random state 78, the test accuracy is: 0.42271700178277316\n",
      "\n",
      "\n",
      "at random state 79, the train accuracy is: 0.3013975185778832\n",
      "at random state 79, the test accuracy is: 0.48710442409677657\n",
      "\n",
      "\n",
      "at random state 80, the train accuracy is: 0.35220409246736306\n",
      "at random state 80, the test accuracy is: 0.33704571179985443\n",
      "\n",
      "\n",
      "at random state 81, the train accuracy is: 0.365944481338049\n",
      "at random state 81, the test accuracy is: 0.2760277223171764\n",
      "\n",
      "\n",
      "at random state 82, the train accuracy is: 0.3896302854157391\n",
      "at random state 82, the test accuracy is: 0.11114168994301454\n",
      "\n",
      "\n",
      "at random state 83, the train accuracy is: 0.37409779303922763\n",
      "at random state 83, the test accuracy is: 0.2301915516195282\n",
      "\n",
      "\n",
      "at random state 84, the train accuracy is: 0.3451669641543996\n",
      "at random state 84, the test accuracy is: 0.3551474359765149\n",
      "\n",
      "\n",
      "at random state 85, the train accuracy is: 0.32781614735425035\n",
      "at random state 85, the test accuracy is: 0.41281659709506724\n",
      "\n",
      "\n",
      "at random state 86, the train accuracy is: 0.3585743349781906\n",
      "at random state 86, the test accuracy is: 0.28583599089641\n",
      "\n",
      "\n",
      "at random state 87, the train accuracy is: 0.3522179023363813\n",
      "at random state 87, the test accuracy is: 0.329106617874678\n",
      "\n",
      "\n",
      "at random state 88, the train accuracy is: 0.34494861451029524\n",
      "at random state 88, the test accuracy is: 0.35402945677803155\n",
      "\n",
      "\n",
      "at random state 89, the train accuracy is: 0.34616528959085446\n",
      "at random state 89, the test accuracy is: 0.33388308871899963\n",
      "\n",
      "\n",
      "at random state 90, the train accuracy is: 0.3568680332980506\n",
      "at random state 90, the test accuracy is: 0.30933614225542205\n",
      "\n",
      "\n",
      "at random state 91, the train accuracy is: 0.3500430573939415\n",
      "at random state 91, the test accuracy is: 0.34412874345881206\n",
      "\n",
      "\n",
      "at random state 92, the train accuracy is: 0.341135363278816\n",
      "at random state 92, the test accuracy is: 0.35660543721182536\n",
      "\n",
      "\n",
      "at random state 93, the train accuracy is: 0.34140986727399536\n",
      "at random state 93, the test accuracy is: 0.3589245693605022\n",
      "\n",
      "\n",
      "at random state 94, the train accuracy is: 0.3501249530062155\n",
      "at random state 94, the test accuracy is: 0.34836321870397535\n",
      "\n",
      "\n",
      "at random state 95, the train accuracy is: 0.37846661126558523\n",
      "at random state 95, the test accuracy is: 0.23714030792120755\n",
      "\n",
      "\n",
      "at random state 96, the train accuracy is: 0.3340285985918533\n",
      "at random state 96, the test accuracy is: 0.38920823505648316\n",
      "\n",
      "\n",
      "at random state 97, the train accuracy is: 0.34653500432325735\n",
      "at random state 97, the test accuracy is: 0.30566911568631283\n",
      "\n",
      "\n",
      "at random state 98, the train accuracy is: 0.3442321701406005\n",
      "at random state 98, the test accuracy is: 0.36991260971253515\n",
      "\n",
      "\n",
      "at random state 99, the train accuracy is: 0.3471512028960211\n",
      "at random state 99, the test accuracy is: 0.3465827725838143\n",
      "\n",
      "\n"
     ]
    }
   ],
   "source": [
    "#Scaling the data using min max scaler\n",
    "from sklearn.preprocessing import MinMaxScaler\n",
    "from sklearn.linear_model import LinearRegression\n",
    "from sklearn.metrics import r2_score\n",
    "from sklearn.model_selection import train_test_split\n",
    "import warnings\n",
    "mms = MinMaxScaler()\n",
    "lr = LinearRegression()\n",
    "warnings.filterwarnings(\"ignore\")\n",
    "for i in range(0,100):\n",
    "    features_train, features_test, target_train, target_test = train_test_split(features,target,test_size = 0.2,random_state =i)\n",
    "    lr.fit(features_train,target_train)\n",
    "    pred_train = lr.predict(features_train)\n",
    "    pred_test = lr.predict(features_test)\n",
    "    print(f\"at random state {i}, the train accuracy is: {r2_score(target_train,pred_train)}\")\n",
    "    print(f\"at random state {i}, the test accuracy is: {r2_score(target_test,pred_test)}\")\n",
    "    print(\"\\n\")"
   ]
  },
  {
   "cell_type": "code",
   "execution_count": 99,
   "id": "84fa1fb2",
   "metadata": {},
   "outputs": [
    {
     "name": "stdout",
     "output_type": "stream",
     "text": [
      "0.5086207408821504\n"
     ]
    }
   ],
   "source": [
    "#we are selecting random state as 80 because at i=80 we are getting highest test accuracy\n",
    "features_train, features_test, target_train, target_test = train_test_split(features,target,test_size = 0.2,random_state =80)\n",
    "#training the model\n",
    "lr.fit(features_train,target_train)\n",
    "#Predicting values\n",
    "pred_test = lr.predict(features_test)\n",
    "print(r2_score(target_test,pred_test))"
   ]
  },
  {
   "cell_type": "code",
   "execution_count": 100,
   "id": "342bbc36",
   "metadata": {},
   "outputs": [
    {
     "name": "stdout",
     "output_type": "stream",
     "text": [
      "At cross fold 2 the cv score is: 0.3270801167406512 and accuracy score for training is: -0.4221638641130263 and accuracy for testing is: 0.5086207408821504\n",
      "\n",
      "\n",
      "At cross fold 3 the cv score is: 0.3203328673059879 and accuracy score for training is: -0.4221638641130263 and accuracy for testing is: 0.5086207408821504\n",
      "\n",
      "\n",
      "At cross fold 4 the cv score is: 0.3218196693768362 and accuracy score for training is: -0.4221638641130263 and accuracy for testing is: 0.5086207408821504\n",
      "\n",
      "\n",
      "At cross fold 5 the cv score is: 0.29569928663871775 and accuracy score for training is: -0.4221638641130263 and accuracy for testing is: 0.5086207408821504\n",
      "\n",
      "\n",
      "At cross fold 6 the cv score is: 0.33096341839295546 and accuracy score for training is: -0.4221638641130263 and accuracy for testing is: 0.5086207408821504\n",
      "\n",
      "\n",
      "At cross fold 7 the cv score is: 0.3257704419996536 and accuracy score for training is: -0.4221638641130263 and accuracy for testing is: 0.5086207408821504\n",
      "\n",
      "\n",
      "At cross fold 8 the cv score is: 0.3310060584513582 and accuracy score for training is: -0.4221638641130263 and accuracy for testing is: 0.5086207408821504\n",
      "\n",
      "\n",
      "At cross fold 9 the cv score is: 0.3043911239889371 and accuracy score for training is: -0.4221638641130263 and accuracy for testing is: 0.5086207408821504\n",
      "\n",
      "\n"
     ]
    }
   ],
   "source": [
    "#Cross validation of model\n",
    "Training_accuracy = r2_score(target_train,pred_train)\n",
    "Test_accuracy = r2_score(target_test,pred_test)\n",
    "from sklearn.model_selection import cross_val_score\n",
    "#Checking at what random state we have highest cross validation score and test accuracy\n",
    "for j in range(2,10):\n",
    "    cv_score = cross_val_score(lr,features,target,cv=j)#cv = j means my data will be divided into j equal parts\n",
    "    cv_mean= cv_score.mean()\n",
    "    print(f\"At cross fold {j} the cv score is: {cv_mean} and accuracy score for training is: {Training_accuracy} and accuracy for testing is: {Test_accuracy}\")\n",
    "    print(\"\\n\")      "
   ]
  },
  {
   "cell_type": "markdown",
   "id": "af198192",
   "metadata": {},
   "source": [
    "Since we have highest cv score in cross fold 8 So we will select j=8 (as no impact of j on test score )"
   ]
  },
  {
   "cell_type": "code",
   "execution_count": 101,
   "id": "8e8e1050",
   "metadata": {},
   "outputs": [],
   "source": [
    "cv_score = cross_val_score(lr,features,target,cv=8)#cv = j means my data will be divided into j equal parts\n",
    "cv_mean= cv_score.mean()"
   ]
  },
  {
   "cell_type": "code",
   "execution_count": 102,
   "id": "f835111c",
   "metadata": {},
   "outputs": [
    {
     "data": {
      "image/png": "[encoded data removed]",
      "text/plain": [
       "<Figure size 576x432 with 1 Axes>"
      ]
     },
     "metadata": {
      "needs_background": "light"
     },
     "output_type": "display_data"
    }
   ],
   "source": [
    "#drawing scatterplot to confirm the best fit line\n",
    "import matplotlib.pyplot as plt\n",
    "plt.figure(figsize = (8,6))\n",
    "plt.scatter(x= target_test,y=pred_test,color = \"r\")\n",
    "plt.plot(target_test,target_test, color = \"b\")\n",
    "plt.xlabel(\"Actual Charges\",fontsize = 14)\n",
    "plt.ylabel(\"Predicted Charges\", fontsize = 14)\n",
    "plt.title(\"Linear Regression\", fontsize = 18)\n",
    "plt.savefig(\"lr.png\")\n",
    "plt.show()"
   ]
  },
  {
   "cell_type": "markdown",
   "id": "844cf777",
   "metadata": {},
   "source": [
    "best fit line is covering most of the datapoints which shows good fit of our model"
   ]
  },
  {
   "cell_type": "code",
   "execution_count": 103,
   "id": "8b62a5b1",
   "metadata": {},
   "outputs": [
    {
     "name": "stdout",
     "output_type": "stream",
     "text": [
      "{'alpha': 10, 'random_state': 0}\n"
     ]
    }
   ],
   "source": [
    "#regularization to remove overfitting and underfitting\n",
    "from sklearn.model_selection import GridSearchCV\n",
    "from sklearn.model_selection import cross_val_score\n",
    "import warnings\n",
    "warnings.filterwarnings(\"ignore\")\n",
    "from sklearn.linear_model import Lasso\n",
    "parameters = {'alpha':[0.0001,0.001,0.01,0.1,1,10],'random_state':list(range(0,10))}\n",
    "ls =Lasso()\n",
    "clf = GridSearchCV(ls,parameters)\n",
    "clf.fit(features_train,target_train)\n",
    "print(clf.best_params_)"
   ]
  },
  {
   "cell_type": "code",
   "execution_count": 104,
   "id": "c27b90bd",
   "metadata": {},
   "outputs": [
    {
     "data": {
      "text/plain": [
       "34.89156872247868"
      ]
     },
     "execution_count": 104,
     "metadata": {},
     "output_type": "execute_result"
    }
   ],
   "source": [
    "#training as per best params\n",
    "ls =Lasso(alpha =10, random_state = 0)\n",
    "ls.fit(features_train,target_train)\n",
    "ls_score_training=ls.score(features_train,target_train)\n",
    "pred_ls = ls.predict(features_test)\n",
    "ls_score_training*100"
   ]
  },
  {
   "cell_type": "code",
   "execution_count": 105,
   "id": "ac569dbf",
   "metadata": {},
   "outputs": [
    {
     "data": {
      "text/plain": [
       "50.84240592815815"
      ]
     },
     "execution_count": 105,
     "metadata": {},
     "output_type": "execute_result"
    }
   ],
   "source": [
    "#getting ls score\n",
    "lss = r2_score(target_test,pred_ls)\n",
    "lss*100"
   ]
  },
  {
   "cell_type": "code",
   "execution_count": 106,
   "id": "e7e58b91",
   "metadata": {},
   "outputs": [
    {
     "data": {
      "text/plain": [
       "29.575407060855934"
      ]
     },
     "execution_count": 106,
     "metadata": {},
     "output_type": "execute_result"
    }
   ],
   "source": [
    "#getting cv score\n",
    "cv_score = cross_val_score(ls,features,target,cv=5)\n",
    "cv_mean = cv_score.mean()\n",
    "cv_mean*100"
   ]
  },
  {
   "cell_type": "code",
   "execution_count": 107,
   "id": "b577d7ac",
   "metadata": {},
   "outputs": [
    {
     "name": "stdout",
     "output_type": "stream",
     "text": [
      "{'criterion': 'mse', 'max_features': 'log2'}\n"
     ]
    },
    {
     "data": {
      "text/plain": [
       "29.575407060855934"
      ]
     },
     "execution_count": 107,
     "metadata": {},
     "output_type": "execute_result"
    }
   ],
   "source": [
    "#Ensembling\n",
    "from sklearn.model_selection import GridSearchCV\n",
    "from sklearn.ensemble import RandomForestRegressor\n",
    "import warnings\n",
    "warnings.filterwarnings(\"ignore\")\n",
    "from sklearn.linear_model import Lasso\n",
    "parameters = {'criterion':['mse','mse'],'max_features':[\"auto\",\"sqrt\",\"log2\"]}\n",
    "rf =RandomForestRegressor()\n",
    "clf = GridSearchCV(rf,parameters)\n",
    "clf.fit(features_train,target_train)\n",
    "print(clf.best_params_)\n",
    "#training as per best params\n",
    "rf =RandomForestRegressor(criterion =\"mae\", max_features = \"auto\")\n",
    "rf.fit(features_train,target_train)\n",
    "rf.score(features_train,target_train)\n",
    "pred_decision = rf.predict(features_test)\n",
    "#getting ls score\n",
    "rfs= r2_score(target_test,pred_ls)\n",
    "rfs*100\n",
    "#getting cv score\n",
    "rf_score = cross_val_score(rf,features,target,cv=5)\n",
    "rf_mean = cv_score.mean()\n",
    "rf_mean*100"
   ]
  },
  {
   "cell_type": "code",
   "execution_count": 108,
   "id": "f5222424",
   "metadata": {},
   "outputs": [
    {
     "name": "stdout",
     "output_type": "stream",
     "text": [
      "35.90631897905322\n"
     ]
    },
    {
     "data": {
      "text/html": [
       "<div>\n",
       "<style scoped>\n",
       "    .dataframe tbody tr th:only-of-type {\n",
       "        vertical-align: middle;\n",
       "    }\n",
       "\n",
       "    .dataframe tbody tr th {\n",
       "        vertical-align: top;\n",
       "    }\n",
       "\n",
       "    .dataframe thead th {\n",
       "        text-align: right;\n",
       "    }\n",
       "</style>\n",
       "<table border=\"1\" class=\"dataframe\">\n",
       "  <thead>\n",
       "    <tr style=\"text-align: right;\">\n",
       "      <th></th>\n",
       "      <th>0</th>\n",
       "      <th>1</th>\n",
       "      <th>2</th>\n",
       "      <th>3</th>\n",
       "      <th>4</th>\n",
       "      <th>5</th>\n",
       "      <th>6</th>\n",
       "      <th>7</th>\n",
       "      <th>8</th>\n",
       "      <th>9</th>\n",
       "      <th>...</th>\n",
       "      <th>70</th>\n",
       "      <th>71</th>\n",
       "      <th>72</th>\n",
       "      <th>73</th>\n",
       "      <th>74</th>\n",
       "      <th>75</th>\n",
       "      <th>76</th>\n",
       "      <th>77</th>\n",
       "      <th>78</th>\n",
       "      <th>79</th>\n",
       "    </tr>\n",
       "  </thead>\n",
       "  <tbody>\n",
       "    <tr>\n",
       "      <th>Predicted</th>\n",
       "      <td>145544.49</td>\n",
       "      <td>126905.42</td>\n",
       "      <td>109673.215</td>\n",
       "      <td>103131.14</td>\n",
       "      <td>125094.65</td>\n",
       "      <td>108367.355</td>\n",
       "      <td>110704.81</td>\n",
       "      <td>73842.52</td>\n",
       "      <td>81856.5</td>\n",
       "      <td>97168.915</td>\n",
       "      <td>...</td>\n",
       "      <td>87874.475</td>\n",
       "      <td>142391.315</td>\n",
       "      <td>115730.76</td>\n",
       "      <td>85972.985</td>\n",
       "      <td>114027.48</td>\n",
       "      <td>181718.01</td>\n",
       "      <td>146019.455</td>\n",
       "      <td>83713.88</td>\n",
       "      <td>99219.88</td>\n",
       "      <td>108178.35</td>\n",
       "    </tr>\n",
       "    <tr>\n",
       "      <th>Original</th>\n",
       "      <td>145544.49</td>\n",
       "      <td>126905.42</td>\n",
       "      <td>109673.215</td>\n",
       "      <td>103131.14</td>\n",
       "      <td>125094.65</td>\n",
       "      <td>108367.355</td>\n",
       "      <td>110704.81</td>\n",
       "      <td>73842.52</td>\n",
       "      <td>81856.5</td>\n",
       "      <td>97168.915</td>\n",
       "      <td>...</td>\n",
       "      <td>87874.475</td>\n",
       "      <td>142391.315</td>\n",
       "      <td>115730.76</td>\n",
       "      <td>85972.985</td>\n",
       "      <td>114027.48</td>\n",
       "      <td>181718.01</td>\n",
       "      <td>146019.455</td>\n",
       "      <td>83713.88</td>\n",
       "      <td>99219.88</td>\n",
       "      <td>108178.35</td>\n",
       "    </tr>\n",
       "  </tbody>\n",
       "</table>\n",
       "<p>2 rows × 80 columns</p>\n",
       "</div>"
      ],
      "text/plain": [
       "                  0          1           2          3          4           5   \\\n",
       "Predicted  145544.49  126905.42  109673.215  103131.14  125094.65  108367.355   \n",
       "Original   145544.49  126905.42  109673.215  103131.14  125094.65  108367.355   \n",
       "\n",
       "                  6         7        8          9   ...         70  \\\n",
       "Predicted  110704.81  73842.52  81856.5  97168.915  ...  87874.475   \n",
       "Original   110704.81  73842.52  81856.5  97168.915  ...  87874.475   \n",
       "\n",
       "                   71         72         73         74         75          76  \\\n",
       "Predicted  142391.315  115730.76  85972.985  114027.48  181718.01  146019.455   \n",
       "Original   142391.315  115730.76  85972.985  114027.48  181718.01  146019.455   \n",
       "\n",
       "                 77        78         79  \n",
       "Predicted  83713.88  99219.88  108178.35  \n",
       "Original   83713.88  99219.88  108178.35  \n",
       "\n",
       "[2 rows x 80 columns]"
      ]
     },
     "execution_count": 108,
     "metadata": {},
     "output_type": "execute_result"
    }
   ],
   "source": [
    "#Saving and loading the model\n",
    "import pickle\n",
    "file_name = \"churn.pkl\"\n",
    "pickle.dump(rf,open(file_name,\"wb\"))\n",
    "#loading model\n",
    "loaded_model = pickle.load(open(\"churn.pkl\",\"rb\"))\n",
    "result = loaded_model.score(features_test,target_test)\n",
    "print(result*100)\n",
    "conclusion =pd.DataFrame([loaded_model.predict(features_test)[:],pred_decision[:]],index = [\"Predicted\",\"Original\"])\n",
    "conclusion"
   ]
  },
  {
   "cell_type": "code",
   "execution_count": null,
   "id": "e876a9ad",
   "metadata": {},
   "outputs": [],
   "source": []
  }
 ],
 "metadata": {
  "kernelspec": {
   "display_name": "Python 3",
   "language": "python",
   "name": "python3"
  },
  "language_info": {
   "codemirror_mode": {
    "name": "ipython",
    "version": 3
   },
   "file_extension": ".py",
   "mimetype": "text/x-python",
   "name": "python",
   "nbconvert_exporter": "python",
   "pygments_lexer": "ipython3",
   "version": "3.8.8"
  }
 },
 "nbformat": 4,
 "nbformat_minor": 5
}
